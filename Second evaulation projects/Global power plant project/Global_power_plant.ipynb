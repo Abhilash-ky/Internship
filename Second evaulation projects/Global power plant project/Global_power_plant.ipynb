{
 "cells": [
  {
   "cell_type": "code",
   "execution_count": 1,
   "id": "9dddf702",
   "metadata": {},
   "outputs": [],
   "source": [
    "import pandas as pd\n",
    "import numpy as np\n",
    "import matplotlib.pyplot as plt\n",
    "import warnings\n",
    "warnings.filterwarnings('ignore')"
   ]
  },
  {
   "cell_type": "code",
   "execution_count": 2,
   "id": "53e3b1ba",
   "metadata": {},
   "outputs": [
    {
     "data": {
      "text/html": [
       "<div>\n",
       "<style scoped>\n",
       "    .dataframe tbody tr th:only-of-type {\n",
       "        vertical-align: middle;\n",
       "    }\n",
       "\n",
       "    .dataframe tbody tr th {\n",
       "        vertical-align: top;\n",
       "    }\n",
       "\n",
       "    .dataframe thead th {\n",
       "        text-align: right;\n",
       "    }\n",
       "</style>\n",
       "<table border=\"1\" class=\"dataframe\">\n",
       "  <thead>\n",
       "    <tr style=\"text-align: right;\">\n",
       "      <th></th>\n",
       "      <th>country</th>\n",
       "      <th>country_long</th>\n",
       "      <th>name</th>\n",
       "      <th>gppd_idnr</th>\n",
       "      <th>capacity_mw</th>\n",
       "      <th>latitude</th>\n",
       "      <th>longitude</th>\n",
       "      <th>primary_fuel</th>\n",
       "      <th>other_fuel1</th>\n",
       "      <th>other_fuel2</th>\n",
       "      <th>...</th>\n",
       "      <th>year_of_capacity_data</th>\n",
       "      <th>generation_gwh_2013</th>\n",
       "      <th>generation_gwh_2014</th>\n",
       "      <th>generation_gwh_2015</th>\n",
       "      <th>generation_gwh_2016</th>\n",
       "      <th>generation_gwh_2017</th>\n",
       "      <th>generation_gwh_2018</th>\n",
       "      <th>generation_gwh_2019</th>\n",
       "      <th>generation_data_source</th>\n",
       "      <th>estimated_generation_gwh</th>\n",
       "    </tr>\n",
       "  </thead>\n",
       "  <tbody>\n",
       "    <tr>\n",
       "      <th>0</th>\n",
       "      <td>IND</td>\n",
       "      <td>India</td>\n",
       "      <td>ACME Solar Tower</td>\n",
       "      <td>WRI1020239</td>\n",
       "      <td>2.5</td>\n",
       "      <td>28.1839</td>\n",
       "      <td>73.2407</td>\n",
       "      <td>Solar</td>\n",
       "      <td>NaN</td>\n",
       "      <td>NaN</td>\n",
       "      <td>...</td>\n",
       "      <td>NaN</td>\n",
       "      <td>NaN</td>\n",
       "      <td>NaN</td>\n",
       "      <td>NaN</td>\n",
       "      <td>NaN</td>\n",
       "      <td>NaN</td>\n",
       "      <td>NaN</td>\n",
       "      <td>NaN</td>\n",
       "      <td>NaN</td>\n",
       "      <td>NaN</td>\n",
       "    </tr>\n",
       "    <tr>\n",
       "      <th>1</th>\n",
       "      <td>IND</td>\n",
       "      <td>India</td>\n",
       "      <td>ADITYA CEMENT WORKS</td>\n",
       "      <td>WRI1019881</td>\n",
       "      <td>98.0</td>\n",
       "      <td>24.7663</td>\n",
       "      <td>74.6090</td>\n",
       "      <td>Coal</td>\n",
       "      <td>NaN</td>\n",
       "      <td>NaN</td>\n",
       "      <td>...</td>\n",
       "      <td>NaN</td>\n",
       "      <td>NaN</td>\n",
       "      <td>NaN</td>\n",
       "      <td>NaN</td>\n",
       "      <td>NaN</td>\n",
       "      <td>NaN</td>\n",
       "      <td>NaN</td>\n",
       "      <td>NaN</td>\n",
       "      <td>NaN</td>\n",
       "      <td>NaN</td>\n",
       "    </tr>\n",
       "    <tr>\n",
       "      <th>2</th>\n",
       "      <td>IND</td>\n",
       "      <td>India</td>\n",
       "      <td>AES Saurashtra Windfarms</td>\n",
       "      <td>WRI1026669</td>\n",
       "      <td>39.2</td>\n",
       "      <td>21.9038</td>\n",
       "      <td>69.3732</td>\n",
       "      <td>Wind</td>\n",
       "      <td>NaN</td>\n",
       "      <td>NaN</td>\n",
       "      <td>...</td>\n",
       "      <td>NaN</td>\n",
       "      <td>NaN</td>\n",
       "      <td>NaN</td>\n",
       "      <td>NaN</td>\n",
       "      <td>NaN</td>\n",
       "      <td>NaN</td>\n",
       "      <td>NaN</td>\n",
       "      <td>NaN</td>\n",
       "      <td>NaN</td>\n",
       "      <td>NaN</td>\n",
       "    </tr>\n",
       "    <tr>\n",
       "      <th>3</th>\n",
       "      <td>IND</td>\n",
       "      <td>India</td>\n",
       "      <td>AGARTALA GT</td>\n",
       "      <td>IND0000001</td>\n",
       "      <td>135.0</td>\n",
       "      <td>23.8712</td>\n",
       "      <td>91.3602</td>\n",
       "      <td>Gas</td>\n",
       "      <td>NaN</td>\n",
       "      <td>NaN</td>\n",
       "      <td>...</td>\n",
       "      <td>2019.0</td>\n",
       "      <td>NaN</td>\n",
       "      <td>617.789264</td>\n",
       "      <td>843.747000</td>\n",
       "      <td>886.004428</td>\n",
       "      <td>663.774500</td>\n",
       "      <td>626.239128</td>\n",
       "      <td>NaN</td>\n",
       "      <td>Central Electricity Authority</td>\n",
       "      <td>NaN</td>\n",
       "    </tr>\n",
       "    <tr>\n",
       "      <th>4</th>\n",
       "      <td>IND</td>\n",
       "      <td>India</td>\n",
       "      <td>AKALTARA TPP</td>\n",
       "      <td>IND0000002</td>\n",
       "      <td>1800.0</td>\n",
       "      <td>21.9603</td>\n",
       "      <td>82.4091</td>\n",
       "      <td>Coal</td>\n",
       "      <td>Oil</td>\n",
       "      <td>NaN</td>\n",
       "      <td>...</td>\n",
       "      <td>2019.0</td>\n",
       "      <td>NaN</td>\n",
       "      <td>3035.550000</td>\n",
       "      <td>5916.370000</td>\n",
       "      <td>6243.000000</td>\n",
       "      <td>5385.579736</td>\n",
       "      <td>7279.000000</td>\n",
       "      <td>NaN</td>\n",
       "      <td>Central Electricity Authority</td>\n",
       "      <td>NaN</td>\n",
       "    </tr>\n",
       "    <tr>\n",
       "      <th>...</th>\n",
       "      <td>...</td>\n",
       "      <td>...</td>\n",
       "      <td>...</td>\n",
       "      <td>...</td>\n",
       "      <td>...</td>\n",
       "      <td>...</td>\n",
       "      <td>...</td>\n",
       "      <td>...</td>\n",
       "      <td>...</td>\n",
       "      <td>...</td>\n",
       "      <td>...</td>\n",
       "      <td>...</td>\n",
       "      <td>...</td>\n",
       "      <td>...</td>\n",
       "      <td>...</td>\n",
       "      <td>...</td>\n",
       "      <td>...</td>\n",
       "      <td>...</td>\n",
       "      <td>...</td>\n",
       "      <td>...</td>\n",
       "      <td>...</td>\n",
       "    </tr>\n",
       "    <tr>\n",
       "      <th>902</th>\n",
       "      <td>IND</td>\n",
       "      <td>India</td>\n",
       "      <td>YERMARUS TPP</td>\n",
       "      <td>IND0000513</td>\n",
       "      <td>1600.0</td>\n",
       "      <td>16.2949</td>\n",
       "      <td>77.3568</td>\n",
       "      <td>Coal</td>\n",
       "      <td>Oil</td>\n",
       "      <td>NaN</td>\n",
       "      <td>...</td>\n",
       "      <td>2019.0</td>\n",
       "      <td>NaN</td>\n",
       "      <td>NaN</td>\n",
       "      <td>0.994875</td>\n",
       "      <td>233.596650</td>\n",
       "      <td>865.400000</td>\n",
       "      <td>686.500000</td>\n",
       "      <td>NaN</td>\n",
       "      <td>Central Electricity Authority</td>\n",
       "      <td>NaN</td>\n",
       "    </tr>\n",
       "    <tr>\n",
       "      <th>903</th>\n",
       "      <td>IND</td>\n",
       "      <td>India</td>\n",
       "      <td>Yelesandra Solar Power Plant</td>\n",
       "      <td>WRI1026222</td>\n",
       "      <td>3.0</td>\n",
       "      <td>12.8932</td>\n",
       "      <td>78.1654</td>\n",
       "      <td>Solar</td>\n",
       "      <td>NaN</td>\n",
       "      <td>NaN</td>\n",
       "      <td>...</td>\n",
       "      <td>NaN</td>\n",
       "      <td>NaN</td>\n",
       "      <td>NaN</td>\n",
       "      <td>NaN</td>\n",
       "      <td>NaN</td>\n",
       "      <td>NaN</td>\n",
       "      <td>NaN</td>\n",
       "      <td>NaN</td>\n",
       "      <td>NaN</td>\n",
       "      <td>NaN</td>\n",
       "    </tr>\n",
       "    <tr>\n",
       "      <th>904</th>\n",
       "      <td>IND</td>\n",
       "      <td>India</td>\n",
       "      <td>Yelisirur wind power project</td>\n",
       "      <td>WRI1026776</td>\n",
       "      <td>25.5</td>\n",
       "      <td>15.2758</td>\n",
       "      <td>75.5811</td>\n",
       "      <td>Wind</td>\n",
       "      <td>NaN</td>\n",
       "      <td>NaN</td>\n",
       "      <td>...</td>\n",
       "      <td>NaN</td>\n",
       "      <td>NaN</td>\n",
       "      <td>NaN</td>\n",
       "      <td>NaN</td>\n",
       "      <td>NaN</td>\n",
       "      <td>NaN</td>\n",
       "      <td>NaN</td>\n",
       "      <td>NaN</td>\n",
       "      <td>NaN</td>\n",
       "      <td>NaN</td>\n",
       "    </tr>\n",
       "    <tr>\n",
       "      <th>905</th>\n",
       "      <td>IND</td>\n",
       "      <td>India</td>\n",
       "      <td>ZAWAR MINES</td>\n",
       "      <td>WRI1019901</td>\n",
       "      <td>80.0</td>\n",
       "      <td>24.3500</td>\n",
       "      <td>73.7477</td>\n",
       "      <td>Coal</td>\n",
       "      <td>NaN</td>\n",
       "      <td>NaN</td>\n",
       "      <td>...</td>\n",
       "      <td>NaN</td>\n",
       "      <td>NaN</td>\n",
       "      <td>NaN</td>\n",
       "      <td>NaN</td>\n",
       "      <td>NaN</td>\n",
       "      <td>NaN</td>\n",
       "      <td>NaN</td>\n",
       "      <td>NaN</td>\n",
       "      <td>NaN</td>\n",
       "      <td>NaN</td>\n",
       "    </tr>\n",
       "    <tr>\n",
       "      <th>906</th>\n",
       "      <td>IND</td>\n",
       "      <td>India</td>\n",
       "      <td>iEnergy Theni Wind Farm</td>\n",
       "      <td>WRI1026761</td>\n",
       "      <td>16.5</td>\n",
       "      <td>9.9344</td>\n",
       "      <td>77.4768</td>\n",
       "      <td>Wind</td>\n",
       "      <td>NaN</td>\n",
       "      <td>NaN</td>\n",
       "      <td>...</td>\n",
       "      <td>NaN</td>\n",
       "      <td>NaN</td>\n",
       "      <td>NaN</td>\n",
       "      <td>NaN</td>\n",
       "      <td>NaN</td>\n",
       "      <td>NaN</td>\n",
       "      <td>NaN</td>\n",
       "      <td>NaN</td>\n",
       "      <td>NaN</td>\n",
       "      <td>NaN</td>\n",
       "    </tr>\n",
       "  </tbody>\n",
       "</table>\n",
       "<p>907 rows × 27 columns</p>\n",
       "</div>"
      ],
      "text/plain": [
       "    country country_long                          name   gppd_idnr  \\\n",
       "0       IND        India              ACME Solar Tower  WRI1020239   \n",
       "1       IND        India           ADITYA CEMENT WORKS  WRI1019881   \n",
       "2       IND        India      AES Saurashtra Windfarms  WRI1026669   \n",
       "3       IND        India                   AGARTALA GT  IND0000001   \n",
       "4       IND        India                  AKALTARA TPP  IND0000002   \n",
       "..      ...          ...                           ...         ...   \n",
       "902     IND        India                  YERMARUS TPP  IND0000513   \n",
       "903     IND        India  Yelesandra Solar Power Plant  WRI1026222   \n",
       "904     IND        India  Yelisirur wind power project  WRI1026776   \n",
       "905     IND        India                   ZAWAR MINES  WRI1019901   \n",
       "906     IND        India       iEnergy Theni Wind Farm  WRI1026761   \n",
       "\n",
       "     capacity_mw  latitude  longitude primary_fuel other_fuel1 other_fuel2  \\\n",
       "0            2.5   28.1839    73.2407        Solar         NaN         NaN   \n",
       "1           98.0   24.7663    74.6090         Coal         NaN         NaN   \n",
       "2           39.2   21.9038    69.3732         Wind         NaN         NaN   \n",
       "3          135.0   23.8712    91.3602          Gas         NaN         NaN   \n",
       "4         1800.0   21.9603    82.4091         Coal         Oil         NaN   \n",
       "..           ...       ...        ...          ...         ...         ...   \n",
       "902       1600.0   16.2949    77.3568         Coal         Oil         NaN   \n",
       "903          3.0   12.8932    78.1654        Solar         NaN         NaN   \n",
       "904         25.5   15.2758    75.5811         Wind         NaN         NaN   \n",
       "905         80.0   24.3500    73.7477         Coal         NaN         NaN   \n",
       "906         16.5    9.9344    77.4768         Wind         NaN         NaN   \n",
       "\n",
       "     ...  year_of_capacity_data  generation_gwh_2013 generation_gwh_2014  \\\n",
       "0    ...                    NaN                  NaN                 NaN   \n",
       "1    ...                    NaN                  NaN                 NaN   \n",
       "2    ...                    NaN                  NaN                 NaN   \n",
       "3    ...                 2019.0                  NaN          617.789264   \n",
       "4    ...                 2019.0                  NaN         3035.550000   \n",
       "..   ...                    ...                  ...                 ...   \n",
       "902  ...                 2019.0                  NaN                 NaN   \n",
       "903  ...                    NaN                  NaN                 NaN   \n",
       "904  ...                    NaN                  NaN                 NaN   \n",
       "905  ...                    NaN                  NaN                 NaN   \n",
       "906  ...                    NaN                  NaN                 NaN   \n",
       "\n",
       "    generation_gwh_2015 generation_gwh_2016 generation_gwh_2017  \\\n",
       "0                   NaN                 NaN                 NaN   \n",
       "1                   NaN                 NaN                 NaN   \n",
       "2                   NaN                 NaN                 NaN   \n",
       "3            843.747000          886.004428          663.774500   \n",
       "4           5916.370000         6243.000000         5385.579736   \n",
       "..                  ...                 ...                 ...   \n",
       "902            0.994875          233.596650          865.400000   \n",
       "903                 NaN                 NaN                 NaN   \n",
       "904                 NaN                 NaN                 NaN   \n",
       "905                 NaN                 NaN                 NaN   \n",
       "906                 NaN                 NaN                 NaN   \n",
       "\n",
       "     generation_gwh_2018  generation_gwh_2019         generation_data_source  \\\n",
       "0                    NaN                  NaN                            NaN   \n",
       "1                    NaN                  NaN                            NaN   \n",
       "2                    NaN                  NaN                            NaN   \n",
       "3             626.239128                  NaN  Central Electricity Authority   \n",
       "4            7279.000000                  NaN  Central Electricity Authority   \n",
       "..                   ...                  ...                            ...   \n",
       "902           686.500000                  NaN  Central Electricity Authority   \n",
       "903                  NaN                  NaN                            NaN   \n",
       "904                  NaN                  NaN                            NaN   \n",
       "905                  NaN                  NaN                            NaN   \n",
       "906                  NaN                  NaN                            NaN   \n",
       "\n",
       "     estimated_generation_gwh  \n",
       "0                         NaN  \n",
       "1                         NaN  \n",
       "2                         NaN  \n",
       "3                         NaN  \n",
       "4                         NaN  \n",
       "..                        ...  \n",
       "902                       NaN  \n",
       "903                       NaN  \n",
       "904                       NaN  \n",
       "905                       NaN  \n",
       "906                       NaN  \n",
       "\n",
       "[907 rows x 27 columns]"
      ]
     },
     "execution_count": 2,
     "metadata": {},
     "output_type": "execute_result"
    }
   ],
   "source": [
    "po = pd.read_csv('https://raw.githubusercontent.com/wri/global-power-plant-database/master/source_databases_csv/database_IND.csv')\n",
    "po"
   ]
  },
  {
   "cell_type": "code",
   "execution_count": 3,
   "id": "2342ac46",
   "metadata": {},
   "outputs": [
    {
     "data": {
      "text/plain": [
       "(907, 27)"
      ]
     },
     "execution_count": 3,
     "metadata": {},
     "output_type": "execute_result"
    }
   ],
   "source": [
    "po.shape"
   ]
  },
  {
   "cell_type": "markdown",
   "id": "8ca8f3c5",
   "metadata": {},
   "source": [
    "The data set contains data of India's power plants overall data with 907 rows and 27 columns"
   ]
  },
  {
   "cell_type": "code",
   "execution_count": 4,
   "id": "8845e5bd",
   "metadata": {},
   "outputs": [
    {
     "data": {
      "text/plain": [
       "Index(['country', 'country_long', 'name', 'gppd_idnr', 'capacity_mw',\n",
       "       'latitude', 'longitude', 'primary_fuel', 'other_fuel1', 'other_fuel2',\n",
       "       'other_fuel3', 'commissioning_year', 'owner', 'source', 'url',\n",
       "       'geolocation_source', 'wepp_id', 'year_of_capacity_data',\n",
       "       'generation_gwh_2013', 'generation_gwh_2014', 'generation_gwh_2015',\n",
       "       'generation_gwh_2016', 'generation_gwh_2017', 'generation_gwh_2018',\n",
       "       'generation_gwh_2019', 'generation_data_source',\n",
       "       'estimated_generation_gwh'],\n",
       "      dtype='object')"
      ]
     },
     "execution_count": 4,
     "metadata": {},
     "output_type": "execute_result"
    }
   ],
   "source": [
    "#Column names\n",
    "po.columns"
   ]
  },
  {
   "cell_type": "code",
   "execution_count": 5,
   "id": "df08d74e",
   "metadata": {},
   "outputs": [],
   "source": [
    "# To display all the columns\n",
    "pd.set_option('display.max_columns',None)"
   ]
  },
  {
   "cell_type": "code",
   "execution_count": 6,
   "id": "86069930",
   "metadata": {},
   "outputs": [
    {
     "data": {
      "text/html": [
       "<div>\n",
       "<style scoped>\n",
       "    .dataframe tbody tr th:only-of-type {\n",
       "        vertical-align: middle;\n",
       "    }\n",
       "\n",
       "    .dataframe tbody tr th {\n",
       "        vertical-align: top;\n",
       "    }\n",
       "\n",
       "    .dataframe thead th {\n",
       "        text-align: right;\n",
       "    }\n",
       "</style>\n",
       "<table border=\"1\" class=\"dataframe\">\n",
       "  <thead>\n",
       "    <tr style=\"text-align: right;\">\n",
       "      <th></th>\n",
       "      <th>country</th>\n",
       "      <th>country_long</th>\n",
       "      <th>name</th>\n",
       "      <th>gppd_idnr</th>\n",
       "      <th>capacity_mw</th>\n",
       "      <th>latitude</th>\n",
       "      <th>longitude</th>\n",
       "      <th>primary_fuel</th>\n",
       "      <th>other_fuel1</th>\n",
       "      <th>other_fuel2</th>\n",
       "      <th>other_fuel3</th>\n",
       "      <th>commissioning_year</th>\n",
       "      <th>owner</th>\n",
       "      <th>source</th>\n",
       "      <th>url</th>\n",
       "      <th>geolocation_source</th>\n",
       "      <th>wepp_id</th>\n",
       "      <th>year_of_capacity_data</th>\n",
       "      <th>generation_gwh_2013</th>\n",
       "      <th>generation_gwh_2014</th>\n",
       "      <th>generation_gwh_2015</th>\n",
       "      <th>generation_gwh_2016</th>\n",
       "      <th>generation_gwh_2017</th>\n",
       "      <th>generation_gwh_2018</th>\n",
       "      <th>generation_gwh_2019</th>\n",
       "      <th>generation_data_source</th>\n",
       "      <th>estimated_generation_gwh</th>\n",
       "    </tr>\n",
       "  </thead>\n",
       "  <tbody>\n",
       "    <tr>\n",
       "      <th>0</th>\n",
       "      <td>IND</td>\n",
       "      <td>India</td>\n",
       "      <td>ACME Solar Tower</td>\n",
       "      <td>WRI1020239</td>\n",
       "      <td>2.5</td>\n",
       "      <td>28.1839</td>\n",
       "      <td>73.2407</td>\n",
       "      <td>Solar</td>\n",
       "      <td>NaN</td>\n",
       "      <td>NaN</td>\n",
       "      <td>NaN</td>\n",
       "      <td>2011.0</td>\n",
       "      <td>Solar Paces</td>\n",
       "      <td>National Renewable Energy Laboratory</td>\n",
       "      <td>http://www.nrel.gov/csp/solarpaces/project_det...</td>\n",
       "      <td>National Renewable Energy Laboratory</td>\n",
       "      <td>NaN</td>\n",
       "      <td>NaN</td>\n",
       "      <td>NaN</td>\n",
       "      <td>NaN</td>\n",
       "      <td>NaN</td>\n",
       "      <td>NaN</td>\n",
       "      <td>NaN</td>\n",
       "      <td>NaN</td>\n",
       "      <td>NaN</td>\n",
       "      <td>NaN</td>\n",
       "      <td>NaN</td>\n",
       "    </tr>\n",
       "    <tr>\n",
       "      <th>1</th>\n",
       "      <td>IND</td>\n",
       "      <td>India</td>\n",
       "      <td>ADITYA CEMENT WORKS</td>\n",
       "      <td>WRI1019881</td>\n",
       "      <td>98.0</td>\n",
       "      <td>24.7663</td>\n",
       "      <td>74.6090</td>\n",
       "      <td>Coal</td>\n",
       "      <td>NaN</td>\n",
       "      <td>NaN</td>\n",
       "      <td>NaN</td>\n",
       "      <td>NaN</td>\n",
       "      <td>Ultratech Cement ltd</td>\n",
       "      <td>Ultratech Cement ltd</td>\n",
       "      <td>http://www.ultratechcement.com/</td>\n",
       "      <td>WRI</td>\n",
       "      <td>NaN</td>\n",
       "      <td>NaN</td>\n",
       "      <td>NaN</td>\n",
       "      <td>NaN</td>\n",
       "      <td>NaN</td>\n",
       "      <td>NaN</td>\n",
       "      <td>NaN</td>\n",
       "      <td>NaN</td>\n",
       "      <td>NaN</td>\n",
       "      <td>NaN</td>\n",
       "      <td>NaN</td>\n",
       "    </tr>\n",
       "    <tr>\n",
       "      <th>2</th>\n",
       "      <td>IND</td>\n",
       "      <td>India</td>\n",
       "      <td>AES Saurashtra Windfarms</td>\n",
       "      <td>WRI1026669</td>\n",
       "      <td>39.2</td>\n",
       "      <td>21.9038</td>\n",
       "      <td>69.3732</td>\n",
       "      <td>Wind</td>\n",
       "      <td>NaN</td>\n",
       "      <td>NaN</td>\n",
       "      <td>NaN</td>\n",
       "      <td>NaN</td>\n",
       "      <td>AES</td>\n",
       "      <td>CDM</td>\n",
       "      <td>https://cdm.unfccc.int/Projects/DB/DNV-CUK1328...</td>\n",
       "      <td>WRI</td>\n",
       "      <td>NaN</td>\n",
       "      <td>NaN</td>\n",
       "      <td>NaN</td>\n",
       "      <td>NaN</td>\n",
       "      <td>NaN</td>\n",
       "      <td>NaN</td>\n",
       "      <td>NaN</td>\n",
       "      <td>NaN</td>\n",
       "      <td>NaN</td>\n",
       "      <td>NaN</td>\n",
       "      <td>NaN</td>\n",
       "    </tr>\n",
       "    <tr>\n",
       "      <th>3</th>\n",
       "      <td>IND</td>\n",
       "      <td>India</td>\n",
       "      <td>AGARTALA GT</td>\n",
       "      <td>IND0000001</td>\n",
       "      <td>135.0</td>\n",
       "      <td>23.8712</td>\n",
       "      <td>91.3602</td>\n",
       "      <td>Gas</td>\n",
       "      <td>NaN</td>\n",
       "      <td>NaN</td>\n",
       "      <td>NaN</td>\n",
       "      <td>2004.0</td>\n",
       "      <td>NaN</td>\n",
       "      <td>Central Electricity Authority</td>\n",
       "      <td>http://www.cea.nic.in/</td>\n",
       "      <td>WRI</td>\n",
       "      <td>NaN</td>\n",
       "      <td>2019.0</td>\n",
       "      <td>NaN</td>\n",
       "      <td>617.789264</td>\n",
       "      <td>843.747000</td>\n",
       "      <td>886.004428</td>\n",
       "      <td>663.774500</td>\n",
       "      <td>626.239128</td>\n",
       "      <td>NaN</td>\n",
       "      <td>Central Electricity Authority</td>\n",
       "      <td>NaN</td>\n",
       "    </tr>\n",
       "    <tr>\n",
       "      <th>4</th>\n",
       "      <td>IND</td>\n",
       "      <td>India</td>\n",
       "      <td>AKALTARA TPP</td>\n",
       "      <td>IND0000002</td>\n",
       "      <td>1800.0</td>\n",
       "      <td>21.9603</td>\n",
       "      <td>82.4091</td>\n",
       "      <td>Coal</td>\n",
       "      <td>Oil</td>\n",
       "      <td>NaN</td>\n",
       "      <td>NaN</td>\n",
       "      <td>2015.0</td>\n",
       "      <td>NaN</td>\n",
       "      <td>Central Electricity Authority</td>\n",
       "      <td>http://www.cea.nic.in/</td>\n",
       "      <td>WRI</td>\n",
       "      <td>NaN</td>\n",
       "      <td>2019.0</td>\n",
       "      <td>NaN</td>\n",
       "      <td>3035.550000</td>\n",
       "      <td>5916.370000</td>\n",
       "      <td>6243.000000</td>\n",
       "      <td>5385.579736</td>\n",
       "      <td>7279.000000</td>\n",
       "      <td>NaN</td>\n",
       "      <td>Central Electricity Authority</td>\n",
       "      <td>NaN</td>\n",
       "    </tr>\n",
       "    <tr>\n",
       "      <th>...</th>\n",
       "      <td>...</td>\n",
       "      <td>...</td>\n",
       "      <td>...</td>\n",
       "      <td>...</td>\n",
       "      <td>...</td>\n",
       "      <td>...</td>\n",
       "      <td>...</td>\n",
       "      <td>...</td>\n",
       "      <td>...</td>\n",
       "      <td>...</td>\n",
       "      <td>...</td>\n",
       "      <td>...</td>\n",
       "      <td>...</td>\n",
       "      <td>...</td>\n",
       "      <td>...</td>\n",
       "      <td>...</td>\n",
       "      <td>...</td>\n",
       "      <td>...</td>\n",
       "      <td>...</td>\n",
       "      <td>...</td>\n",
       "      <td>...</td>\n",
       "      <td>...</td>\n",
       "      <td>...</td>\n",
       "      <td>...</td>\n",
       "      <td>...</td>\n",
       "      <td>...</td>\n",
       "      <td>...</td>\n",
       "    </tr>\n",
       "    <tr>\n",
       "      <th>902</th>\n",
       "      <td>IND</td>\n",
       "      <td>India</td>\n",
       "      <td>YERMARUS TPP</td>\n",
       "      <td>IND0000513</td>\n",
       "      <td>1600.0</td>\n",
       "      <td>16.2949</td>\n",
       "      <td>77.3568</td>\n",
       "      <td>Coal</td>\n",
       "      <td>Oil</td>\n",
       "      <td>NaN</td>\n",
       "      <td>NaN</td>\n",
       "      <td>2016.0</td>\n",
       "      <td>NaN</td>\n",
       "      <td>Central Electricity Authority</td>\n",
       "      <td>http://www.cea.nic.in/</td>\n",
       "      <td>WRI</td>\n",
       "      <td>NaN</td>\n",
       "      <td>2019.0</td>\n",
       "      <td>NaN</td>\n",
       "      <td>NaN</td>\n",
       "      <td>0.994875</td>\n",
       "      <td>233.596650</td>\n",
       "      <td>865.400000</td>\n",
       "      <td>686.500000</td>\n",
       "      <td>NaN</td>\n",
       "      <td>Central Electricity Authority</td>\n",
       "      <td>NaN</td>\n",
       "    </tr>\n",
       "    <tr>\n",
       "      <th>903</th>\n",
       "      <td>IND</td>\n",
       "      <td>India</td>\n",
       "      <td>Yelesandra Solar Power Plant</td>\n",
       "      <td>WRI1026222</td>\n",
       "      <td>3.0</td>\n",
       "      <td>12.8932</td>\n",
       "      <td>78.1654</td>\n",
       "      <td>Solar</td>\n",
       "      <td>NaN</td>\n",
       "      <td>NaN</td>\n",
       "      <td>NaN</td>\n",
       "      <td>NaN</td>\n",
       "      <td>Karnataka Power Corporation Limited</td>\n",
       "      <td>Karnataka Power Corporation Limited</td>\n",
       "      <td>http://karnatakapower.com</td>\n",
       "      <td>Industry About</td>\n",
       "      <td>NaN</td>\n",
       "      <td>NaN</td>\n",
       "      <td>NaN</td>\n",
       "      <td>NaN</td>\n",
       "      <td>NaN</td>\n",
       "      <td>NaN</td>\n",
       "      <td>NaN</td>\n",
       "      <td>NaN</td>\n",
       "      <td>NaN</td>\n",
       "      <td>NaN</td>\n",
       "      <td>NaN</td>\n",
       "    </tr>\n",
       "    <tr>\n",
       "      <th>904</th>\n",
       "      <td>IND</td>\n",
       "      <td>India</td>\n",
       "      <td>Yelisirur wind power project</td>\n",
       "      <td>WRI1026776</td>\n",
       "      <td>25.5</td>\n",
       "      <td>15.2758</td>\n",
       "      <td>75.5811</td>\n",
       "      <td>Wind</td>\n",
       "      <td>NaN</td>\n",
       "      <td>NaN</td>\n",
       "      <td>NaN</td>\n",
       "      <td>NaN</td>\n",
       "      <td>NaN</td>\n",
       "      <td>CDM</td>\n",
       "      <td>https://cdm.unfccc.int/Projects/DB/TUEV-RHEIN1...</td>\n",
       "      <td>WRI</td>\n",
       "      <td>NaN</td>\n",
       "      <td>NaN</td>\n",
       "      <td>NaN</td>\n",
       "      <td>NaN</td>\n",
       "      <td>NaN</td>\n",
       "      <td>NaN</td>\n",
       "      <td>NaN</td>\n",
       "      <td>NaN</td>\n",
       "      <td>NaN</td>\n",
       "      <td>NaN</td>\n",
       "      <td>NaN</td>\n",
       "    </tr>\n",
       "    <tr>\n",
       "      <th>905</th>\n",
       "      <td>IND</td>\n",
       "      <td>India</td>\n",
       "      <td>ZAWAR MINES</td>\n",
       "      <td>WRI1019901</td>\n",
       "      <td>80.0</td>\n",
       "      <td>24.3500</td>\n",
       "      <td>73.7477</td>\n",
       "      <td>Coal</td>\n",
       "      <td>NaN</td>\n",
       "      <td>NaN</td>\n",
       "      <td>NaN</td>\n",
       "      <td>NaN</td>\n",
       "      <td>Hindustan Zinc ltd</td>\n",
       "      <td>Hindustan Zinc ltd</td>\n",
       "      <td>http://www.hzlindia.com/</td>\n",
       "      <td>WRI</td>\n",
       "      <td>NaN</td>\n",
       "      <td>NaN</td>\n",
       "      <td>NaN</td>\n",
       "      <td>NaN</td>\n",
       "      <td>NaN</td>\n",
       "      <td>NaN</td>\n",
       "      <td>NaN</td>\n",
       "      <td>NaN</td>\n",
       "      <td>NaN</td>\n",
       "      <td>NaN</td>\n",
       "      <td>NaN</td>\n",
       "    </tr>\n",
       "    <tr>\n",
       "      <th>906</th>\n",
       "      <td>IND</td>\n",
       "      <td>India</td>\n",
       "      <td>iEnergy Theni Wind Farm</td>\n",
       "      <td>WRI1026761</td>\n",
       "      <td>16.5</td>\n",
       "      <td>9.9344</td>\n",
       "      <td>77.4768</td>\n",
       "      <td>Wind</td>\n",
       "      <td>NaN</td>\n",
       "      <td>NaN</td>\n",
       "      <td>NaN</td>\n",
       "      <td>NaN</td>\n",
       "      <td>iEnergy Wind Farms</td>\n",
       "      <td>CDM</td>\n",
       "      <td>https://cdm.unfccc.int/Projects/DB/RWTUV134503...</td>\n",
       "      <td>WRI</td>\n",
       "      <td>NaN</td>\n",
       "      <td>NaN</td>\n",
       "      <td>NaN</td>\n",
       "      <td>NaN</td>\n",
       "      <td>NaN</td>\n",
       "      <td>NaN</td>\n",
       "      <td>NaN</td>\n",
       "      <td>NaN</td>\n",
       "      <td>NaN</td>\n",
       "      <td>NaN</td>\n",
       "      <td>NaN</td>\n",
       "    </tr>\n",
       "  </tbody>\n",
       "</table>\n",
       "<p>907 rows × 27 columns</p>\n",
       "</div>"
      ],
      "text/plain": [
       "    country country_long                          name   gppd_idnr  \\\n",
       "0       IND        India              ACME Solar Tower  WRI1020239   \n",
       "1       IND        India           ADITYA CEMENT WORKS  WRI1019881   \n",
       "2       IND        India      AES Saurashtra Windfarms  WRI1026669   \n",
       "3       IND        India                   AGARTALA GT  IND0000001   \n",
       "4       IND        India                  AKALTARA TPP  IND0000002   \n",
       "..      ...          ...                           ...         ...   \n",
       "902     IND        India                  YERMARUS TPP  IND0000513   \n",
       "903     IND        India  Yelesandra Solar Power Plant  WRI1026222   \n",
       "904     IND        India  Yelisirur wind power project  WRI1026776   \n",
       "905     IND        India                   ZAWAR MINES  WRI1019901   \n",
       "906     IND        India       iEnergy Theni Wind Farm  WRI1026761   \n",
       "\n",
       "     capacity_mw  latitude  longitude primary_fuel other_fuel1 other_fuel2  \\\n",
       "0            2.5   28.1839    73.2407        Solar         NaN         NaN   \n",
       "1           98.0   24.7663    74.6090         Coal         NaN         NaN   \n",
       "2           39.2   21.9038    69.3732         Wind         NaN         NaN   \n",
       "3          135.0   23.8712    91.3602          Gas         NaN         NaN   \n",
       "4         1800.0   21.9603    82.4091         Coal         Oil         NaN   \n",
       "..           ...       ...        ...          ...         ...         ...   \n",
       "902       1600.0   16.2949    77.3568         Coal         Oil         NaN   \n",
       "903          3.0   12.8932    78.1654        Solar         NaN         NaN   \n",
       "904         25.5   15.2758    75.5811         Wind         NaN         NaN   \n",
       "905         80.0   24.3500    73.7477         Coal         NaN         NaN   \n",
       "906         16.5    9.9344    77.4768         Wind         NaN         NaN   \n",
       "\n",
       "     other_fuel3  commissioning_year                                owner  \\\n",
       "0            NaN              2011.0                          Solar Paces   \n",
       "1            NaN                 NaN                 Ultratech Cement ltd   \n",
       "2            NaN                 NaN                                  AES   \n",
       "3            NaN              2004.0                                  NaN   \n",
       "4            NaN              2015.0                                  NaN   \n",
       "..           ...                 ...                                  ...   \n",
       "902          NaN              2016.0                                  NaN   \n",
       "903          NaN                 NaN  Karnataka Power Corporation Limited   \n",
       "904          NaN                 NaN                                  NaN   \n",
       "905          NaN                 NaN                   Hindustan Zinc ltd   \n",
       "906          NaN                 NaN                   iEnergy Wind Farms   \n",
       "\n",
       "                                   source  \\\n",
       "0    National Renewable Energy Laboratory   \n",
       "1                    Ultratech Cement ltd   \n",
       "2                                     CDM   \n",
       "3           Central Electricity Authority   \n",
       "4           Central Electricity Authority   \n",
       "..                                    ...   \n",
       "902         Central Electricity Authority   \n",
       "903   Karnataka Power Corporation Limited   \n",
       "904                                   CDM   \n",
       "905                    Hindustan Zinc ltd   \n",
       "906                                   CDM   \n",
       "\n",
       "                                                   url  \\\n",
       "0    http://www.nrel.gov/csp/solarpaces/project_det...   \n",
       "1                      http://www.ultratechcement.com/   \n",
       "2    https://cdm.unfccc.int/Projects/DB/DNV-CUK1328...   \n",
       "3                               http://www.cea.nic.in/   \n",
       "4                               http://www.cea.nic.in/   \n",
       "..                                                 ...   \n",
       "902                             http://www.cea.nic.in/   \n",
       "903                          http://karnatakapower.com   \n",
       "904  https://cdm.unfccc.int/Projects/DB/TUEV-RHEIN1...   \n",
       "905                           http://www.hzlindia.com/   \n",
       "906  https://cdm.unfccc.int/Projects/DB/RWTUV134503...   \n",
       "\n",
       "                       geolocation_source  wepp_id  year_of_capacity_data  \\\n",
       "0    National Renewable Energy Laboratory      NaN                    NaN   \n",
       "1                                     WRI      NaN                    NaN   \n",
       "2                                     WRI      NaN                    NaN   \n",
       "3                                     WRI      NaN                 2019.0   \n",
       "4                                     WRI      NaN                 2019.0   \n",
       "..                                    ...      ...                    ...   \n",
       "902                                   WRI      NaN                 2019.0   \n",
       "903                        Industry About      NaN                    NaN   \n",
       "904                                   WRI      NaN                    NaN   \n",
       "905                                   WRI      NaN                    NaN   \n",
       "906                                   WRI      NaN                    NaN   \n",
       "\n",
       "     generation_gwh_2013  generation_gwh_2014  generation_gwh_2015  \\\n",
       "0                    NaN                  NaN                  NaN   \n",
       "1                    NaN                  NaN                  NaN   \n",
       "2                    NaN                  NaN                  NaN   \n",
       "3                    NaN           617.789264           843.747000   \n",
       "4                    NaN          3035.550000          5916.370000   \n",
       "..                   ...                  ...                  ...   \n",
       "902                  NaN                  NaN             0.994875   \n",
       "903                  NaN                  NaN                  NaN   \n",
       "904                  NaN                  NaN                  NaN   \n",
       "905                  NaN                  NaN                  NaN   \n",
       "906                  NaN                  NaN                  NaN   \n",
       "\n",
       "     generation_gwh_2016  generation_gwh_2017  generation_gwh_2018  \\\n",
       "0                    NaN                  NaN                  NaN   \n",
       "1                    NaN                  NaN                  NaN   \n",
       "2                    NaN                  NaN                  NaN   \n",
       "3             886.004428           663.774500           626.239128   \n",
       "4            6243.000000          5385.579736          7279.000000   \n",
       "..                   ...                  ...                  ...   \n",
       "902           233.596650           865.400000           686.500000   \n",
       "903                  NaN                  NaN                  NaN   \n",
       "904                  NaN                  NaN                  NaN   \n",
       "905                  NaN                  NaN                  NaN   \n",
       "906                  NaN                  NaN                  NaN   \n",
       "\n",
       "     generation_gwh_2019         generation_data_source  \\\n",
       "0                    NaN                            NaN   \n",
       "1                    NaN                            NaN   \n",
       "2                    NaN                            NaN   \n",
       "3                    NaN  Central Electricity Authority   \n",
       "4                    NaN  Central Electricity Authority   \n",
       "..                   ...                            ...   \n",
       "902                  NaN  Central Electricity Authority   \n",
       "903                  NaN                            NaN   \n",
       "904                  NaN                            NaN   \n",
       "905                  NaN                            NaN   \n",
       "906                  NaN                            NaN   \n",
       "\n",
       "     estimated_generation_gwh  \n",
       "0                         NaN  \n",
       "1                         NaN  \n",
       "2                         NaN  \n",
       "3                         NaN  \n",
       "4                         NaN  \n",
       "..                        ...  \n",
       "902                       NaN  \n",
       "903                       NaN  \n",
       "904                       NaN  \n",
       "905                       NaN  \n",
       "906                       NaN  \n",
       "\n",
       "[907 rows x 27 columns]"
      ]
     },
     "execution_count": 6,
     "metadata": {},
     "output_type": "execute_result"
    }
   ],
   "source": [
    "po"
   ]
  },
  {
   "cell_type": "code",
   "execution_count": 7,
   "id": "97dffac0",
   "metadata": {},
   "outputs": [
    {
     "data": {
      "text/plain": [
       "country                       0\n",
       "country_long                  0\n",
       "name                          0\n",
       "gppd_idnr                     0\n",
       "capacity_mw                   0\n",
       "latitude                     46\n",
       "longitude                    46\n",
       "primary_fuel                  0\n",
       "other_fuel1                 709\n",
       "other_fuel2                 906\n",
       "other_fuel3                 907\n",
       "commissioning_year          380\n",
       "owner                       565\n",
       "source                        0\n",
       "url                           0\n",
       "geolocation_source           19\n",
       "wepp_id                     907\n",
       "year_of_capacity_data       388\n",
       "generation_gwh_2013         907\n",
       "generation_gwh_2014         509\n",
       "generation_gwh_2015         485\n",
       "generation_gwh_2016         473\n",
       "generation_gwh_2017         467\n",
       "generation_gwh_2018         459\n",
       "generation_gwh_2019         907\n",
       "generation_data_source      458\n",
       "estimated_generation_gwh    907\n",
       "dtype: int64"
      ]
     },
     "execution_count": 7,
     "metadata": {},
     "output_type": "execute_result"
    }
   ],
   "source": [
    "#Checking null values\n",
    "po.isnull().sum()"
   ]
  },
  {
   "cell_type": "markdown",
   "id": "15badb66",
   "metadata": {},
   "source": [
    "We can see few of the columns contains null data for entire rows. We shall deal with all the null values"
   ]
  },
  {
   "cell_type": "code",
   "execution_count": 8,
   "id": "498fb418",
   "metadata": {},
   "outputs": [
    {
     "name": "stdout",
     "output_type": "stream",
     "text": [
      "<class 'pandas.core.frame.DataFrame'>\n",
      "RangeIndex: 907 entries, 0 to 906\n",
      "Data columns (total 27 columns):\n",
      " #   Column                    Non-Null Count  Dtype  \n",
      "---  ------                    --------------  -----  \n",
      " 0   country                   907 non-null    object \n",
      " 1   country_long              907 non-null    object \n",
      " 2   name                      907 non-null    object \n",
      " 3   gppd_idnr                 907 non-null    object \n",
      " 4   capacity_mw               907 non-null    float64\n",
      " 5   latitude                  861 non-null    float64\n",
      " 6   longitude                 861 non-null    float64\n",
      " 7   primary_fuel              907 non-null    object \n",
      " 8   other_fuel1               198 non-null    object \n",
      " 9   other_fuel2               1 non-null      object \n",
      " 10  other_fuel3               0 non-null      float64\n",
      " 11  commissioning_year        527 non-null    float64\n",
      " 12  owner                     342 non-null    object \n",
      " 13  source                    907 non-null    object \n",
      " 14  url                       907 non-null    object \n",
      " 15  geolocation_source        888 non-null    object \n",
      " 16  wepp_id                   0 non-null      float64\n",
      " 17  year_of_capacity_data     519 non-null    float64\n",
      " 18  generation_gwh_2013       0 non-null      float64\n",
      " 19  generation_gwh_2014       398 non-null    float64\n",
      " 20  generation_gwh_2015       422 non-null    float64\n",
      " 21  generation_gwh_2016       434 non-null    float64\n",
      " 22  generation_gwh_2017       440 non-null    float64\n",
      " 23  generation_gwh_2018       448 non-null    float64\n",
      " 24  generation_gwh_2019       0 non-null      float64\n",
      " 25  generation_data_source    449 non-null    object \n",
      " 26  estimated_generation_gwh  0 non-null      float64\n",
      "dtypes: float64(15), object(12)\n",
      "memory usage: 191.4+ KB\n"
     ]
    }
   ],
   "source": [
    "# Brief information about the dataset\n",
    "po.info()"
   ]
  },
  {
   "cell_type": "markdown",
   "id": "0841b680",
   "metadata": {},
   "source": [
    "From the above information we can see that the columns other_fuel3, wepp_id,generation_gwh_2013,generation_gwh_2019,estimated_generation_gwh donot have any data. And columns other_fuel1, other_fuel3 no to minimal data. So we shall remove these columns inorder to not affect the prediction"
   ]
  },
  {
   "cell_type": "code",
   "execution_count": 9,
   "id": "3d6f3c55",
   "metadata": {},
   "outputs": [],
   "source": [
    "po.drop(['other_fuel3', 'wepp_id','generation_gwh_2013','generation_gwh_2019','estimated_generation_gwh','other_fuel1','other_fuel1'], axis = 1,inplace = True)"
   ]
  },
  {
   "cell_type": "code",
   "execution_count": 10,
   "id": "fbbcd3ec",
   "metadata": {},
   "outputs": [
    {
     "data": {
      "text/html": [
       "<div>\n",
       "<style scoped>\n",
       "    .dataframe tbody tr th:only-of-type {\n",
       "        vertical-align: middle;\n",
       "    }\n",
       "\n",
       "    .dataframe tbody tr th {\n",
       "        vertical-align: top;\n",
       "    }\n",
       "\n",
       "    .dataframe thead th {\n",
       "        text-align: right;\n",
       "    }\n",
       "</style>\n",
       "<table border=\"1\" class=\"dataframe\">\n",
       "  <thead>\n",
       "    <tr style=\"text-align: right;\">\n",
       "      <th></th>\n",
       "      <th>country</th>\n",
       "      <th>country_long</th>\n",
       "      <th>name</th>\n",
       "      <th>gppd_idnr</th>\n",
       "      <th>capacity_mw</th>\n",
       "      <th>latitude</th>\n",
       "      <th>longitude</th>\n",
       "      <th>primary_fuel</th>\n",
       "      <th>other_fuel2</th>\n",
       "      <th>commissioning_year</th>\n",
       "      <th>owner</th>\n",
       "      <th>source</th>\n",
       "      <th>url</th>\n",
       "      <th>geolocation_source</th>\n",
       "      <th>year_of_capacity_data</th>\n",
       "      <th>generation_gwh_2014</th>\n",
       "      <th>generation_gwh_2015</th>\n",
       "      <th>generation_gwh_2016</th>\n",
       "      <th>generation_gwh_2017</th>\n",
       "      <th>generation_gwh_2018</th>\n",
       "      <th>generation_data_source</th>\n",
       "    </tr>\n",
       "  </thead>\n",
       "  <tbody>\n",
       "    <tr>\n",
       "      <th>0</th>\n",
       "      <td>IND</td>\n",
       "      <td>India</td>\n",
       "      <td>ACME Solar Tower</td>\n",
       "      <td>WRI1020239</td>\n",
       "      <td>2.5</td>\n",
       "      <td>28.1839</td>\n",
       "      <td>73.2407</td>\n",
       "      <td>Solar</td>\n",
       "      <td>NaN</td>\n",
       "      <td>2011.0</td>\n",
       "      <td>Solar Paces</td>\n",
       "      <td>National Renewable Energy Laboratory</td>\n",
       "      <td>http://www.nrel.gov/csp/solarpaces/project_det...</td>\n",
       "      <td>National Renewable Energy Laboratory</td>\n",
       "      <td>NaN</td>\n",
       "      <td>NaN</td>\n",
       "      <td>NaN</td>\n",
       "      <td>NaN</td>\n",
       "      <td>NaN</td>\n",
       "      <td>NaN</td>\n",
       "      <td>NaN</td>\n",
       "    </tr>\n",
       "    <tr>\n",
       "      <th>1</th>\n",
       "      <td>IND</td>\n",
       "      <td>India</td>\n",
       "      <td>ADITYA CEMENT WORKS</td>\n",
       "      <td>WRI1019881</td>\n",
       "      <td>98.0</td>\n",
       "      <td>24.7663</td>\n",
       "      <td>74.6090</td>\n",
       "      <td>Coal</td>\n",
       "      <td>NaN</td>\n",
       "      <td>NaN</td>\n",
       "      <td>Ultratech Cement ltd</td>\n",
       "      <td>Ultratech Cement ltd</td>\n",
       "      <td>http://www.ultratechcement.com/</td>\n",
       "      <td>WRI</td>\n",
       "      <td>NaN</td>\n",
       "      <td>NaN</td>\n",
       "      <td>NaN</td>\n",
       "      <td>NaN</td>\n",
       "      <td>NaN</td>\n",
       "      <td>NaN</td>\n",
       "      <td>NaN</td>\n",
       "    </tr>\n",
       "    <tr>\n",
       "      <th>2</th>\n",
       "      <td>IND</td>\n",
       "      <td>India</td>\n",
       "      <td>AES Saurashtra Windfarms</td>\n",
       "      <td>WRI1026669</td>\n",
       "      <td>39.2</td>\n",
       "      <td>21.9038</td>\n",
       "      <td>69.3732</td>\n",
       "      <td>Wind</td>\n",
       "      <td>NaN</td>\n",
       "      <td>NaN</td>\n",
       "      <td>AES</td>\n",
       "      <td>CDM</td>\n",
       "      <td>https://cdm.unfccc.int/Projects/DB/DNV-CUK1328...</td>\n",
       "      <td>WRI</td>\n",
       "      <td>NaN</td>\n",
       "      <td>NaN</td>\n",
       "      <td>NaN</td>\n",
       "      <td>NaN</td>\n",
       "      <td>NaN</td>\n",
       "      <td>NaN</td>\n",
       "      <td>NaN</td>\n",
       "    </tr>\n",
       "    <tr>\n",
       "      <th>3</th>\n",
       "      <td>IND</td>\n",
       "      <td>India</td>\n",
       "      <td>AGARTALA GT</td>\n",
       "      <td>IND0000001</td>\n",
       "      <td>135.0</td>\n",
       "      <td>23.8712</td>\n",
       "      <td>91.3602</td>\n",
       "      <td>Gas</td>\n",
       "      <td>NaN</td>\n",
       "      <td>2004.0</td>\n",
       "      <td>NaN</td>\n",
       "      <td>Central Electricity Authority</td>\n",
       "      <td>http://www.cea.nic.in/</td>\n",
       "      <td>WRI</td>\n",
       "      <td>2019.0</td>\n",
       "      <td>617.789264</td>\n",
       "      <td>843.747</td>\n",
       "      <td>886.004428</td>\n",
       "      <td>663.774500</td>\n",
       "      <td>626.239128</td>\n",
       "      <td>Central Electricity Authority</td>\n",
       "    </tr>\n",
       "    <tr>\n",
       "      <th>4</th>\n",
       "      <td>IND</td>\n",
       "      <td>India</td>\n",
       "      <td>AKALTARA TPP</td>\n",
       "      <td>IND0000002</td>\n",
       "      <td>1800.0</td>\n",
       "      <td>21.9603</td>\n",
       "      <td>82.4091</td>\n",
       "      <td>Coal</td>\n",
       "      <td>NaN</td>\n",
       "      <td>2015.0</td>\n",
       "      <td>NaN</td>\n",
       "      <td>Central Electricity Authority</td>\n",
       "      <td>http://www.cea.nic.in/</td>\n",
       "      <td>WRI</td>\n",
       "      <td>2019.0</td>\n",
       "      <td>3035.550000</td>\n",
       "      <td>5916.370</td>\n",
       "      <td>6243.000000</td>\n",
       "      <td>5385.579736</td>\n",
       "      <td>7279.000000</td>\n",
       "      <td>Central Electricity Authority</td>\n",
       "    </tr>\n",
       "  </tbody>\n",
       "</table>\n",
       "</div>"
      ],
      "text/plain": [
       "  country country_long                      name   gppd_idnr  capacity_mw  \\\n",
       "0     IND        India          ACME Solar Tower  WRI1020239          2.5   \n",
       "1     IND        India       ADITYA CEMENT WORKS  WRI1019881         98.0   \n",
       "2     IND        India  AES Saurashtra Windfarms  WRI1026669         39.2   \n",
       "3     IND        India               AGARTALA GT  IND0000001        135.0   \n",
       "4     IND        India              AKALTARA TPP  IND0000002       1800.0   \n",
       "\n",
       "   latitude  longitude primary_fuel other_fuel2  commissioning_year  \\\n",
       "0   28.1839    73.2407        Solar         NaN              2011.0   \n",
       "1   24.7663    74.6090         Coal         NaN                 NaN   \n",
       "2   21.9038    69.3732         Wind         NaN                 NaN   \n",
       "3   23.8712    91.3602          Gas         NaN              2004.0   \n",
       "4   21.9603    82.4091         Coal         NaN              2015.0   \n",
       "\n",
       "                  owner                                source  \\\n",
       "0           Solar Paces  National Renewable Energy Laboratory   \n",
       "1  Ultratech Cement ltd                  Ultratech Cement ltd   \n",
       "2                   AES                                   CDM   \n",
       "3                   NaN         Central Electricity Authority   \n",
       "4                   NaN         Central Electricity Authority   \n",
       "\n",
       "                                                 url  \\\n",
       "0  http://www.nrel.gov/csp/solarpaces/project_det...   \n",
       "1                    http://www.ultratechcement.com/   \n",
       "2  https://cdm.unfccc.int/Projects/DB/DNV-CUK1328...   \n",
       "3                             http://www.cea.nic.in/   \n",
       "4                             http://www.cea.nic.in/   \n",
       "\n",
       "                     geolocation_source  year_of_capacity_data  \\\n",
       "0  National Renewable Energy Laboratory                    NaN   \n",
       "1                                   WRI                    NaN   \n",
       "2                                   WRI                    NaN   \n",
       "3                                   WRI                 2019.0   \n",
       "4                                   WRI                 2019.0   \n",
       "\n",
       "   generation_gwh_2014  generation_gwh_2015  generation_gwh_2016  \\\n",
       "0                  NaN                  NaN                  NaN   \n",
       "1                  NaN                  NaN                  NaN   \n",
       "2                  NaN                  NaN                  NaN   \n",
       "3           617.789264              843.747           886.004428   \n",
       "4          3035.550000             5916.370          6243.000000   \n",
       "\n",
       "   generation_gwh_2017  generation_gwh_2018         generation_data_source  \n",
       "0                  NaN                  NaN                            NaN  \n",
       "1                  NaN                  NaN                            NaN  \n",
       "2                  NaN                  NaN                            NaN  \n",
       "3           663.774500           626.239128  Central Electricity Authority  \n",
       "4          5385.579736          7279.000000  Central Electricity Authority  "
      ]
     },
     "execution_count": 10,
     "metadata": {},
     "output_type": "execute_result"
    }
   ],
   "source": [
    "po.head()"
   ]
  },
  {
   "cell_type": "code",
   "execution_count": 11,
   "id": "7f6a0e4c",
   "metadata": {},
   "outputs": [
    {
     "data": {
      "text/plain": [
       "(907, 21)"
      ]
     },
     "execution_count": 11,
     "metadata": {},
     "output_type": "execute_result"
    }
   ],
   "source": [
    "po.shape"
   ]
  },
  {
   "cell_type": "markdown",
   "id": "2e06ce49",
   "metadata": {},
   "source": [
    "Since the columns name,url,gppd_idnr,owner,generation_data_source no where helps us in prediction we shall remove all these columns"
   ]
  },
  {
   "cell_type": "code",
   "execution_count": 12,
   "id": "564b9c37",
   "metadata": {},
   "outputs": [],
   "source": [
    "po.drop(['name','url','gppd_idnr','owner','generation_data_source'], axis = 1, inplace = True)"
   ]
  },
  {
   "cell_type": "code",
   "execution_count": 13,
   "id": "d1c34833",
   "metadata": {},
   "outputs": [
    {
     "data": {
      "text/plain": [
       "(907, 16)"
      ]
     },
     "execution_count": 13,
     "metadata": {},
     "output_type": "execute_result"
    }
   ],
   "source": [
    "po.shape"
   ]
  },
  {
   "cell_type": "code",
   "execution_count": 14,
   "id": "fe0e18ba",
   "metadata": {},
   "outputs": [
    {
     "data": {
      "text/plain": [
       "country                    1\n",
       "country_long               1\n",
       "capacity_mw              361\n",
       "latitude                 836\n",
       "longitude                827\n",
       "primary_fuel               8\n",
       "other_fuel2                1\n",
       "commissioning_year        73\n",
       "source                   191\n",
       "geolocation_source         3\n",
       "year_of_capacity_data      1\n",
       "generation_gwh_2014      371\n",
       "generation_gwh_2015      396\n",
       "generation_gwh_2016      403\n",
       "generation_gwh_2017      408\n",
       "generation_gwh_2018      410\n",
       "dtype: int64"
      ]
     },
     "execution_count": 14,
     "metadata": {},
     "output_type": "execute_result"
    }
   ],
   "source": [
    "#Checking for the number of unique values in the dataset\n",
    "po.nunique()"
   ]
  },
  {
   "cell_type": "markdown",
   "id": "585db018",
   "metadata": {},
   "source": [
    "From the above observation we can see that the columns country, country_long,other_fuel2,year_of_Capacity_data has only only 1 unique value through out the dataset, we can say that they no longer needed as they do not have any effect on dataset for prediction. So we shall remove these columns"
   ]
  },
  {
   "cell_type": "code",
   "execution_count": 15,
   "id": "4e25d91a",
   "metadata": {},
   "outputs": [],
   "source": [
    "po.drop(['country', 'country_long','other_fuel2','year_of_capacity_data'], axis = 1, inplace = True)"
   ]
  },
  {
   "cell_type": "code",
   "execution_count": 16,
   "id": "119aa9a3",
   "metadata": {},
   "outputs": [
    {
     "name": "stdout",
     "output_type": "stream",
     "text": [
      "<class 'pandas.core.frame.DataFrame'>\n",
      "RangeIndex: 907 entries, 0 to 906\n",
      "Data columns (total 12 columns):\n",
      " #   Column               Non-Null Count  Dtype  \n",
      "---  ------               --------------  -----  \n",
      " 0   capacity_mw          907 non-null    float64\n",
      " 1   latitude             861 non-null    float64\n",
      " 2   longitude            861 non-null    float64\n",
      " 3   primary_fuel         907 non-null    object \n",
      " 4   commissioning_year   527 non-null    float64\n",
      " 5   source               907 non-null    object \n",
      " 6   geolocation_source   888 non-null    object \n",
      " 7   generation_gwh_2014  398 non-null    float64\n",
      " 8   generation_gwh_2015  422 non-null    float64\n",
      " 9   generation_gwh_2016  434 non-null    float64\n",
      " 10  generation_gwh_2017  440 non-null    float64\n",
      " 11  generation_gwh_2018  448 non-null    float64\n",
      "dtypes: float64(9), object(3)\n",
      "memory usage: 85.2+ KB\n"
     ]
    }
   ],
   "source": [
    "po.info()"
   ]
  },
  {
   "cell_type": "code",
   "execution_count": 17,
   "id": "58dc2b9c",
   "metadata": {},
   "outputs": [
    {
     "name": "stdout",
     "output_type": "stream",
     "text": [
      "5.0       39\n",
      "10.0      22\n",
      "600.0     20\n",
      "15.0      20\n",
      "1200.0    19\n",
      "          ..\n",
      "291.0      1\n",
      "645.0      1\n",
      "41.4       1\n",
      "17.5       1\n",
      "106.6      1\n",
      "Name: capacity_mw, Length: 361, dtype: int64\n",
      "\n",
      "\n",
      "19.0004    3\n",
      "24.1917    3\n",
      "24.8747    2\n",
      "13.2450    2\n",
      "11.5336    2\n",
      "          ..\n",
      "22.7554    1\n",
      "27.1598    1\n",
      "17.2970    1\n",
      "20.8772    1\n",
      "9.9344     1\n",
      "Name: latitude, Length: 836, dtype: int64\n",
      "\n",
      "\n",
      "71.6917    4\n",
      "75.8988    3\n",
      "71.6918    3\n",
      "72.8983    3\n",
      "81.2875    3\n",
      "          ..\n",
      "70.3961    1\n",
      "74.2393    1\n",
      "77.0435    1\n",
      "73.8254    1\n",
      "77.4768    1\n",
      "Name: longitude, Length: 827, dtype: int64\n",
      "\n",
      "\n",
      "Coal       258\n",
      "Hydro      251\n",
      "Solar      127\n",
      "Wind       123\n",
      "Gas         69\n",
      "Biomass     50\n",
      "Oil         20\n",
      "Nuclear      9\n",
      "Name: primary_fuel, dtype: int64\n",
      "\n",
      "\n",
      "2015.0    28\n",
      "2013.0    25\n",
      "2012.0    23\n",
      "2016.0    19\n",
      "2010.0    18\n",
      "          ..\n",
      "1946.0     1\n",
      "1956.0     1\n",
      "1937.0     1\n",
      "1949.0     1\n",
      "1953.0     1\n",
      "Name: commissioning_year, Length: 73, dtype: int64\n",
      "\n",
      "\n",
      "Central Electricity Authority                                  519\n",
      "CDM                                                            124\n",
      "Lancosola                                                       10\n",
      "National Renewable Energy Laboratory                             8\n",
      "National Thermal Power Corporation (NTPC)                        6\n",
      "                                                              ... \n",
      "Harsha Engineers Limited                                         1\n",
      "Godawari Energy ltd                                              1\n",
      "Sunkon Energy Private Limited                                    1\n",
      "West Bengal Energy Development Corporation Limited (WBEDCL)      1\n",
      "Yashwantrao Krishna ssk                                          1\n",
      "Name: source, Length: 191, dtype: int64\n",
      "\n",
      "\n",
      "WRI                                     765\n",
      "Industry About                          119\n",
      "National Renewable Energy Laboratory      4\n",
      "Name: geolocation_source, dtype: int64\n",
      "\n",
      "\n",
      "0.000000       28\n",
      "617.789264      1\n",
      "359.139800      1\n",
      "7368.390000     1\n",
      "9983.018000     1\n",
      "               ..\n",
      "4436.700000     1\n",
      "1154.342000     1\n",
      "451.053400      1\n",
      "3239.142900     1\n",
      "3194.359820     1\n",
      "Name: generation_gwh_2014, Length: 371, dtype: int64\n",
      "\n",
      "\n",
      "0.000000        27\n",
      "843.747000       1\n",
      "1497.798000      1\n",
      "10422.690000     1\n",
      "240.799900       1\n",
      "                ..\n",
      "6996.000000      1\n",
      "14192.000000     1\n",
      "219.377600       1\n",
      "288.460450       1\n",
      "0.994875         1\n",
      "Name: generation_gwh_2015, Length: 396, dtype: int64\n",
      "\n",
      "\n",
      "0.000000       30\n",
      "8470.570000     2\n",
      "1511.000000     2\n",
      "886.004428      1\n",
      "90.644500       1\n",
      "               ..\n",
      "1338.095900     1\n",
      "131.021600      1\n",
      "6130.019928     1\n",
      "5931.490000     1\n",
      "233.596650      1\n",
      "Name: generation_gwh_2016, Length: 403, dtype: int64\n",
      "\n",
      "\n",
      "0.00000        32\n",
      "170.08530       2\n",
      "663.77450       1\n",
      "1632.36715      1\n",
      "272.73945       1\n",
      "               ..\n",
      "15177.00000     1\n",
      "191.94545       1\n",
      "307.37540       1\n",
      "382.43820       1\n",
      "865.40000       1\n",
      "Name: generation_gwh_2017, Length: 408, dtype: int64\n",
      "\n",
      "\n",
      "0.000000        39\n",
      "626.239128       1\n",
      "505.420200       1\n",
      "1098.450150      1\n",
      "17.213500        1\n",
      "                ..\n",
      "220.551700       1\n",
      "7321.267900      1\n",
      "6532.350000      1\n",
      "15305.220000     1\n",
      "686.500000       1\n",
      "Name: generation_gwh_2018, Length: 410, dtype: int64\n",
      "\n",
      "\n"
     ]
    }
   ],
   "source": [
    "#Checking value counts for unique values in our dataset\n",
    "for i in po.columns:\n",
    "    print(po[i].value_counts())\n",
    "    print('\\n')"
   ]
  },
  {
   "cell_type": "code",
   "execution_count": 18,
   "id": "42f3b890",
   "metadata": {
    "scrolled": false
   },
   "outputs": [
    {
     "data": {
      "text/plain": [
       "capacity_mw              0\n",
       "latitude                46\n",
       "longitude               46\n",
       "primary_fuel             0\n",
       "commissioning_year     380\n",
       "source                   0\n",
       "geolocation_source      19\n",
       "generation_gwh_2014    509\n",
       "generation_gwh_2015    485\n",
       "generation_gwh_2016    473\n",
       "generation_gwh_2017    467\n",
       "generation_gwh_2018    459\n",
       "dtype: int64"
      ]
     },
     "execution_count": 18,
     "metadata": {},
     "output_type": "execute_result"
    }
   ],
   "source": [
    "#Checking for null values now\n",
    "po.isnull().sum()"
   ]
  },
  {
   "cell_type": "code",
   "execution_count": 19,
   "id": "08e36ce2",
   "metadata": {},
   "outputs": [
    {
     "name": "stdout",
     "output_type": "stream",
     "text": [
      "['primary_fuel', 'source', 'geolocation_source']\n",
      "['capacity_mw', 'latitude', 'longitude', 'commissioning_year', 'generation_gwh_2014', 'generation_gwh_2015', 'generation_gwh_2016', 'generation_gwh_2017', 'generation_gwh_2018']\n"
     ]
    }
   ],
   "source": [
    "cat = []\n",
    "num = []\n",
    "for i in po.dtypes.index:\n",
    "    if po.dtypes[i] == 'object':\n",
    "        cat.append(i)\n",
    "    else:\n",
    "        num.append(i)\n",
    "print(cat)\n",
    "print(num)"
   ]
  },
  {
   "cell_type": "code",
   "execution_count": 20,
   "id": "9f565378",
   "metadata": {},
   "outputs": [],
   "source": [
    "#We shall fill the null values using fill na method. For geolocation_source we shall use mode to fill na since it is a categorical column\n",
    "po['geolocation_source'].fillna(po['geolocation_source'].mode()[0], inplace=True)"
   ]
  },
  {
   "cell_type": "code",
   "execution_count": 21,
   "id": "9dc1f33a",
   "metadata": {},
   "outputs": [
    {
     "data": {
      "text/plain": [
       "0"
      ]
     },
     "execution_count": 21,
     "metadata": {},
     "output_type": "execute_result"
    }
   ],
   "source": [
    "po['geolocation_source'].isnull().sum()"
   ]
  },
  {
   "cell_type": "code",
   "execution_count": 22,
   "id": "004ce5e3",
   "metadata": {},
   "outputs": [],
   "source": [
    "# filling null values with median in numerical columns\n",
    "po.fillna(po.median()[0], inplace=True)"
   ]
  },
  {
   "cell_type": "code",
   "execution_count": 23,
   "id": "c8c297af",
   "metadata": {},
   "outputs": [
    {
     "data": {
      "text/plain": [
       "capacity_mw            0\n",
       "latitude               0\n",
       "longitude              0\n",
       "primary_fuel           0\n",
       "commissioning_year     0\n",
       "source                 0\n",
       "geolocation_source     0\n",
       "generation_gwh_2014    0\n",
       "generation_gwh_2015    0\n",
       "generation_gwh_2016    0\n",
       "generation_gwh_2017    0\n",
       "generation_gwh_2018    0\n",
       "dtype: int64"
      ]
     },
     "execution_count": 23,
     "metadata": {},
     "output_type": "execute_result"
    }
   ],
   "source": [
    "po.isnull().sum()"
   ]
  },
  {
   "cell_type": "markdown",
   "id": "281a6e24",
   "metadata": {},
   "source": [
    "We have replaced all the null values in the dataset "
   ]
  },
  {
   "cell_type": "code",
   "execution_count": 24,
   "id": "1c4df219",
   "metadata": {},
   "outputs": [
    {
     "data": {
      "text/plain": [
       "array(['Solar', 'Coal', 'Wind', 'Gas', 'Hydro', 'Biomass', 'Oil',\n",
       "       'Nuclear'], dtype=object)"
      ]
     },
     "execution_count": 24,
     "metadata": {},
     "output_type": "execute_result"
    }
   ],
   "source": [
    "# checking unique values present in the target column\n",
    "po.primary_fuel.unique()"
   ]
  },
  {
   "cell_type": "code",
   "execution_count": 25,
   "id": "cadd6634",
   "metadata": {},
   "outputs": [
    {
     "data": {
      "text/plain": [
       "Coal       258\n",
       "Hydro      251\n",
       "Solar      127\n",
       "Wind       123\n",
       "Gas         69\n",
       "Biomass     50\n",
       "Oil         20\n",
       "Nuclear      9\n",
       "Name: primary_fuel, dtype: int64"
      ]
     },
     "execution_count": 25,
     "metadata": {},
     "output_type": "execute_result"
    }
   ],
   "source": [
    "po.primary_fuel.value_counts()"
   ]
  },
  {
   "cell_type": "code",
   "execution_count": 26,
   "id": "d0242522",
   "metadata": {},
   "outputs": [
    {
     "data": {
      "text/html": [
       "<div>\n",
       "<style scoped>\n",
       "    .dataframe tbody tr th:only-of-type {\n",
       "        vertical-align: middle;\n",
       "    }\n",
       "\n",
       "    .dataframe tbody tr th {\n",
       "        vertical-align: top;\n",
       "    }\n",
       "\n",
       "    .dataframe thead th {\n",
       "        text-align: right;\n",
       "    }\n",
       "</style>\n",
       "<table border=\"1\" class=\"dataframe\">\n",
       "  <thead>\n",
       "    <tr style=\"text-align: right;\">\n",
       "      <th></th>\n",
       "      <th>capacity_mw</th>\n",
       "      <th>latitude</th>\n",
       "      <th>longitude</th>\n",
       "      <th>commissioning_year</th>\n",
       "      <th>generation_gwh_2014</th>\n",
       "      <th>generation_gwh_2015</th>\n",
       "      <th>generation_gwh_2016</th>\n",
       "      <th>generation_gwh_2017</th>\n",
       "      <th>generation_gwh_2018</th>\n",
       "    </tr>\n",
       "  </thead>\n",
       "  <tbody>\n",
       "    <tr>\n",
       "      <th>count</th>\n",
       "      <td>907.000000</td>\n",
       "      <td>907.000000</td>\n",
       "      <td>907.000000</td>\n",
       "      <td>907.000000</td>\n",
       "      <td>907.000000</td>\n",
       "      <td>907.000000</td>\n",
       "      <td>907.000000</td>\n",
       "      <td>907.000000</td>\n",
       "      <td>907.000000</td>\n",
       "    </tr>\n",
       "    <tr>\n",
       "      <th>mean</th>\n",
       "      <td>326.223755</td>\n",
       "      <td>23.125256</td>\n",
       "      <td>76.538572</td>\n",
       "      <td>1185.185226</td>\n",
       "      <td>1100.329205</td>\n",
       "      <td>1161.437454</td>\n",
       "      <td>1211.781915</td>\n",
       "      <td>1266.439354</td>\n",
       "      <td>1314.589897</td>\n",
       "    </tr>\n",
       "    <tr>\n",
       "      <th>std</th>\n",
       "      <td>590.085456</td>\n",
       "      <td>10.322840</td>\n",
       "      <td>6.263960</td>\n",
       "      <td>956.750996</td>\n",
       "      <td>2914.072352</td>\n",
       "      <td>3094.143089</td>\n",
       "      <td>3119.562531</td>\n",
       "      <td>3175.490873</td>\n",
       "      <td>3286.682207</td>\n",
       "    </tr>\n",
       "    <tr>\n",
       "      <th>min</th>\n",
       "      <td>0.000000</td>\n",
       "      <td>8.168900</td>\n",
       "      <td>59.200000</td>\n",
       "      <td>59.200000</td>\n",
       "      <td>0.000000</td>\n",
       "      <td>0.000000</td>\n",
       "      <td>0.000000</td>\n",
       "      <td>0.000000</td>\n",
       "      <td>0.000000</td>\n",
       "    </tr>\n",
       "    <tr>\n",
       "      <th>25%</th>\n",
       "      <td>16.725000</td>\n",
       "      <td>17.072000</td>\n",
       "      <td>73.811550</td>\n",
       "      <td>59.200000</td>\n",
       "      <td>59.200000</td>\n",
       "      <td>59.200000</td>\n",
       "      <td>59.200000</td>\n",
       "      <td>59.200000</td>\n",
       "      <td>59.200000</td>\n",
       "    </tr>\n",
       "    <tr>\n",
       "      <th>50%</th>\n",
       "      <td>59.200000</td>\n",
       "      <td>22.142100</td>\n",
       "      <td>76.493800</td>\n",
       "      <td>1978.000000</td>\n",
       "      <td>59.200000</td>\n",
       "      <td>59.200000</td>\n",
       "      <td>59.200000</td>\n",
       "      <td>59.200000</td>\n",
       "      <td>59.200000</td>\n",
       "    </tr>\n",
       "    <tr>\n",
       "      <th>75%</th>\n",
       "      <td>385.250000</td>\n",
       "      <td>26.753750</td>\n",
       "      <td>79.206100</td>\n",
       "      <td>2003.000000</td>\n",
       "      <td>556.562750</td>\n",
       "      <td>598.926350</td>\n",
       "      <td>670.039394</td>\n",
       "      <td>709.290725</td>\n",
       "      <td>687.754000</td>\n",
       "    </tr>\n",
       "    <tr>\n",
       "      <th>max</th>\n",
       "      <td>4760.000000</td>\n",
       "      <td>59.200000</td>\n",
       "      <td>95.408000</td>\n",
       "      <td>2018.000000</td>\n",
       "      <td>28127.000000</td>\n",
       "      <td>30539.000000</td>\n",
       "      <td>30015.000000</td>\n",
       "      <td>35116.000000</td>\n",
       "      <td>35136.000000</td>\n",
       "    </tr>\n",
       "  </tbody>\n",
       "</table>\n",
       "</div>"
      ],
      "text/plain": [
       "       capacity_mw    latitude   longitude  commissioning_year  \\\n",
       "count   907.000000  907.000000  907.000000          907.000000   \n",
       "mean    326.223755   23.125256   76.538572         1185.185226   \n",
       "std     590.085456   10.322840    6.263960          956.750996   \n",
       "min       0.000000    8.168900   59.200000           59.200000   \n",
       "25%      16.725000   17.072000   73.811550           59.200000   \n",
       "50%      59.200000   22.142100   76.493800         1978.000000   \n",
       "75%     385.250000   26.753750   79.206100         2003.000000   \n",
       "max    4760.000000   59.200000   95.408000         2018.000000   \n",
       "\n",
       "       generation_gwh_2014  generation_gwh_2015  generation_gwh_2016  \\\n",
       "count           907.000000           907.000000           907.000000   \n",
       "mean           1100.329205          1161.437454          1211.781915   \n",
       "std            2914.072352          3094.143089          3119.562531   \n",
       "min               0.000000             0.000000             0.000000   \n",
       "25%              59.200000            59.200000            59.200000   \n",
       "50%              59.200000            59.200000            59.200000   \n",
       "75%             556.562750           598.926350           670.039394   \n",
       "max           28127.000000         30539.000000         30015.000000   \n",
       "\n",
       "       generation_gwh_2017  generation_gwh_2018  \n",
       "count           907.000000           907.000000  \n",
       "mean           1266.439354          1314.589897  \n",
       "std            3175.490873          3286.682207  \n",
       "min               0.000000             0.000000  \n",
       "25%              59.200000            59.200000  \n",
       "50%              59.200000            59.200000  \n",
       "75%             709.290725           687.754000  \n",
       "max           35116.000000         35136.000000  "
      ]
     },
     "execution_count": 26,
     "metadata": {},
     "output_type": "execute_result"
    }
   ],
   "source": [
    "# statistical summary of data frame\n",
    "po.describe()"
   ]
  },
  {
   "cell_type": "markdown",
   "id": "4dd07eeb",
   "metadata": {},
   "source": [
    "The above data gives us the statistical representation of our dataframe. The summary looks perfect since there are no negative or invalid values. From the above description we can observe the following things:\n",
    "\n",
    "1) There are no null values or missing values in the data frame\n",
    "\n",
    "2) The mean value of tenure is greater than its median(50%) and same with the TotalCharges column, this means that the data is skewed right in these columns.\n",
    "\n",
    "3) The data in the Monthly charges shows that mean value of it is less than its median. hence the data of this column is skewed to left.\n",
    "\n",
    "4) There is huge difference between third quartile and max value of Total charges column. Hence there might be outliers in this column.\n",
    "\n",
    "5) We can also see the values of std deviation, min, 25% percentile from this method."
   ]
  },
  {
   "cell_type": "code",
   "execution_count": 27,
   "id": "c8d73382",
   "metadata": {},
   "outputs": [
    {
     "data": {
      "text/plain": [
       "<AxesSubplot:>"
      ]
     },
     "execution_count": 27,
     "metadata": {},
     "output_type": "execute_result"
    },
    {
     "data": {
      "image/png": "[encoded data removed]",
      "text/plain": [
       "<Figure size 640x480 with 2 Axes>"
      ]
     },
     "metadata": {},
     "output_type": "display_data"
    }
   ],
   "source": [
    "#Checking for null values using heatmap\n",
    "import seaborn as sns\n",
    "sns.heatmap(po.isnull(), cmap = 'magma_r')"
   ]
  },
  {
   "cell_type": "code",
   "execution_count": 28,
   "id": "38bb91e4",
   "metadata": {},
   "outputs": [
    {
     "name": "stdout",
     "output_type": "stream",
     "text": [
      "Coal       258\n",
      "Hydro      251\n",
      "Solar      127\n",
      "Wind       123\n",
      "Gas         69\n",
      "Biomass     50\n",
      "Oil         20\n",
      "Nuclear      9\n",
      "Name: primary_fuel, dtype: int64\n"
     ]
    },
    {
     "data": {
      "image/png": "[encoded data removed]",
      "text/plain": [
       "<Figure size 640x480 with 1 Axes>"
      ]
     },
     "metadata": {},
     "output_type": "display_data"
    }
   ],
   "source": [
    "#Visulaizing the count of primary fuel\n",
    "sns.set_style(\"whitegrid\")\n",
    "ax = sns.countplot(x = 'primary_fuel', data =po)\n",
    "print(po['primary_fuel'].value_counts())"
   ]
  },
  {
   "cell_type": "markdown",
   "id": "53075521",
   "metadata": {},
   "source": [
    "By above observation we can say that coal and Hydro are highly used as primary fuels for power plants."
   ]
  },
  {
   "cell_type": "code",
   "execution_count": 29,
   "id": "bafe199f",
   "metadata": {},
   "outputs": [
    {
     "data": {
      "text/html": [
       "<div>\n",
       "<style scoped>\n",
       "    .dataframe tbody tr th:only-of-type {\n",
       "        vertical-align: middle;\n",
       "    }\n",
       "\n",
       "    .dataframe tbody tr th {\n",
       "        vertical-align: top;\n",
       "    }\n",
       "\n",
       "    .dataframe thead th {\n",
       "        text-align: right;\n",
       "    }\n",
       "</style>\n",
       "<table border=\"1\" class=\"dataframe\">\n",
       "  <thead>\n",
       "    <tr style=\"text-align: right;\">\n",
       "      <th></th>\n",
       "      <th>capacity_mw</th>\n",
       "      <th>latitude</th>\n",
       "      <th>longitude</th>\n",
       "      <th>primary_fuel</th>\n",
       "      <th>commissioning_year</th>\n",
       "      <th>source</th>\n",
       "      <th>geolocation_source</th>\n",
       "      <th>generation_gwh_2014</th>\n",
       "      <th>generation_gwh_2015</th>\n",
       "      <th>generation_gwh_2016</th>\n",
       "      <th>generation_gwh_2017</th>\n",
       "      <th>generation_gwh_2018</th>\n",
       "    </tr>\n",
       "  </thead>\n",
       "  <tbody>\n",
       "    <tr>\n",
       "      <th>0</th>\n",
       "      <td>2.5</td>\n",
       "      <td>28.1839</td>\n",
       "      <td>73.2407</td>\n",
       "      <td>Solar</td>\n",
       "      <td>2011.0</td>\n",
       "      <td>National Renewable Energy Laboratory</td>\n",
       "      <td>National Renewable Energy Laboratory</td>\n",
       "      <td>59.200000</td>\n",
       "      <td>59.200</td>\n",
       "      <td>59.200000</td>\n",
       "      <td>59.200000</td>\n",
       "      <td>59.200000</td>\n",
       "    </tr>\n",
       "    <tr>\n",
       "      <th>1</th>\n",
       "      <td>98.0</td>\n",
       "      <td>24.7663</td>\n",
       "      <td>74.6090</td>\n",
       "      <td>Coal</td>\n",
       "      <td>59.2</td>\n",
       "      <td>Ultratech Cement ltd</td>\n",
       "      <td>WRI</td>\n",
       "      <td>59.200000</td>\n",
       "      <td>59.200</td>\n",
       "      <td>59.200000</td>\n",
       "      <td>59.200000</td>\n",
       "      <td>59.200000</td>\n",
       "    </tr>\n",
       "    <tr>\n",
       "      <th>2</th>\n",
       "      <td>39.2</td>\n",
       "      <td>21.9038</td>\n",
       "      <td>69.3732</td>\n",
       "      <td>Wind</td>\n",
       "      <td>59.2</td>\n",
       "      <td>CDM</td>\n",
       "      <td>WRI</td>\n",
       "      <td>59.200000</td>\n",
       "      <td>59.200</td>\n",
       "      <td>59.200000</td>\n",
       "      <td>59.200000</td>\n",
       "      <td>59.200000</td>\n",
       "    </tr>\n",
       "    <tr>\n",
       "      <th>3</th>\n",
       "      <td>135.0</td>\n",
       "      <td>23.8712</td>\n",
       "      <td>91.3602</td>\n",
       "      <td>Gas</td>\n",
       "      <td>2004.0</td>\n",
       "      <td>Central Electricity Authority</td>\n",
       "      <td>WRI</td>\n",
       "      <td>617.789264</td>\n",
       "      <td>843.747</td>\n",
       "      <td>886.004428</td>\n",
       "      <td>663.774500</td>\n",
       "      <td>626.239128</td>\n",
       "    </tr>\n",
       "    <tr>\n",
       "      <th>4</th>\n",
       "      <td>1800.0</td>\n",
       "      <td>21.9603</td>\n",
       "      <td>82.4091</td>\n",
       "      <td>Coal</td>\n",
       "      <td>2015.0</td>\n",
       "      <td>Central Electricity Authority</td>\n",
       "      <td>WRI</td>\n",
       "      <td>3035.550000</td>\n",
       "      <td>5916.370</td>\n",
       "      <td>6243.000000</td>\n",
       "      <td>5385.579736</td>\n",
       "      <td>7279.000000</td>\n",
       "    </tr>\n",
       "  </tbody>\n",
       "</table>\n",
       "</div>"
      ],
      "text/plain": [
       "   capacity_mw  latitude  longitude primary_fuel  commissioning_year  \\\n",
       "0          2.5   28.1839    73.2407        Solar              2011.0   \n",
       "1         98.0   24.7663    74.6090         Coal                59.2   \n",
       "2         39.2   21.9038    69.3732         Wind                59.2   \n",
       "3        135.0   23.8712    91.3602          Gas              2004.0   \n",
       "4       1800.0   21.9603    82.4091         Coal              2015.0   \n",
       "\n",
       "                                 source                    geolocation_source  \\\n",
       "0  National Renewable Energy Laboratory  National Renewable Energy Laboratory   \n",
       "1                  Ultratech Cement ltd                                   WRI   \n",
       "2                                   CDM                                   WRI   \n",
       "3         Central Electricity Authority                                   WRI   \n",
       "4         Central Electricity Authority                                   WRI   \n",
       "\n",
       "   generation_gwh_2014  generation_gwh_2015  generation_gwh_2016  \\\n",
       "0            59.200000               59.200            59.200000   \n",
       "1            59.200000               59.200            59.200000   \n",
       "2            59.200000               59.200            59.200000   \n",
       "3           617.789264              843.747           886.004428   \n",
       "4          3035.550000             5916.370          6243.000000   \n",
       "\n",
       "   generation_gwh_2017  generation_gwh_2018  \n",
       "0            59.200000            59.200000  \n",
       "1            59.200000            59.200000  \n",
       "2            59.200000            59.200000  \n",
       "3           663.774500           626.239128  \n",
       "4          5385.579736          7279.000000  "
      ]
     },
     "execution_count": 29,
     "metadata": {},
     "output_type": "execute_result"
    }
   ],
   "source": [
    "po.head()"
   ]
  },
  {
   "cell_type": "code",
   "execution_count": 30,
   "id": "ec7eee68",
   "metadata": {},
   "outputs": [
    {
     "data": {
      "image/png": "[encoded data removed]",
      "text/plain": [
       "<Figure size 1500x2000 with 9 Axes>"
      ]
     },
     "metadata": {},
     "output_type": "display_data"
    }
   ],
   "source": [
    "# checking distribution of the data\n",
    "plt.figure(figsize = (15,20), facecolor = 'grey')\n",
    "count = 1\n",
    "for i in num:\n",
    "    if count<= 12:\n",
    "        ax = plt.subplot(6,2, count)\n",
    "        sns.distplot(po[i], color = 'orange', kde = True,kde_kws = {'color':'black'})\n",
    "        plt.xlabel(i, fontsize = 10)\n",
    "    count+=1\n",
    "plt.tight_layout()"
   ]
  },
  {
   "cell_type": "code",
   "execution_count": 31,
   "id": "cf1f34cc",
   "metadata": {},
   "outputs": [
    {
     "data": {
      "text/plain": [
       "capacity_mw            3.123576\n",
       "latitude               1.940249\n",
       "longitude             -0.295883\n",
       "commissioning_year    -0.328473\n",
       "generation_gwh_2014    5.018549\n",
       "generation_gwh_2015    5.292321\n",
       "generation_gwh_2016    5.014692\n",
       "generation_gwh_2017    5.010509\n",
       "generation_gwh_2018    4.874039\n",
       "dtype: float64"
      ]
     },
     "execution_count": 31,
     "metadata": {},
     "output_type": "execute_result"
    }
   ],
   "source": [
    "po.skew()"
   ]
  },
  {
   "cell_type": "markdown",
   "id": "c2578556",
   "metadata": {},
   "source": [
    "By above distribution plot and skew method we can observe that the columns capacity_mw, generation_gwh_2014,generation_gwh_2015,generation_gwh_2016,generation_gwh_2017 and generation_gwh_2018 are right skewed.\n",
    "We shall remove the skewness in the later stages"
   ]
  },
  {
   "cell_type": "code",
   "execution_count": 32,
   "id": "955ee324",
   "metadata": {
    "scrolled": true
   },
   "outputs": [
    {
     "data": {
      "text/plain": [
       "['capacity_mw',\n",
       " 'latitude',\n",
       " 'longitude',\n",
       " 'commissioning_year',\n",
       " 'generation_gwh_2014',\n",
       " 'generation_gwh_2015',\n",
       " 'generation_gwh_2016',\n",
       " 'generation_gwh_2017',\n",
       " 'generation_gwh_2018']"
      ]
     },
     "execution_count": 32,
     "metadata": {},
     "output_type": "execute_result"
    }
   ],
   "source": [
    "num"
   ]
  },
  {
   "cell_type": "code",
   "execution_count": 33,
   "id": "308530e3",
   "metadata": {},
   "outputs": [],
   "source": [
    "features = num[4:]"
   ]
  },
  {
   "cell_type": "code",
   "execution_count": 34,
   "id": "4754c675",
   "metadata": {},
   "outputs": [
    {
     "data": {
      "text/plain": [
       "Index(['capacity_mw', 'latitude', 'longitude', 'primary_fuel',\n",
       "       'commissioning_year', 'source', 'geolocation_source',\n",
       "       'generation_gwh_2014', 'generation_gwh_2015', 'generation_gwh_2016',\n",
       "       'generation_gwh_2017', 'generation_gwh_2018'],\n",
       "      dtype='object')"
      ]
     },
     "execution_count": 34,
     "metadata": {},
     "output_type": "execute_result"
    }
   ],
   "source": [
    "po.columns"
   ]
  },
  {
   "cell_type": "code",
   "execution_count": 35,
   "id": "aff44d2a",
   "metadata": {},
   "outputs": [
    {
     "data": {
      "image/png": "[encoded data removed]",
      "text/plain": [
       "<Figure size 1500x2000 with 5 Axes>"
      ]
     },
     "metadata": {},
     "output_type": "display_data"
    }
   ],
   "source": [
    "plt.figure(figsize = (15,20), facecolor = 'grey')\n",
    "count = 1\n",
    "for i in features:\n",
    "    if count<= 12:\n",
    "        ax = plt.subplot(6,2, count)\n",
    "        sns.scatterplot(x='capacity_mw',y=po[i],data=po, color = 'brown')\n",
    "        plt.xlabel(i, fontsize = 10)\n",
    "    count+=1\n",
    "plt.tight_layout()"
   ]
  },
  {
   "cell_type": "markdown",
   "id": "3dd75a8e",
   "metadata": {},
   "source": [
    "From the above scatter plots We can observe that as electricity generation in gigawatt-hour increasing, the no of electrical generating capacity in megawatts in 2014, megawatts in 2015,megawatts in 2016,megawatts in 2017 & megawatts in 2018 also increases."
   ]
  },
  {
   "cell_type": "code",
   "execution_count": 36,
   "id": "488cab73",
   "metadata": {},
   "outputs": [
    {
     "data": {
      "image/png": "[encoded data removed]",
      "text/plain": [
       "<Figure size 1500x2000 with 5 Axes>"
      ]
     },
     "metadata": {},
     "output_type": "display_data"
    }
   ],
   "source": [
    "plt.figure(figsize = (15,20), facecolor = 'grey')\n",
    "count = 1\n",
    "for i in features:\n",
    "    if count<= 12:\n",
    "        ax = plt.subplot(6,2, count)\n",
    "        sns.scatterplot(x='primary_fuel',y=po[i],data=po, color = 'blue')\n",
    "        plt.xlabel(i, fontsize = 10)\n",
    "    count+=1\n",
    "plt.tight_layout()"
   ]
  },
  {
   "cell_type": "markdown",
   "id": "3779bed1",
   "metadata": {},
   "source": [
    "Between 2014 and 2018, coal was the most commonly utilized fuel, while nuclear, gas, and hydro power were used on an average basis. Conversely, solar, wind, biomass, and oil were considerably less utilized during this period."
   ]
  },
  {
   "cell_type": "code",
   "execution_count": 37,
   "id": "0abf81f2",
   "metadata": {},
   "outputs": [
    {
     "name": "stdout",
     "output_type": "stream",
     "text": [
      "<class 'pandas.core.frame.DataFrame'>\n",
      "RangeIndex: 907 entries, 0 to 906\n",
      "Data columns (total 12 columns):\n",
      " #   Column               Non-Null Count  Dtype  \n",
      "---  ------               --------------  -----  \n",
      " 0   capacity_mw          907 non-null    float64\n",
      " 1   latitude             907 non-null    float64\n",
      " 2   longitude            907 non-null    float64\n",
      " 3   primary_fuel         907 non-null    object \n",
      " 4   commissioning_year   907 non-null    float64\n",
      " 5   source               907 non-null    object \n",
      " 6   geolocation_source   907 non-null    object \n",
      " 7   generation_gwh_2014  907 non-null    float64\n",
      " 8   generation_gwh_2015  907 non-null    float64\n",
      " 9   generation_gwh_2016  907 non-null    float64\n",
      " 10  generation_gwh_2017  907 non-null    float64\n",
      " 11  generation_gwh_2018  907 non-null    float64\n",
      "dtypes: float64(9), object(3)\n",
      "memory usage: 85.2+ KB\n"
     ]
    }
   ],
   "source": [
    "po.info()"
   ]
  },
  {
   "cell_type": "markdown",
   "id": "98c5adb2",
   "metadata": {},
   "source": [
    "Here we can see that the columns primary_fuel, source and geolocation_source are categorical columns. so inorder to apply ML model we need to encode these columns. we shall use LabelEncoder()method to encode these columns"
   ]
  },
  {
   "cell_type": "code",
   "execution_count": 38,
   "id": "4b833da6",
   "metadata": {},
   "outputs": [],
   "source": [
    "from sklearn.preprocessing import StandardScaler,LabelEncoder"
   ]
  },
  {
   "cell_type": "code",
   "execution_count": 39,
   "id": "72ab9c75",
   "metadata": {},
   "outputs": [],
   "source": [
    "encoder = LabelEncoder()\n",
    "po['primary_fuel'] = encoder.fit_transform(po['primary_fuel'])\n",
    "po['geolocation_source'] = encoder.fit_transform(po['geolocation_source'])\n",
    "po['source'] = encoder.fit_transform(po['source'])"
   ]
  },
  {
   "cell_type": "code",
   "execution_count": 40,
   "id": "55b85a76",
   "metadata": {},
   "outputs": [
    {
     "data": {
      "text/plain": [
       "array([6, 1, 7, 2, 3, 0, 5, 4])"
      ]
     },
     "execution_count": 40,
     "metadata": {},
     "output_type": "execute_result"
    }
   ],
   "source": [
    "po.primary_fuel.unique()"
   ]
  },
  {
   "cell_type": "code",
   "execution_count": 41,
   "id": "b0362914",
   "metadata": {},
   "outputs": [
    {
     "name": "stdout",
     "output_type": "stream",
     "text": [
      "<class 'pandas.core.frame.DataFrame'>\n",
      "RangeIndex: 907 entries, 0 to 906\n",
      "Data columns (total 12 columns):\n",
      " #   Column               Non-Null Count  Dtype  \n",
      "---  ------               --------------  -----  \n",
      " 0   capacity_mw          907 non-null    float64\n",
      " 1   latitude             907 non-null    float64\n",
      " 2   longitude            907 non-null    float64\n",
      " 3   primary_fuel         907 non-null    int32  \n",
      " 4   commissioning_year   907 non-null    float64\n",
      " 5   source               907 non-null    int32  \n",
      " 6   geolocation_source   907 non-null    int32  \n",
      " 7   generation_gwh_2014  907 non-null    float64\n",
      " 8   generation_gwh_2015  907 non-null    float64\n",
      " 9   generation_gwh_2016  907 non-null    float64\n",
      " 10  generation_gwh_2017  907 non-null    float64\n",
      " 11  generation_gwh_2018  907 non-null    float64\n",
      "dtypes: float64(9), int32(3)\n",
      "memory usage: 74.5 KB\n"
     ]
    }
   ],
   "source": [
    "po.info()"
   ]
  },
  {
   "cell_type": "markdown",
   "id": "4428097d",
   "metadata": {},
   "source": [
    "Encoded succesfully."
   ]
  },
  {
   "cell_type": "code",
   "execution_count": 42,
   "id": "19bf08c7",
   "metadata": {},
   "outputs": [
    {
     "data": {
      "image/png": "[encoded data removed]",
      "text/plain": [
       "<Figure size 1500x800 with 5 Axes>"
      ]
     },
     "metadata": {},
     "output_type": "display_data"
    }
   ],
   "source": [
    "#checking for the outliers\n",
    "plt.figure(figsize = (15,8))\n",
    "point= 1\n",
    "for i in features:\n",
    "    if point<=9:\n",
    "        ax = plt.subplot(3,3,point)\n",
    "        sns.boxplot(po[i], palette = 'gist_earth')\n",
    "        plt.xlabel(i, fontsize = 20)\n",
    "        plt.yticks(rotation = 10, fontsize = 10)\n",
    "    point+=1\n",
    "plt.tight_layout()"
   ]
  },
  {
   "cell_type": "markdown",
   "id": "4fd3b5e7",
   "metadata": {},
   "source": [
    "We can observe from the above graph we have outliers present in the columns 'capacity_mw',latitude','longitude','generation_gwh_2014','generation_gwh_2015','generation_gwh_2016','generation_gwh_2017' & 'generation_gwh_2018'. Since latitude and longitude are not going affect our dataset we shall remove outliers for remaining columns using zscore method"
   ]
  },
  {
   "cell_type": "code",
   "execution_count": 43,
   "id": "b511d22a",
   "metadata": {},
   "outputs": [],
   "source": [
    "from scipy.stats import zscore\n",
    "z=np.abs(zscore(po[['capacity_mw','generation_gwh_2014','generation_gwh_2015','generation_gwh_2016','generation_gwh_2017','generation_gwh_2018']]))\n"
   ]
  },
  {
   "cell_type": "code",
   "execution_count": 44,
   "id": "383b3cca",
   "metadata": {},
   "outputs": [
    {
     "name": "stdout",
     "output_type": "stream",
     "text": [
      "(array([ 15,  15,  15,  15,  15, 143, 143, 143, 143, 143, 143, 147, 158,\n",
      "       209, 209, 209, 209, 209, 209, 308, 308, 308, 308, 308, 308, 363,\n",
      "       364, 364, 364, 364, 364, 364, 375, 482, 482, 493, 493, 493, 493,\n",
      "       493, 493, 494, 494, 494, 494, 494, 494, 532, 623, 648, 648, 648,\n",
      "       648, 648, 648, 657, 657, 657, 657, 657, 657, 695, 695, 695, 695,\n",
      "       695, 695, 721, 721, 721, 721, 721, 724, 724, 724, 724, 724, 726,\n",
      "       726, 726, 726, 726, 726, 767, 786, 786, 786, 786, 786, 786, 788,\n",
      "       808, 808, 808, 808, 808, 808, 880, 880, 880, 880, 880, 880],\n",
      "      dtype=int64), array([0, 2, 3, 4, 5, 0, 1, 2, 3, 4, 5, 0, 1, 0, 1, 2, 3, 4, 5, 0, 1, 2,\n",
      "       3, 4, 5, 0, 0, 1, 2, 3, 4, 5, 0, 0, 5, 0, 1, 2, 3, 4, 5, 0, 1, 2,\n",
      "       3, 4, 5, 1, 1, 0, 1, 2, 3, 4, 5, 0, 1, 2, 3, 4, 5, 0, 1, 2, 3, 4,\n",
      "       5, 1, 2, 3, 4, 5, 1, 2, 3, 4, 5, 0, 1, 2, 3, 4, 5, 0, 0, 1, 2, 3,\n",
      "       4, 5, 0, 0, 1, 2, 3, 4, 5, 0, 1, 2, 3, 4, 5], dtype=int64))\n"
     ]
    }
   ],
   "source": [
    "print(np.where(z>3))"
   ]
  },
  {
   "cell_type": "code",
   "execution_count": 45,
   "id": "2852e690",
   "metadata": {},
   "outputs": [
    {
     "name": "stdout",
     "output_type": "stream",
     "text": [
      "Shape of the dataframe before removing outliers:  (907, 12)\n",
      "Shape of the dataframe after removing outliers:  (882, 12)\n",
      "Percentage of data loss post outlier removal:  2.7563395810363835\n"
     ]
    }
   ],
   "source": [
    "threshold = 3\n",
    "po1 = po[(z<3).all(axis = 1)]\n",
    "print (\"Shape of the dataframe before removing outliers: \", po.shape)\n",
    "print (\"Shape of the dataframe after removing outliers: \", po1.shape)\n",
    "print (\"Percentage of data loss post outlier removal: \", (po.shape[0]-po1.shape[0])/po.shape[0]*100)"
   ]
  },
  {
   "cell_type": "code",
   "execution_count": 46,
   "id": "b2081989",
   "metadata": {},
   "outputs": [
    {
     "data": {
      "text/plain": [
       "(882, 12)"
      ]
     },
     "execution_count": 46,
     "metadata": {},
     "output_type": "execute_result"
    }
   ],
   "source": [
    "po1.shape"
   ]
  },
  {
   "cell_type": "code",
   "execution_count": 47,
   "id": "6597da64",
   "metadata": {},
   "outputs": [
    {
     "data": {
      "text/plain": [
       "capacity_mw            2.054665\n",
       "latitude               1.914796\n",
       "longitude             -0.275375\n",
       "primary_fuel           0.428186\n",
       "commissioning_year    -0.279248\n",
       "source                 1.782583\n",
       "geolocation_source    -2.112610\n",
       "generation_gwh_2014    2.885639\n",
       "generation_gwh_2015    2.711018\n",
       "generation_gwh_2016    2.651120\n",
       "generation_gwh_2017    2.563221\n",
       "generation_gwh_2018    2.615528\n",
       "dtype: float64"
      ]
     },
     "execution_count": 47,
     "metadata": {},
     "output_type": "execute_result"
    }
   ],
   "source": [
    "po1.skew()"
   ]
  },
  {
   "cell_type": "markdown",
   "id": "bc76a6ee",
   "metadata": {},
   "source": [
    "Skewness values greater than or less than +/- 0.5 are considered to have significant skewness and require treatment.\n",
    "Regarding object columns, no treatment or reframing is typically applied."
   ]
  },
  {
   "cell_type": "code",
   "execution_count": 48,
   "id": "a38eec75",
   "metadata": {},
   "outputs": [],
   "source": [
    "from sklearn.preprocessing import power_transform"
   ]
  },
  {
   "cell_type": "code",
   "execution_count": 49,
   "id": "891bde48",
   "metadata": {},
   "outputs": [
    {
     "data": {
      "text/plain": [
       "capacity_mw            0.016603\n",
       "latitude               1.914796\n",
       "longitude             -0.275375\n",
       "primary_fuel           0.428186\n",
       "commissioning_year    -0.279248\n",
       "source                 1.782583\n",
       "geolocation_source    -2.112610\n",
       "generation_gwh_2014   -0.016889\n",
       "generation_gwh_2015   -0.015204\n",
       "generation_gwh_2016   -0.011726\n",
       "generation_gwh_2017   -0.006580\n",
       "generation_gwh_2018   -0.001061\n",
       "dtype: float64"
      ]
     },
     "execution_count": 49,
     "metadata": {},
     "output_type": "execute_result"
    }
   ],
   "source": [
    "po1[['capacity_mw','generation_gwh_2014','generation_gwh_2015','generation_gwh_2016','generation_gwh_2017','generation_gwh_2018']]=power_transform(po1[['capacity_mw','generation_gwh_2014','generation_gwh_2015','generation_gwh_2016','generation_gwh_2017','generation_gwh_2018']])\n",
    "po1.skew()"
   ]
  },
  {
   "cell_type": "markdown",
   "id": "dccf3b49",
   "metadata": {},
   "source": [
    "### Regression model"
   ]
  },
  {
   "cell_type": "markdown",
   "id": "c9feae91",
   "metadata": {},
   "source": [
    "We shall take capacity_mw as target for building regression model"
   ]
  },
  {
   "cell_type": "code",
   "execution_count": 50,
   "id": "e98c6dba",
   "metadata": {},
   "outputs": [],
   "source": [
    "from sklearn.model_selection import train_test_split\n",
    "from sklearn.metrics import  mean_absolute_error\n",
    "from sklearn.metrics import mean_squared_error\n",
    "from sklearn.metrics import r2_score\n",
    "from sklearn.ensemble import GradientBoostingRegressor\n",
    "from sklearn.linear_model import LinearRegression\n",
    "from sklearn.ensemble import RandomForestRegressor\n",
    "from sklearn.tree import DecisionTreeRegressor\n",
    "from sklearn.neighbors import KNeighborsRegressor as KNN\n",
    "from sklearn.linear_model import Lasso,Ridge\n",
    "from sklearn.svm import SVR\n",
    "from sklearn.ensemble import ExtraTreesRegressor"
   ]
  },
  {
   "cell_type": "code",
   "execution_count": 51,
   "id": "7c77745d",
   "metadata": {},
   "outputs": [],
   "source": [
    "x = po1.drop('capacity_mw', axis = 1)\n",
    "y = po1.capacity_mw"
   ]
  },
  {
   "cell_type": "code",
   "execution_count": 52,
   "id": "94d38637",
   "metadata": {},
   "outputs": [],
   "source": [
    "from sklearn.preprocessing import MinMaxScaler\n",
    "scaler = MinMaxScaler()"
   ]
  },
  {
   "cell_type": "code",
   "execution_count": 53,
   "id": "67f10d35",
   "metadata": {},
   "outputs": [
    {
     "data": {
      "text/html": [
       "<div>\n",
       "<style scoped>\n",
       "    .dataframe tbody tr th:only-of-type {\n",
       "        vertical-align: middle;\n",
       "    }\n",
       "\n",
       "    .dataframe tbody tr th {\n",
       "        vertical-align: top;\n",
       "    }\n",
       "\n",
       "    .dataframe thead th {\n",
       "        text-align: right;\n",
       "    }\n",
       "</style>\n",
       "<table border=\"1\" class=\"dataframe\">\n",
       "  <thead>\n",
       "    <tr style=\"text-align: right;\">\n",
       "      <th></th>\n",
       "      <th>latitude</th>\n",
       "      <th>longitude</th>\n",
       "      <th>primary_fuel</th>\n",
       "      <th>commissioning_year</th>\n",
       "      <th>source</th>\n",
       "      <th>geolocation_source</th>\n",
       "      <th>generation_gwh_2014</th>\n",
       "      <th>generation_gwh_2015</th>\n",
       "      <th>generation_gwh_2016</th>\n",
       "      <th>generation_gwh_2017</th>\n",
       "      <th>generation_gwh_2018</th>\n",
       "    </tr>\n",
       "  </thead>\n",
       "  <tbody>\n",
       "    <tr>\n",
       "      <th>0</th>\n",
       "      <td>0.392212</td>\n",
       "      <td>0.387779</td>\n",
       "      <td>0.857143</td>\n",
       "      <td>0.996426</td>\n",
       "      <td>0.573684</td>\n",
       "      <td>0.5</td>\n",
       "      <td>0.479779</td>\n",
       "      <td>0.480732</td>\n",
       "      <td>0.473836</td>\n",
       "      <td>0.467732</td>\n",
       "      <td>0.449059</td>\n",
       "    </tr>\n",
       "    <tr>\n",
       "      <th>1</th>\n",
       "      <td>0.325241</td>\n",
       "      <td>0.425569</td>\n",
       "      <td>0.142857</td>\n",
       "      <td>0.000000</td>\n",
       "      <td>0.915789</td>\n",
       "      <td>1.0</td>\n",
       "      <td>0.479779</td>\n",
       "      <td>0.480732</td>\n",
       "      <td>0.473836</td>\n",
       "      <td>0.467732</td>\n",
       "      <td>0.449059</td>\n",
       "    </tr>\n",
       "    <tr>\n",
       "      <th>2</th>\n",
       "      <td>0.269148</td>\n",
       "      <td>0.280966</td>\n",
       "      <td>1.000000</td>\n",
       "      <td>0.000000</td>\n",
       "      <td>0.110526</td>\n",
       "      <td>1.0</td>\n",
       "      <td>0.479779</td>\n",
       "      <td>0.480732</td>\n",
       "      <td>0.473836</td>\n",
       "      <td>0.467732</td>\n",
       "      <td>0.449059</td>\n",
       "    </tr>\n",
       "    <tr>\n",
       "      <th>3</th>\n",
       "      <td>0.307701</td>\n",
       "      <td>0.888207</td>\n",
       "      <td>0.285714</td>\n",
       "      <td>0.992853</td>\n",
       "      <td>0.115789</td>\n",
       "      <td>1.0</td>\n",
       "      <td>0.729181</td>\n",
       "      <td>0.761517</td>\n",
       "      <td>0.759624</td>\n",
       "      <td>0.727185</td>\n",
       "      <td>0.703376</td>\n",
       "    </tr>\n",
       "    <tr>\n",
       "      <th>4</th>\n",
       "      <td>0.270255</td>\n",
       "      <td>0.640994</td>\n",
       "      <td>0.142857</td>\n",
       "      <td>0.998468</td>\n",
       "      <td>0.115789</td>\n",
       "      <td>1.0</td>\n",
       "      <td>0.890393</td>\n",
       "      <td>0.955037</td>\n",
       "      <td>0.955278</td>\n",
       "      <td>0.944763</td>\n",
       "      <td>0.967455</td>\n",
       "    </tr>\n",
       "    <tr>\n",
       "      <th>...</th>\n",
       "      <td>...</td>\n",
       "      <td>...</td>\n",
       "      <td>...</td>\n",
       "      <td>...</td>\n",
       "      <td>...</td>\n",
       "      <td>...</td>\n",
       "      <td>...</td>\n",
       "      <td>...</td>\n",
       "      <td>...</td>\n",
       "      <td>...</td>\n",
       "      <td>...</td>\n",
       "    </tr>\n",
       "    <tr>\n",
       "      <th>877</th>\n",
       "      <td>0.159236</td>\n",
       "      <td>0.501458</td>\n",
       "      <td>0.142857</td>\n",
       "      <td>0.998979</td>\n",
       "      <td>0.115789</td>\n",
       "      <td>1.0</td>\n",
       "      <td>0.479779</td>\n",
       "      <td>0.085095</td>\n",
       "      <td>0.620728</td>\n",
       "      <td>0.755161</td>\n",
       "      <td>0.713293</td>\n",
       "    </tr>\n",
       "    <tr>\n",
       "      <th>878</th>\n",
       "      <td>0.092577</td>\n",
       "      <td>0.523790</td>\n",
       "      <td>0.857143</td>\n",
       "      <td>0.000000</td>\n",
       "      <td>0.405263</td>\n",
       "      <td>0.0</td>\n",
       "      <td>0.479779</td>\n",
       "      <td>0.480732</td>\n",
       "      <td>0.473836</td>\n",
       "      <td>0.467732</td>\n",
       "      <td>0.449059</td>\n",
       "    </tr>\n",
       "    <tr>\n",
       "      <th>879</th>\n",
       "      <td>0.139266</td>\n",
       "      <td>0.452417</td>\n",
       "      <td>1.000000</td>\n",
       "      <td>0.000000</td>\n",
       "      <td>0.110526</td>\n",
       "      <td>1.0</td>\n",
       "      <td>0.479779</td>\n",
       "      <td>0.480732</td>\n",
       "      <td>0.473836</td>\n",
       "      <td>0.467732</td>\n",
       "      <td>0.449059</td>\n",
       "    </tr>\n",
       "    <tr>\n",
       "      <th>880</th>\n",
       "      <td>0.317083</td>\n",
       "      <td>0.401781</td>\n",
       "      <td>0.142857</td>\n",
       "      <td>0.000000</td>\n",
       "      <td>0.310526</td>\n",
       "      <td>1.0</td>\n",
       "      <td>0.479779</td>\n",
       "      <td>0.480732</td>\n",
       "      <td>0.473836</td>\n",
       "      <td>0.467732</td>\n",
       "      <td>0.449059</td>\n",
       "    </tr>\n",
       "    <tr>\n",
       "      <th>881</th>\n",
       "      <td>0.034597</td>\n",
       "      <td>0.504772</td>\n",
       "      <td>1.000000</td>\n",
       "      <td>0.000000</td>\n",
       "      <td>0.110526</td>\n",
       "      <td>1.0</td>\n",
       "      <td>0.479779</td>\n",
       "      <td>0.480732</td>\n",
       "      <td>0.473836</td>\n",
       "      <td>0.467732</td>\n",
       "      <td>0.449059</td>\n",
       "    </tr>\n",
       "  </tbody>\n",
       "</table>\n",
       "<p>882 rows × 11 columns</p>\n",
       "</div>"
      ],
      "text/plain": [
       "     latitude  longitude  primary_fuel  commissioning_year    source  \\\n",
       "0    0.392212   0.387779      0.857143            0.996426  0.573684   \n",
       "1    0.325241   0.425569      0.142857            0.000000  0.915789   \n",
       "2    0.269148   0.280966      1.000000            0.000000  0.110526   \n",
       "3    0.307701   0.888207      0.285714            0.992853  0.115789   \n",
       "4    0.270255   0.640994      0.142857            0.998468  0.115789   \n",
       "..        ...        ...           ...                 ...       ...   \n",
       "877  0.159236   0.501458      0.142857            0.998979  0.115789   \n",
       "878  0.092577   0.523790      0.857143            0.000000  0.405263   \n",
       "879  0.139266   0.452417      1.000000            0.000000  0.110526   \n",
       "880  0.317083   0.401781      0.142857            0.000000  0.310526   \n",
       "881  0.034597   0.504772      1.000000            0.000000  0.110526   \n",
       "\n",
       "     geolocation_source  generation_gwh_2014  generation_gwh_2015  \\\n",
       "0                   0.5             0.479779             0.480732   \n",
       "1                   1.0             0.479779             0.480732   \n",
       "2                   1.0             0.479779             0.480732   \n",
       "3                   1.0             0.729181             0.761517   \n",
       "4                   1.0             0.890393             0.955037   \n",
       "..                  ...                  ...                  ...   \n",
       "877                 1.0             0.479779             0.085095   \n",
       "878                 0.0             0.479779             0.480732   \n",
       "879                 1.0             0.479779             0.480732   \n",
       "880                 1.0             0.479779             0.480732   \n",
       "881                 1.0             0.479779             0.480732   \n",
       "\n",
       "     generation_gwh_2016  generation_gwh_2017  generation_gwh_2018  \n",
       "0               0.473836             0.467732             0.449059  \n",
       "1               0.473836             0.467732             0.449059  \n",
       "2               0.473836             0.467732             0.449059  \n",
       "3               0.759624             0.727185             0.703376  \n",
       "4               0.955278             0.944763             0.967455  \n",
       "..                   ...                  ...                  ...  \n",
       "877             0.620728             0.755161             0.713293  \n",
       "878             0.473836             0.467732             0.449059  \n",
       "879             0.473836             0.467732             0.449059  \n",
       "880             0.473836             0.467732             0.449059  \n",
       "881             0.473836             0.467732             0.449059  \n",
       "\n",
       "[882 rows x 11 columns]"
      ]
     },
     "execution_count": 53,
     "metadata": {},
     "output_type": "execute_result"
    }
   ],
   "source": [
    "x = pd.DataFrame(scaler.fit_transform(x), columns = x.columns) # scaler will give out put in array form hence we converting it to dataframe\n",
    "x"
   ]
  },
  {
   "cell_type": "code",
   "execution_count": 54,
   "id": "be359e87",
   "metadata": {},
   "outputs": [
    {
     "data": {
      "text/html": [
       "<div>\n",
       "<style scoped>\n",
       "    .dataframe tbody tr th:only-of-type {\n",
       "        vertical-align: middle;\n",
       "    }\n",
       "\n",
       "    .dataframe tbody tr th {\n",
       "        vertical-align: top;\n",
       "    }\n",
       "\n",
       "    .dataframe thead th {\n",
       "        text-align: right;\n",
       "    }\n",
       "</style>\n",
       "<table border=\"1\" class=\"dataframe\">\n",
       "  <thead>\n",
       "    <tr style=\"text-align: right;\">\n",
       "      <th></th>\n",
       "      <th>count</th>\n",
       "      <th>mean</th>\n",
       "      <th>std</th>\n",
       "      <th>min</th>\n",
       "      <th>25%</th>\n",
       "      <th>50%</th>\n",
       "      <th>75%</th>\n",
       "      <th>max</th>\n",
       "    </tr>\n",
       "  </thead>\n",
       "  <tbody>\n",
       "    <tr>\n",
       "      <th>latitude</th>\n",
       "      <td>882.0</td>\n",
       "      <td>0.293848</td>\n",
       "      <td>0.204767</td>\n",
       "      <td>0.0</td>\n",
       "      <td>0.172280</td>\n",
       "      <td>0.274085</td>\n",
       "      <td>0.365181</td>\n",
       "      <td>1.0</td>\n",
       "    </tr>\n",
       "    <tr>\n",
       "      <th>longitude</th>\n",
       "      <td>882.0</td>\n",
       "      <td>0.475981</td>\n",
       "      <td>0.173376</td>\n",
       "      <td>0.0</td>\n",
       "      <td>0.401798</td>\n",
       "      <td>0.475058</td>\n",
       "      <td>0.549905</td>\n",
       "      <td>1.0</td>\n",
       "    </tr>\n",
       "    <tr>\n",
       "      <th>primary_fuel</th>\n",
       "      <td>882.0</td>\n",
       "      <td>0.466958</td>\n",
       "      <td>0.325982</td>\n",
       "      <td>0.0</td>\n",
       "      <td>0.142857</td>\n",
       "      <td>0.428571</td>\n",
       "      <td>0.857143</td>\n",
       "      <td>1.0</td>\n",
       "    </tr>\n",
       "    <tr>\n",
       "      <th>commissioning_year</th>\n",
       "      <td>882.0</td>\n",
       "      <td>0.562984</td>\n",
       "      <td>0.490143</td>\n",
       "      <td>0.0</td>\n",
       "      <td>0.000000</td>\n",
       "      <td>0.978048</td>\n",
       "      <td>0.991832</td>\n",
       "      <td>1.0</td>\n",
       "    </tr>\n",
       "    <tr>\n",
       "      <th>source</th>\n",
       "      <td>882.0</td>\n",
       "      <td>0.234037</td>\n",
       "      <td>0.237462</td>\n",
       "      <td>0.0</td>\n",
       "      <td>0.115789</td>\n",
       "      <td>0.115789</td>\n",
       "      <td>0.188158</td>\n",
       "      <td>1.0</td>\n",
       "    </tr>\n",
       "    <tr>\n",
       "      <th>geolocation_source</th>\n",
       "      <td>882.0</td>\n",
       "      <td>0.862812</td>\n",
       "      <td>0.342589</td>\n",
       "      <td>0.0</td>\n",
       "      <td>1.000000</td>\n",
       "      <td>1.000000</td>\n",
       "      <td>1.000000</td>\n",
       "      <td>1.0</td>\n",
       "    </tr>\n",
       "    <tr>\n",
       "      <th>generation_gwh_2014</th>\n",
       "      <td>882.0</td>\n",
       "      <td>0.568775</td>\n",
       "      <td>0.196297</td>\n",
       "      <td>0.0</td>\n",
       "      <td>0.479779</td>\n",
       "      <td>0.479779</td>\n",
       "      <td>0.696765</td>\n",
       "      <td>1.0</td>\n",
       "    </tr>\n",
       "    <tr>\n",
       "      <th>generation_gwh_2015</th>\n",
       "      <td>882.0</td>\n",
       "      <td>0.571681</td>\n",
       "      <td>0.198850</td>\n",
       "      <td>0.0</td>\n",
       "      <td>0.480732</td>\n",
       "      <td>0.480732</td>\n",
       "      <td>0.705298</td>\n",
       "      <td>1.0</td>\n",
       "    </tr>\n",
       "    <tr>\n",
       "      <th>generation_gwh_2016</th>\n",
       "      <td>882.0</td>\n",
       "      <td>0.569223</td>\n",
       "      <td>0.201550</td>\n",
       "      <td>0.0</td>\n",
       "      <td>0.473836</td>\n",
       "      <td>0.473836</td>\n",
       "      <td>0.696480</td>\n",
       "      <td>1.0</td>\n",
       "    </tr>\n",
       "    <tr>\n",
       "      <th>generation_gwh_2017</th>\n",
       "      <td>882.0</td>\n",
       "      <td>0.567041</td>\n",
       "      <td>0.209030</td>\n",
       "      <td>0.0</td>\n",
       "      <td>0.467732</td>\n",
       "      <td>0.467732</td>\n",
       "      <td>0.706463</td>\n",
       "      <td>1.0</td>\n",
       "    </tr>\n",
       "    <tr>\n",
       "      <th>generation_gwh_2018</th>\n",
       "      <td>882.0</td>\n",
       "      <td>0.551176</td>\n",
       "      <td>0.214026</td>\n",
       "      <td>0.0</td>\n",
       "      <td>0.449059</td>\n",
       "      <td>0.449059</td>\n",
       "      <td>0.696289</td>\n",
       "      <td>1.0</td>\n",
       "    </tr>\n",
       "  </tbody>\n",
       "</table>\n",
       "</div>"
      ],
      "text/plain": [
       "                     count      mean       std  min       25%       50%  \\\n",
       "latitude             882.0  0.293848  0.204767  0.0  0.172280  0.274085   \n",
       "longitude            882.0  0.475981  0.173376  0.0  0.401798  0.475058   \n",
       "primary_fuel         882.0  0.466958  0.325982  0.0  0.142857  0.428571   \n",
       "commissioning_year   882.0  0.562984  0.490143  0.0  0.000000  0.978048   \n",
       "source               882.0  0.234037  0.237462  0.0  0.115789  0.115789   \n",
       "geolocation_source   882.0  0.862812  0.342589  0.0  1.000000  1.000000   \n",
       "generation_gwh_2014  882.0  0.568775  0.196297  0.0  0.479779  0.479779   \n",
       "generation_gwh_2015  882.0  0.571681  0.198850  0.0  0.480732  0.480732   \n",
       "generation_gwh_2016  882.0  0.569223  0.201550  0.0  0.473836  0.473836   \n",
       "generation_gwh_2017  882.0  0.567041  0.209030  0.0  0.467732  0.467732   \n",
       "generation_gwh_2018  882.0  0.551176  0.214026  0.0  0.449059  0.449059   \n",
       "\n",
       "                          75%  max  \n",
       "latitude             0.365181  1.0  \n",
       "longitude            0.549905  1.0  \n",
       "primary_fuel         0.857143  1.0  \n",
       "commissioning_year   0.991832  1.0  \n",
       "source               0.188158  1.0  \n",
       "geolocation_source   1.000000  1.0  \n",
       "generation_gwh_2014  0.696765  1.0  \n",
       "generation_gwh_2015  0.705298  1.0  \n",
       "generation_gwh_2016  0.696480  1.0  \n",
       "generation_gwh_2017  0.706463  1.0  \n",
       "generation_gwh_2018  0.696289  1.0  "
      ]
     },
     "execution_count": 54,
     "metadata": {},
     "output_type": "execute_result"
    }
   ],
   "source": [
    "x.describe().T"
   ]
  },
  {
   "cell_type": "code",
   "execution_count": 55,
   "id": "e445bfe6",
   "metadata": {},
   "outputs": [
    {
     "data": {
      "text/plain": [
       "latitude               0\n",
       "longitude              0\n",
       "primary_fuel           0\n",
       "commissioning_year     0\n",
       "source                 0\n",
       "geolocation_source     0\n",
       "generation_gwh_2014    0\n",
       "generation_gwh_2015    0\n",
       "generation_gwh_2016    0\n",
       "generation_gwh_2017    0\n",
       "generation_gwh_2018    0\n",
       "dtype: int64"
      ]
     },
     "execution_count": 55,
     "metadata": {},
     "output_type": "execute_result"
    }
   ],
   "source": [
    "x.isnull().sum()"
   ]
  },
  {
   "cell_type": "markdown",
   "id": "736453aa",
   "metadata": {},
   "source": [
    "There are no null values in the sacled data. Now the data has been scaled"
   ]
  },
  {
   "cell_type": "code",
   "execution_count": 56,
   "id": "a828b415",
   "metadata": {},
   "outputs": [
    {
     "name": "stdout",
     "output_type": "stream",
     "text": [
      "At random state 0, The training accuracy is: 0.6010934588607932\n",
      "At random state 0, The test accuracy is: 0.6067507415918538\n",
      "\n",
      "\n",
      "At random state 1, The training accuracy is: 0.6122343097153183\n",
      "At random state 1, The test accuracy is: 0.5606843870026474\n",
      "\n",
      "\n",
      "At random state 2, The training accuracy is: 0.6087079017430612\n",
      "At random state 2, The test accuracy is: 0.5558350038776557\n",
      "\n",
      "\n",
      "At random state 3, The training accuracy is: 0.6082905683500586\n",
      "At random state 3, The test accuracy is: 0.5800635136913506\n",
      "\n",
      "\n",
      "At random state 4, The training accuracy is: 0.5981226464567552\n",
      "At random state 4, The test accuracy is: 0.6239709634420011\n",
      "\n",
      "\n",
      "At random state 5, The training accuracy is: 0.6032117443004603\n",
      "At random state 5, The test accuracy is: 0.6018771093271873\n",
      "\n",
      "\n",
      "At random state 6, The training accuracy is: 0.5926952261803156\n",
      "At random state 6, The test accuracy is: 0.6357229995111641\n",
      "\n",
      "\n",
      "At random state 7, The training accuracy is: 0.6141237925519507\n",
      "At random state 7, The test accuracy is: 0.5483822207106847\n",
      "\n",
      "\n",
      "At random state 8, The training accuracy is: 0.5895610693758808\n",
      "At random state 8, The test accuracy is: 0.6401328639695536\n",
      "\n",
      "\n",
      "At random state 9, The training accuracy is: 0.6011525021459799\n",
      "At random state 9, The test accuracy is: 0.6032941169232107\n",
      "\n",
      "\n",
      "At random state 10, The training accuracy is: 0.5993395118291327\n",
      "At random state 10, The test accuracy is: 0.6175027625632696\n",
      "\n",
      "\n",
      "At random state 11, The training accuracy is: 0.6153779291717807\n",
      "At random state 11, The test accuracy is: 0.5507373977029983\n",
      "\n",
      "\n",
      "At random state 12, The training accuracy is: 0.6102272493956251\n",
      "At random state 12, The test accuracy is: 0.5757477944858871\n",
      "\n",
      "\n",
      "At random state 13, The training accuracy is: 0.6129105735329875\n",
      "At random state 13, The test accuracy is: 0.5552420826835655\n",
      "\n",
      "\n",
      "At random state 14, The training accuracy is: 0.6118862511567402\n",
      "At random state 14, The test accuracy is: 0.5702461800573667\n",
      "\n",
      "\n",
      "At random state 15, The training accuracy is: 0.611612410998046\n",
      "At random state 15, The test accuracy is: 0.5677566699761298\n",
      "\n",
      "\n",
      "At random state 16, The training accuracy is: 0.6198016079352541\n",
      "At random state 16, The test accuracy is: 0.5126642140898773\n",
      "\n",
      "\n",
      "At random state 17, The training accuracy is: 0.6220713089249762\n",
      "At random state 17, The test accuracy is: 0.5159454056558809\n",
      "\n",
      "\n",
      "At random state 18, The training accuracy is: 0.6142591259367631\n",
      "At random state 18, The test accuracy is: 0.5538343739525802\n",
      "\n",
      "\n",
      "At random state 19, The training accuracy is: 0.6136265599019674\n",
      "At random state 19, The test accuracy is: 0.5636781098597359\n",
      "\n",
      "\n",
      "At random state 20, The training accuracy is: 0.5928663079042016\n",
      "At random state 20, The test accuracy is: 0.6450181556312321\n",
      "\n",
      "\n",
      "At random state 21, The training accuracy is: 0.594617300855479\n",
      "At random state 21, The test accuracy is: 0.6358609376745918\n",
      "\n",
      "\n",
      "At random state 22, The training accuracy is: 0.608678188653923\n",
      "At random state 22, The test accuracy is: 0.5762538906298\n",
      "\n",
      "\n",
      "At random state 23, The training accuracy is: 0.5891483967022924\n",
      "At random state 23, The test accuracy is: 0.6615637490446462\n",
      "\n",
      "\n",
      "At random state 24, The training accuracy is: 0.6170479420469753\n",
      "At random state 24, The test accuracy is: 0.5275667428189672\n",
      "\n",
      "\n",
      "At random state 25, The training accuracy is: 0.589128317386896\n",
      "At random state 25, The test accuracy is: 0.6480029706381822\n",
      "\n",
      "\n",
      "At random state 26, The training accuracy is: 0.6050327924965726\n",
      "At random state 26, The test accuracy is: 0.5955173130296523\n",
      "\n",
      "\n",
      "At random state 27, The training accuracy is: 0.6072857122321655\n",
      "At random state 27, The test accuracy is: 0.5826833460167038\n",
      "\n",
      "\n",
      "At random state 28, The training accuracy is: 0.5945180138959634\n",
      "At random state 28, The test accuracy is: 0.6411408427199411\n",
      "\n",
      "\n",
      "At random state 29, The training accuracy is: 0.6003214475820624\n",
      "At random state 29, The test accuracy is: 0.6144518491308621\n",
      "\n",
      "\n",
      "At random state 30, The training accuracy is: 0.6015774720986142\n",
      "At random state 30, The test accuracy is: 0.6011405328400926\n",
      "\n",
      "\n",
      "At random state 31, The training accuracy is: 0.5878243411027311\n",
      "At random state 31, The test accuracy is: 0.6487479655462501\n",
      "\n",
      "\n",
      "At random state 32, The training accuracy is: 0.5933879914265165\n",
      "At random state 32, The test accuracy is: 0.6283241655434866\n",
      "\n",
      "\n",
      "At random state 33, The training accuracy is: 0.624589858492403\n",
      "At random state 33, The test accuracy is: 0.5039069382985125\n",
      "\n",
      "\n",
      "At random state 34, The training accuracy is: 0.6054598415389973\n",
      "At random state 34, The test accuracy is: 0.551904559672834\n",
      "\n",
      "\n",
      "At random state 35, The training accuracy is: 0.5972763116217001\n",
      "At random state 35, The test accuracy is: 0.6190340284963108\n",
      "\n",
      "\n",
      "At random state 36, The training accuracy is: 0.5899534469950292\n",
      "At random state 36, The test accuracy is: 0.6512117321054502\n",
      "\n",
      "\n",
      "At random state 37, The training accuracy is: 0.6083872356385713\n",
      "At random state 37, The test accuracy is: 0.5821121221328583\n",
      "\n",
      "\n",
      "At random state 38, The training accuracy is: 0.6039527802709617\n",
      "At random state 38, The test accuracy is: 0.589957148150839\n",
      "\n",
      "\n",
      "At random state 39, The training accuracy is: 0.605266574780692\n",
      "At random state 39, The test accuracy is: 0.5912989920493381\n",
      "\n",
      "\n",
      "At random state 40, The training accuracy is: 0.5716904162164833\n",
      "At random state 40, The test accuracy is: 0.7106002391560695\n",
      "\n",
      "\n",
      "At random state 41, The training accuracy is: 0.6143555325639951\n",
      "At random state 41, The test accuracy is: 0.5487835123277025\n",
      "\n",
      "\n",
      "At random state 42, The training accuracy is: 0.5875829190986293\n",
      "At random state 42, The test accuracy is: 0.6526508009436727\n",
      "\n",
      "\n",
      "At random state 43, The training accuracy is: 0.6060011678639801\n",
      "At random state 43, The test accuracy is: 0.5862983591993554\n",
      "\n",
      "\n",
      "At random state 44, The training accuracy is: 0.5823659542270743\n",
      "At random state 44, The test accuracy is: 0.6726459908764922\n",
      "\n",
      "\n",
      "At random state 45, The training accuracy is: 0.6106633354970701\n",
      "At random state 45, The test accuracy is: 0.5592873855357782\n",
      "\n",
      "\n",
      "At random state 46, The training accuracy is: 0.6025939494038729\n",
      "At random state 46, The test accuracy is: 0.6046686184799848\n",
      "\n",
      "\n",
      "At random state 47, The training accuracy is: 0.6173877535030781\n",
      "At random state 47, The test accuracy is: 0.5450131255251256\n",
      "\n",
      "\n",
      "At random state 48, The training accuracy is: 0.601230288432649\n",
      "At random state 48, The test accuracy is: 0.6106786227144568\n",
      "\n",
      "\n",
      "At random state 49, The training accuracy is: 0.6131174145005631\n",
      "At random state 49, The test accuracy is: 0.5536566883384004\n",
      "\n",
      "\n",
      "At random state 50, The training accuracy is: 0.6171388162242215\n",
      "At random state 50, The test accuracy is: 0.5334727209944203\n",
      "\n",
      "\n",
      "At random state 51, The training accuracy is: 0.6141808575869496\n",
      "At random state 51, The test accuracy is: 0.551489852765567\n",
      "\n",
      "\n",
      "At random state 52, The training accuracy is: 0.5960497303296701\n",
      "At random state 52, The test accuracy is: 0.6318465794734975\n",
      "\n",
      "\n",
      "At random state 53, The training accuracy is: 0.5875586162644582\n",
      "At random state 53, The test accuracy is: 0.6614485359525388\n",
      "\n",
      "\n",
      "At random state 54, The training accuracy is: 0.5973292533522938\n",
      "At random state 54, The test accuracy is: 0.6274472738248651\n",
      "\n",
      "\n",
      "At random state 55, The training accuracy is: 0.5969750842475834\n",
      "At random state 55, The test accuracy is: 0.6296197180233565\n",
      "\n",
      "\n",
      "At random state 56, The training accuracy is: 0.6081654376257866\n",
      "At random state 56, The test accuracy is: 0.5769812137028816\n",
      "\n",
      "\n",
      "At random state 57, The training accuracy is: 0.5988546388225826\n",
      "At random state 57, The test accuracy is: 0.6215254724365762\n",
      "\n",
      "\n",
      "At random state 58, The training accuracy is: 0.5928627549740215\n",
      "At random state 58, The test accuracy is: 0.6315118898655405\n",
      "\n",
      "\n",
      "At random state 59, The training accuracy is: 0.6017490686876479\n",
      "At random state 59, The test accuracy is: 0.5990485800941927\n",
      "\n",
      "\n",
      "At random state 60, The training accuracy is: 0.588999709342806\n",
      "At random state 60, The test accuracy is: 0.6526182649594205\n",
      "\n",
      "\n",
      "At random state 61, The training accuracy is: 0.609034026797223\n",
      "At random state 61, The test accuracy is: 0.5845236824611333\n",
      "\n",
      "\n",
      "At random state 62, The training accuracy is: 0.611584227853385\n",
      "At random state 62, The test accuracy is: 0.5511701062311534\n",
      "\n",
      "\n",
      "At random state 63, The training accuracy is: 0.6006785750779874\n",
      "At random state 63, The test accuracy is: 0.599806389669256\n",
      "\n",
      "\n",
      "At random state 64, The training accuracy is: 0.6063847285523599\n",
      "At random state 64, The test accuracy is: 0.5945747087944947\n",
      "\n",
      "\n",
      "At random state 65, The training accuracy is: 0.609244724956543\n",
      "At random state 65, The test accuracy is: 0.576938424830219\n",
      "\n",
      "\n",
      "At random state 66, The training accuracy is: 0.6147164182593379\n",
      "At random state 66, The test accuracy is: 0.5602079444040317\n",
      "\n",
      "\n",
      "At random state 67, The training accuracy is: 0.5915205102371607\n",
      "At random state 67, The test accuracy is: 0.6471712731779178\n",
      "\n",
      "\n",
      "At random state 68, The training accuracy is: 0.6193291268218956\n",
      "At random state 68, The test accuracy is: 0.5237972370029751\n",
      "\n",
      "\n",
      "At random state 69, The training accuracy is: 0.6128374165618186\n",
      "At random state 69, The test accuracy is: 0.5571559759276407\n",
      "\n",
      "\n",
      "At random state 70, The training accuracy is: 0.5939633074076656\n",
      "At random state 70, The test accuracy is: 0.61823206621595\n",
      "\n",
      "\n",
      "At random state 71, The training accuracy is: 0.5902069208246505\n",
      "At random state 71, The test accuracy is: 0.6503757589465968\n",
      "\n",
      "\n",
      "At random state 72, The training accuracy is: 0.6166912795871249\n",
      "At random state 72, The test accuracy is: 0.5450588722258667\n",
      "\n",
      "\n",
      "At random state 73, The training accuracy is: 0.594762475924163\n",
      "At random state 73, The test accuracy is: 0.640802551838507\n",
      "\n",
      "\n",
      "At random state 74, The training accuracy is: 0.582753247488917\n",
      "At random state 74, The test accuracy is: 0.6760819062802317\n",
      "\n",
      "\n",
      "At random state 75, The training accuracy is: 0.6187474580162552\n",
      "At random state 75, The test accuracy is: 0.5219738125134767\n",
      "\n",
      "\n",
      "At random state 76, The training accuracy is: 0.6145124664835561\n",
      "At random state 76, The test accuracy is: 0.5463211539191188\n",
      "\n",
      "\n",
      "At random state 77, The training accuracy is: 0.6024924489359995\n",
      "At random state 77, The test accuracy is: 0.6001605483244767\n",
      "\n",
      "\n",
      "At random state 78, The training accuracy is: 0.5995353098110466\n",
      "At random state 78, The test accuracy is: 0.6156873003195829\n",
      "\n",
      "\n",
      "At random state 79, The training accuracy is: 0.6066836359786247\n",
      "At random state 79, The test accuracy is: 0.5838173262882684\n",
      "\n",
      "\n",
      "At random state 80, The training accuracy is: 0.6058694778238187\n",
      "At random state 80, The test accuracy is: 0.5751527442907055\n",
      "\n",
      "\n",
      "At random state 81, The training accuracy is: 0.6077671338053555\n",
      "At random state 81, The test accuracy is: 0.574487616964525\n",
      "\n",
      "\n",
      "At random state 82, The training accuracy is: 0.619630816845865\n",
      "At random state 82, The test accuracy is: 0.5087834336994846\n",
      "\n",
      "\n",
      "At random state 83, The training accuracy is: 0.5902525723174878\n",
      "At random state 83, The test accuracy is: 0.6550804255457884\n",
      "\n",
      "\n",
      "At random state 84, The training accuracy is: 0.60510676950855\n",
      "At random state 84, The test accuracy is: 0.5874079105694316\n",
      "\n",
      "\n",
      "At random state 85, The training accuracy is: 0.6172735147944888\n",
      "At random state 85, The test accuracy is: 0.5427145247371012\n",
      "\n",
      "\n",
      "At random state 86, The training accuracy is: 0.5862305084829058\n",
      "At random state 86, The test accuracy is: 0.6640723387087157\n",
      "\n",
      "\n",
      "At random state 87, The training accuracy is: 0.6047113085600084\n",
      "At random state 87, The test accuracy is: 0.5945358226454996\n",
      "\n",
      "\n",
      "At random state 88, The training accuracy is: 0.5886173092151099\n",
      "At random state 88, The test accuracy is: 0.6603916857752498\n",
      "\n",
      "\n",
      "At random state 89, The training accuracy is: 0.6039155311632054\n",
      "At random state 89, The test accuracy is: 0.5995371278234845\n",
      "\n",
      "\n",
      "At random state 90, The training accuracy is: 0.6060919006299554\n",
      "At random state 90, The test accuracy is: 0.5925507543108242\n",
      "\n",
      "\n",
      "At random state 91, The training accuracy is: 0.5973550936408003\n",
      "At random state 91, The test accuracy is: 0.6213411747290711\n",
      "\n",
      "\n",
      "At random state 92, The training accuracy is: 0.61127652832986\n",
      "At random state 92, The test accuracy is: 0.5642975287613579\n",
      "\n",
      "\n",
      "At random state 93, The training accuracy is: 0.6209977980576109\n",
      "At random state 93, The test accuracy is: 0.5259415561446144\n",
      "\n",
      "\n",
      "At random state 94, The training accuracy is: 0.6296376431762779\n",
      "At random state 94, The test accuracy is: 0.502070357023868\n",
      "\n",
      "\n",
      "At random state 95, The training accuracy is: 0.6084169096822782\n",
      "At random state 95, The test accuracy is: 0.5597475335554034\n",
      "\n",
      "\n",
      "At random state 96, The training accuracy is: 0.5954875893753595\n",
      "At random state 96, The test accuracy is: 0.637672121149104\n",
      "\n",
      "\n",
      "At random state 97, The training accuracy is: 0.6223570705811333\n",
      "At random state 97, The test accuracy is: 0.5109948150171739\n",
      "\n",
      "\n",
      "At random state 98, The training accuracy is: 0.613760361349209\n",
      "At random state 98, The test accuracy is: 0.5321590561651588\n",
      "\n",
      "\n",
      "At random state 99, The training accuracy is: 0.6179301272585815\n",
      "At random state 99, The test accuracy is: 0.550742007555766\n",
      "\n",
      "\n"
     ]
    }
   ],
   "source": [
    "# Finding the best random state\n",
    "LR=LinearRegression()\n",
    "\n",
    "for i in range(0,100):\n",
    "    x_train,x_test,y_train,y_test=train_test_split(x,y,test_size=0.2,random_state=i)\n",
    "    LR.fit(x_train,y_train)\n",
    "    LR_predict_train=LR.predict(x_train)\n",
    "    LR_predict_test=LR.predict(x_test)\n",
    "    print(f'At random state {i}, The training accuracy is: {r2_score(y_train,LR_predict_train)}')\n",
    "    print(f'At random state {i}, The test accuracy is: {r2_score(y_test,LR_predict_test)}')\n",
    "    print('\\n')"
   ]
  },
  {
   "cell_type": "markdown",
   "id": "a80f01c9",
   "metadata": {},
   "source": [
    "random state=40 has the highest accuracy, we shall choose that as random state and spli the data  into 72% training and 28% testing data at random state 40"
   ]
  },
  {
   "cell_type": "code",
   "execution_count": 57,
   "id": "28121a5d",
   "metadata": {},
   "outputs": [],
   "source": [
    "x_train,x_test,y_train,y_test = train_test_split(x,y, test_size = 0.28, random_state = 40)"
   ]
  },
  {
   "cell_type": "code",
   "execution_count": 58,
   "id": "7b3de30b",
   "metadata": {},
   "outputs": [
    {
     "data": {
      "text/plain": [
       "(635, 11)"
      ]
     },
     "execution_count": 58,
     "metadata": {},
     "output_type": "execute_result"
    }
   ],
   "source": [
    "x_train.shape"
   ]
  },
  {
   "cell_type": "code",
   "execution_count": 59,
   "id": "0e5daa52",
   "metadata": {},
   "outputs": [
    {
     "data": {
      "text/plain": [
       "(247, 11)"
      ]
     },
     "execution_count": 59,
     "metadata": {},
     "output_type": "execute_result"
    }
   ],
   "source": [
    "x_test.shape"
   ]
  },
  {
   "cell_type": "code",
   "execution_count": 60,
   "id": "4a19fb27",
   "metadata": {},
   "outputs": [
    {
     "data": {
      "text/plain": [
       "(635,)"
      ]
     },
     "execution_count": 60,
     "metadata": {},
     "output_type": "execute_result"
    }
   ],
   "source": [
    "y_train.shape"
   ]
  },
  {
   "cell_type": "code",
   "execution_count": 61,
   "id": "ae770471",
   "metadata": {},
   "outputs": [
    {
     "data": {
      "text/plain": [
       "(247,)"
      ]
     },
     "execution_count": 61,
     "metadata": {},
     "output_type": "execute_result"
    }
   ],
   "source": [
    "y_test.shape"
   ]
  },
  {
   "cell_type": "code",
   "execution_count": 62,
   "id": "bef43075",
   "metadata": {},
   "outputs": [
    {
     "name": "stdout",
     "output_type": "stream",
     "text": [
      "R2 score on test data: 0.6442499328638367\n",
      "R2 score on train data: 57.976884383270345\n",
      "mean_absolute_error: 0.4957428105231828\n",
      "Mean squared error: 0.3892998062213918\n",
      "Root mean squared error: 0.6239389443057645\n"
     ]
    }
   ],
   "source": [
    "lr = LinearRegression()\n",
    "lr.fit(x_train,y_train)\n",
    "pred_lr =lr.predict(x_test)\n",
    "pred_train = lr.predict(x_train)\n",
    "print(\"R2 score on test data:\", r2_score(y_test,pred_lr))\n",
    "print(\"R2 score on train data:\", r2_score(y_train,pred_train)*100)\n",
    "print('mean_absolute_error:',mean_absolute_error(y_test,pred_lr))\n",
    "print('Mean squared error:', mean_squared_error(y_test, pred_lr))\n",
    "print('Root mean squared error:',np.sqrt(mean_squared_error(y_test, pred_lr)))"
   ]
  },
  {
   "cell_type": "code",
   "execution_count": 63,
   "id": "43b07cf6",
   "metadata": {},
   "outputs": [
    {
     "data": {
      "image/png": "[encoded data removed]",
      "text/plain": [
       "<Figure size 1200x800 with 1 Axes>"
      ]
     },
     "metadata": {},
     "output_type": "display_data"
    }
   ],
   "source": [
    "plt.figure(figsize = (12,8))\n",
    "plt.scatter(x = pred_lr, y = y_test, color = 'blue')\n",
    "plt.plot(pred_lr, pred_lr, color = 'black')\n",
    "plt.xlabel('Actual')\n",
    "plt.ylabel('Predicted')\n",
    "plt.title('Linear Regression', fontsize = 20)\n",
    "plt.show()"
   ]
  },
  {
   "cell_type": "markdown",
   "id": "53a911e6",
   "metadata": {},
   "source": [
    "Plotting the linear regression predicted data"
   ]
  },
  {
   "cell_type": "markdown",
   "id": "c9cd1f19",
   "metadata": {},
   "source": [
    "Random Forest regressor"
   ]
  },
  {
   "cell_type": "code",
   "execution_count": 64,
   "id": "2cbf0186",
   "metadata": {},
   "outputs": [
    {
     "name": "stdout",
     "output_type": "stream",
     "text": [
      "R2 score on test data: 0.6442499328638367\n",
      "R2 score on train data: 96.47612699830582\n",
      "mean_absolute_error: 0.30933049718378686\n",
      "Mean squared error: 0.18131060071303542\n",
      "Root mean squared error: 0.42580582512811566\n"
     ]
    }
   ],
   "source": [
    "rf = RandomForestRegressor()\n",
    "rf.fit(x_train,y_train)\n",
    "pred_rf =rf.predict(x_test)\n",
    "pred_train = rf.predict(x_train)\n",
    "print(\"R2 score on test data:\", r2_score(y_test,pred_lr))\n",
    "print(\"R2 score on train data:\", r2_score(y_train,pred_train)*100)\n",
    "print('mean_absolute_error:',mean_absolute_error(y_test,pred_rf))\n",
    "print('Mean squared error:', mean_squared_error(y_test, pred_rf))\n",
    "print('Root mean squared error:',np.sqrt(mean_squared_error(y_test, pred_rf)))"
   ]
  },
  {
   "cell_type": "markdown",
   "id": "12940700",
   "metadata": {},
   "source": [
    "Decision Tree regressor"
   ]
  },
  {
   "cell_type": "code",
   "execution_count": 65,
   "id": "188ae5df",
   "metadata": {},
   "outputs": [
    {
     "name": "stdout",
     "output_type": "stream",
     "text": [
      "R2 score on test data: 0.706252350763658\n",
      "R2 score on train data: 99.42634834429111\n",
      "mean_absolute_error: 0.3982854802383064\n",
      "Mean squared error: 0.32145012324601363\n",
      "Root mean squared error: 0.5669657161116655\n"
     ]
    }
   ],
   "source": [
    "dt = DecisionTreeRegressor()\n",
    "dt.fit(x_train,y_train)\n",
    "pred_dt =dt.predict(x_test)\n",
    "pred_train = dt.predict(x_train)\n",
    "print(\"R2 score on test data:\", r2_score(y_test,pred_dt))\n",
    "print(\"R2 score on train data:\", r2_score(y_train,pred_train)*100)\n",
    "print('mean_absolute_error:',mean_absolute_error(y_test,pred_dt))\n",
    "print('Mean squared error:', mean_squared_error(y_test, pred_dt))\n",
    "print('Root mean squared error:',np.sqrt(mean_squared_error(y_test, pred_dt)))"
   ]
  },
  {
   "cell_type": "markdown",
   "id": "bcdcde06",
   "metadata": {},
   "source": [
    "KNN"
   ]
  },
  {
   "cell_type": "code",
   "execution_count": 66,
   "id": "808b9ed2",
   "metadata": {},
   "outputs": [
    {
     "name": "stdout",
     "output_type": "stream",
     "text": [
      "R2 score on test data: 0.7674318295210132\n",
      "R2 score on train data: 84.53451366798161\n",
      "mean_absolute_error: 0.35843910407866325\n",
      "Mean squared error: 0.25450098837530083\n",
      "Root mean squared error: 0.5044809098224637\n"
     ]
    }
   ],
   "source": [
    "knn = KNN()\n",
    "knn.fit(x_train,y_train)\n",
    "pred_knn =knn.predict(x_test)\n",
    "pred_train = knn.predict(x_train)\n",
    "print(\"R2 score on test data:\", r2_score(y_test,pred_knn))\n",
    "print(\"R2 score on train data:\", r2_score(y_train,pred_train)*100)\n",
    "print('mean_absolute_error:',mean_absolute_error(y_test,pred_knn))\n",
    "print('Mean squared error:', mean_squared_error(y_test, pred_knn))\n",
    "print('Root mean squared error:',np.sqrt(mean_squared_error(y_test, pred_knn)))"
   ]
  },
  {
   "cell_type": "markdown",
   "id": "1e3096df",
   "metadata": {},
   "source": [
    "Gradient Boosting regressor"
   ]
  },
  {
   "cell_type": "code",
   "execution_count": 67,
   "id": "3c3daeb7",
   "metadata": {},
   "outputs": [
    {
     "name": "stdout",
     "output_type": "stream",
     "text": [
      "R2 score on test data: 0.8231763819757721\n",
      "R2 score on train data: 89.10950197819531\n",
      "mean_absolute_error: 0.3281602101151965\n",
      "Mean squared error: 0.1934993316694155\n",
      "Root mean squared error: 0.43988558929500693\n"
     ]
    }
   ],
   "source": [
    "gbr = GradientBoostingRegressor()\n",
    "gbr.fit(x_train,y_train)\n",
    "pred_gbr =gbr.predict(x_test)\n",
    "pred_train = gbr.predict(x_train)\n",
    "print(\"R2 score on test data:\", r2_score(y_test,pred_gbr))\n",
    "print(\"R2 score on train data:\", r2_score(y_train,pred_train)*100)\n",
    "print('mean_absolute_error:',mean_absolute_error(y_test,pred_gbr))\n",
    "print('Mean squared error:', mean_squared_error(y_test, pred_gbr))\n",
    "print('Root mean squared error:',np.sqrt(mean_squared_error(y_test, pred_gbr)))"
   ]
  },
  {
   "cell_type": "markdown",
   "id": "62e2d425",
   "metadata": {},
   "source": [
    "Lasso"
   ]
  },
  {
   "cell_type": "code",
   "execution_count": 68,
   "id": "fa8b07dd",
   "metadata": {},
   "outputs": [
    {
     "name": "stdout",
     "output_type": "stream",
     "text": [
      "R2 score on test data: -0.012709444209845877\n",
      "R2 score on train data: 0.0\n",
      "mean_absolute_error: 0.8889576708346084\n",
      "Mean squared error: 1.1082150835928535\n",
      "Root mean squared error: 1.052717950636757\n"
     ]
    }
   ],
   "source": [
    "lasso = Lasso()\n",
    "lasso.fit(x_train,y_train)\n",
    "pred_lasso =lasso.predict(x_test)\n",
    "pred_train = lasso.predict(x_train)\n",
    "print(\"R2 score on test data:\", r2_score(y_test,pred_lasso))\n",
    "print(\"R2 score on train data:\", r2_score(y_train,pred_train)*100)\n",
    "print('mean_absolute_error:',mean_absolute_error(y_test,pred_lasso))\n",
    "print('Mean squared error:', mean_squared_error(y_test, pred_lasso))\n",
    "print('Root mean squared error:',np.sqrt(mean_squared_error(y_test, pred_lasso)))"
   ]
  },
  {
   "cell_type": "markdown",
   "id": "ff169553",
   "metadata": {},
   "source": [
    "Ridge"
   ]
  },
  {
   "cell_type": "code",
   "execution_count": 69,
   "id": "d36b81e7",
   "metadata": {},
   "outputs": [
    {
     "name": "stdout",
     "output_type": "stream",
     "text": [
      "R2 score on test data: 0.6486221048137446\n",
      "R2 score on train data: 57.933211961667\n",
      "mean_absolute_error: 0.4954099145676448\n",
      "Mean squared error: 0.38451530763628183\n",
      "Root mean squared error: 0.6200929830568008\n"
     ]
    }
   ],
   "source": [
    "rd = Ridge()\n",
    "rd.fit(x_train,y_train)\n",
    "pred_rd =rd.predict(x_test)\n",
    "pred_train = rd.predict(x_train)\n",
    "print(\"R2 score on test data:\", r2_score(y_test,pred_rd))\n",
    "print(\"R2 score on train data:\", r2_score(y_train,pred_train)*100)\n",
    "print('mean_absolute_error:',mean_absolute_error(y_test,pred_rd))\n",
    "print('Mean squared error:', mean_squared_error(y_test, pred_rd))\n",
    "print('Root mean squared error:',np.sqrt(mean_squared_error(y_test, pred_rd)))"
   ]
  },
  {
   "cell_type": "markdown",
   "id": "e63d377c",
   "metadata": {},
   "source": [
    "SVR"
   ]
  },
  {
   "cell_type": "code",
   "execution_count": 70,
   "id": "15c6893c",
   "metadata": {},
   "outputs": [
    {
     "name": "stdout",
     "output_type": "stream",
     "text": [
      "R2 score on test data: 0.7804908679891991\n",
      "R2 score on train data: 79.58410957530528\n",
      "mean_absolute_error: 0.3558290790654533\n",
      "Mean squared error: 0.24021039052375742\n",
      "Root mean squared error: 0.4901126304470814\n"
     ]
    }
   ],
   "source": [
    "svr = SVR()\n",
    "svr.fit(x_train,y_train)\n",
    "pred_svr =svr.predict(x_test)\n",
    "pred_train = svr.predict(x_train)\n",
    "print(\"R2 score on test data:\", r2_score(y_test,pred_svr))\n",
    "print(\"R2 score on train data:\", r2_score(y_train,pred_train)*100)\n",
    "print('mean_absolute_error:',mean_absolute_error(y_test,pred_svr))\n",
    "print('Mean squared error:', mean_squared_error(y_test, pred_svr))\n",
    "print('Root mean squared error:',np.sqrt(mean_squared_error(y_test, pred_svr)))"
   ]
  },
  {
   "cell_type": "markdown",
   "id": "8946f183",
   "metadata": {},
   "source": [
    "Extra tree regressor"
   ]
  },
  {
   "cell_type": "code",
   "execution_count": 71,
   "id": "424d0ae6",
   "metadata": {},
   "outputs": [
    {
     "name": "stdout",
     "output_type": "stream",
     "text": [
      "R2 score on test data: 0.8212564799636551\n",
      "R2 score on train data: 99.42634834429111\n",
      "mean_absolute_error: 0.32689128943099865\n",
      "Mean squared error: 0.19560029397505338\n",
      "Root mean squared error: 0.44226722010008085\n"
     ]
    }
   ],
   "source": [
    "exr =ExtraTreesRegressor()\n",
    "exr.fit(x_train,y_train)\n",
    "pred_exr =exr.predict(x_test)\n",
    "pred_train = exr.predict(x_train)\n",
    "print(\"R2 score on test data:\", r2_score(y_test,pred_exr))\n",
    "print(\"R2 score on train data:\", r2_score(y_train,pred_train)*100)\n",
    "print('mean_absolute_error:',mean_absolute_error(y_test,pred_exr))\n",
    "print('Mean squared error:', mean_squared_error(y_test, pred_exr))\n",
    "print('Root mean squared error:',np.sqrt(mean_squared_error(y_test, pred_exr)))"
   ]
  },
  {
   "cell_type": "markdown",
   "id": "88548854",
   "metadata": {},
   "source": [
    "Cross validating all the scores and choosing best model."
   ]
  },
  {
   "cell_type": "code",
   "execution_count": 72,
   "id": "8676daca",
   "metadata": {},
   "outputs": [],
   "source": [
    "from sklearn.model_selection import cross_val_score as cvs"
   ]
  },
  {
   "cell_type": "code",
   "execution_count": 73,
   "id": "c068ba35",
   "metadata": {},
   "outputs": [
    {
     "name": "stdout",
     "output_type": "stream",
     "text": [
      "[0.62890531 0.57825853 0.55965281 0.5986175  0.56021368]\n",
      "58.51295664519191\n",
      "Difference between the r2 score and  validation score :  5.9120366411917535\n"
     ]
    }
   ],
   "source": [
    "score = cvs(lr,x,y)\n",
    "print(score)\n",
    "print(score.mean()*100)\n",
    "print(\"Difference between the r2 score and  validation score : \", (r2_score(y_test, pred_lr)-score.mean())*100)"
   ]
  },
  {
   "cell_type": "code",
   "execution_count": 74,
   "id": "fc9e7907",
   "metadata": {},
   "outputs": [
    {
     "name": "stdout",
     "output_type": "stream",
     "text": [
      "[0.75255742 0.76522604 0.77435087 0.8398239  0.77682075]\n",
      "78.17557950662727\n",
      "Difference between the r2 score and  validation score :  5.25588967332935\n"
     ]
    }
   ],
   "source": [
    "score1 = cvs(rf,x,y)\n",
    "print(score1)\n",
    "print(score1.mean()*100)\n",
    "print(\"Difference between the r2 score and  validation score : \", (r2_score(y_test, pred_rf)-score1.mean())*100)"
   ]
  },
  {
   "cell_type": "code",
   "execution_count": 75,
   "id": "59000586",
   "metadata": {},
   "outputs": [
    {
     "name": "stdout",
     "output_type": "stream",
     "text": [
      "[0.72275097 0.6901879  0.7250017  0.77443849 0.77060913]\n",
      "73.6597636819782\n",
      "Difference between the r2 score and  validation score :  3.083419270123111\n"
     ]
    }
   ],
   "source": [
    "score2 = cvs(knn,x,y)\n",
    "print(score2)\n",
    "print(score2.mean()*100)\n",
    "print(\"Difference between the r2 score and  validation score : \", (r2_score(y_test, pred_knn)-score2.mean())*100)"
   ]
  },
  {
   "cell_type": "code",
   "execution_count": 76,
   "id": "455057a1",
   "metadata": {},
   "outputs": [
    {
     "name": "stdout",
     "output_type": "stream",
     "text": [
      "[0.78140281 0.79878481 0.78048171 0.83364391 0.77787932]\n",
      "79.44385097861348\n",
      "Difference between the r2 score and  validation score :  2.8737872189637303\n"
     ]
    }
   ],
   "source": [
    "score3 = cvs(gbr,x,y)\n",
    "print(score3)\n",
    "print(score3.mean()*100)\n",
    "print(\"Difference between the r2 score and  validation score : \", (r2_score(y_test, pred_gbr)-score3.mean())*100)"
   ]
  },
  {
   "cell_type": "code",
   "execution_count": 77,
   "id": "f962aa93",
   "metadata": {},
   "outputs": [
    {
     "name": "stdout",
     "output_type": "stream",
     "text": [
      "[-0.00016332 -0.00165696 -0.00227543 -0.01820854 -0.01061129]\n",
      "-0.658310666802433\n",
      "Difference between the r2 score and  validation score :  -0.6126337541821547\n"
     ]
    }
   ],
   "source": [
    "score4 = cvs(lasso,x,y)\n",
    "print(score4)\n",
    "print(score4.mean()*100)\n",
    "print(\"Difference between the r2 score and  validation score : \", (r2_score(y_test, pred_lasso)-score4.mean())*100)"
   ]
  },
  {
   "cell_type": "code",
   "execution_count": 78,
   "id": "85ac7e8a",
   "metadata": {},
   "outputs": [
    {
     "name": "stdout",
     "output_type": "stream",
     "text": [
      "[0.62833653 0.58581671 0.56511914 0.60293328 0.56238571]\n",
      "58.89182732376851\n",
      "Difference between the r2 score and  validation score :  5.970383157605951\n"
     ]
    }
   ],
   "source": [
    "score5 = cvs(rd,x,y)\n",
    "print(score5)\n",
    "print(score5.mean()*100)\n",
    "print(\"Difference between the r2 score and  validation score : \", (r2_score(y_test, pred_rd)-score5.mean())*100)"
   ]
  },
  {
   "cell_type": "code",
   "execution_count": 79,
   "id": "e36e6783",
   "metadata": {},
   "outputs": [
    {
     "name": "stdout",
     "output_type": "stream",
     "text": [
      "[0.75535969 0.77852059 0.74241656 0.79729984 0.74521527]\n",
      "76.37623881784356\n",
      "Difference between the r2 score and  validation score :  1.672847981076353\n"
     ]
    }
   ],
   "source": [
    "score6 = cvs(svr,x,y)\n",
    "print(score6)\n",
    "print(score6.mean()*100)\n",
    "print(\"Difference between the r2 score and  validation score : \", (r2_score(y_test, pred_svr)-score6.mean())*100)"
   ]
  },
  {
   "cell_type": "code",
   "execution_count": 80,
   "id": "befeba55",
   "metadata": {},
   "outputs": [
    {
     "name": "stdout",
     "output_type": "stream",
     "text": [
      "[0.62940424 0.61901939 0.59391791 0.70127281 0.66894356]\n",
      "64.25115831922852\n",
      "Difference between the r2 score and  validation score :  6.374076757137271\n"
     ]
    }
   ],
   "source": [
    "score7 = cvs(dt,x,y)\n",
    "print(score7)\n",
    "print(score7.mean()*100)\n",
    "print(\"Difference between the r2 score and  validation score : \", (r2_score(y_test, pred_dt)-score7.mean())*100)"
   ]
  },
  {
   "cell_type": "code",
   "execution_count": 81,
   "id": "a0b18398",
   "metadata": {},
   "outputs": [
    {
     "name": "stdout",
     "output_type": "stream",
     "text": [
      "[0.76360027 0.73019065 0.76848885 0.8345611  0.79945827]\n",
      "77.92598278163283\n",
      "Difference between the r2 score and  validation score :  4.1996652147326845\n"
     ]
    }
   ],
   "source": [
    "score8 = cvs(exr,x,y)\n",
    "print(score8)\n",
    "print(score8.mean()*100)\n",
    "print(\"Difference between the r2 score and  validation score : \", (r2_score(y_test, pred_exr)-score8.mean())*100)"
   ]
  },
  {
   "cell_type": "markdown",
   "id": "eeed593c",
   "metadata": {},
   "source": [
    "From the above  cross validation  of all the model we can conclude that GradientBoostingRegressor model is the best fit"
   ]
  },
  {
   "cell_type": "markdown",
   "id": "4eb62ca4",
   "metadata": {},
   "source": [
    "Applying Hypertuning on best fit model"
   ]
  },
  {
   "cell_type": "code",
   "execution_count": 82,
   "id": "a6175e46",
   "metadata": {},
   "outputs": [],
   "source": [
    "from sklearn.model_selection import GridSearchCV"
   ]
  },
  {
   "cell_type": "code",
   "execution_count": 83,
   "id": "aaeec019",
   "metadata": {},
   "outputs": [],
   "source": [
    "GF=GradientBoostingRegressor()\n",
    "param={\n",
    "     'criterion':['mse','mae'],\n",
    "     'n_estimators':[100, 150, 200,250],\n",
    "     'loss':['squared_error', 'absolute_error', 'huber', 'quantile'],\n",
    "     'max_features': ['sqrt', 'log2']\n",
    "    }"
   ]
  },
  {
   "cell_type": "code",
   "execution_count": 84,
   "id": "3608f3e8",
   "metadata": {},
   "outputs": [
    {
     "data": {
      "text/plain": [
       "GridSearchCV(cv=5, estimator=GradientBoostingRegressor(),\n",
       "             param_grid={'criterion': ['mse', 'mae'],\n",
       "                         'loss': ['squared_error', 'absolute_error', 'huber',\n",
       "                                  'quantile'],\n",
       "                         'max_features': ['sqrt', 'log2'],\n",
       "                         'n_estimators': [100, 150, 200, 250]})"
      ]
     },
     "execution_count": 84,
     "metadata": {},
     "output_type": "execute_result"
    }
   ],
   "source": [
    "gscv = GridSearchCV(GradientBoostingRegressor(),param, cv = 5)\n",
    "gscv.fit(x_train,y_train)"
   ]
  },
  {
   "cell_type": "code",
   "execution_count": 85,
   "id": "90ea488b",
   "metadata": {},
   "outputs": [
    {
     "data": {
      "text/plain": [
       "{'criterion': 'mse',\n",
       " 'loss': 'squared_error',\n",
       " 'max_features': 'log2',\n",
       " 'n_estimators': 200}"
      ]
     },
     "execution_count": 85,
     "metadata": {},
     "output_type": "execute_result"
    }
   ],
   "source": [
    "gscv.best_params_"
   ]
  },
  {
   "cell_type": "code",
   "execution_count": 86,
   "id": "15473797",
   "metadata": {},
   "outputs": [],
   "source": [
    "Model = GradientBoostingRegressor(criterion = 'mse',loss = 'squared_error', max_features = 'log2',n_estimators = 200)"
   ]
  },
  {
   "cell_type": "code",
   "execution_count": 87,
   "id": "44651281",
   "metadata": {},
   "outputs": [
    {
     "name": "stdout",
     "output_type": "stream",
     "text": [
      "R2 score: 0.8343916616929077\n",
      "mean_absolute_error: 0.31438410269857947\n",
      "Mean squared error: 0.18122637201617547\n",
      "Root mean squared error: 0.4257069085840345\n"
     ]
    }
   ],
   "source": [
    "Model.fit(x_train,y_train)\n",
    "pred = Model.predict(x_test)\n",
    "print(\"R2 score:\", r2_score(y_test,pred))\n",
    "print('mean_absolute_error:',mean_absolute_error(y_test,pred))\n",
    "print('Mean squared error:', mean_squared_error(y_test, pred))\n",
    "print('Root mean squared error:',np.sqrt(mean_squared_error(y_test, pred)))"
   ]
  },
  {
   "cell_type": "code",
   "execution_count": 88,
   "id": "80c75d24",
   "metadata": {},
   "outputs": [],
   "source": [
    "import joblib\n",
    "import pickle\n",
    "filename = 'capacity_mw.pkl'\n",
    "pickle.dump(Model,open(filename,'wb'))"
   ]
  },
  {
   "cell_type": "code",
   "execution_count": 89,
   "id": "f6c7db27",
   "metadata": {},
   "outputs": [
    {
     "name": "stdout",
     "output_type": "stream",
     "text": [
      "83.43916616929077\n"
     ]
    }
   ],
   "source": [
    "loaded_model = pickle.load(open('capacity_mw.pkl', 'rb'))\n",
    "result = loaded_model.score(x_test, y_test)\n",
    "print(result*100)"
   ]
  },
  {
   "cell_type": "markdown",
   "id": "5ac7084c",
   "metadata": {},
   "source": [
    "### Classification Model"
   ]
  },
  {
   "cell_type": "markdown",
   "id": "29ff0dbb",
   "metadata": {},
   "source": [
    "We shall take primary_fuel as target for classification model"
   ]
  },
  {
   "cell_type": "code",
   "execution_count": 90,
   "id": "72665ae7",
   "metadata": {},
   "outputs": [],
   "source": [
    "x=po1.drop(['primary_fuel'],axis=1)\n",
    "y=po1['primary_fuel']"
   ]
  },
  {
   "cell_type": "code",
   "execution_count": 91,
   "id": "9385976b",
   "metadata": {},
   "outputs": [
    {
     "name": "stdout",
     "output_type": "stream",
     "text": [
      "(882, 11)\n",
      "(882,)\n"
     ]
    }
   ],
   "source": [
    "print(x.shape)\n",
    "print(y.shape)"
   ]
  },
  {
   "cell_type": "markdown",
   "id": "1c1b34d1",
   "metadata": {},
   "source": [
    "Splitting data set into train data and test data"
   ]
  },
  {
   "cell_type": "code",
   "execution_count": 92,
   "id": "aac0ebe1",
   "metadata": {},
   "outputs": [
    {
     "name": "stdout",
     "output_type": "stream",
     "text": [
      "Best accuracy is 0.8943396226415095 at random_state 24\n"
     ]
    }
   ],
   "source": [
    "from sklearn.ensemble import RandomForestClassifier\n",
    "from sklearn.metrics import accuracy_score\n",
    "maxAccu = 0\n",
    "maxRs = 0\n",
    "for i in range(1,200):\n",
    "    x_train,x_test, y_train, y_test = train_test_split(x,y, test_size = 0.30, random_state = i)\n",
    "    rf = RandomForestClassifier()\n",
    "    rf.fit(x_train,y_train)\n",
    "    pred = rf.predict(x_test)\n",
    "    accu = accuracy_score(y_test, pred)\n",
    "    if accu>maxAccu:\n",
    "        maxAccu = accu\n",
    "        maxRs =i\n",
    "print(\"Best accuracy is\", maxAccu, \"at random_state\", maxRs)"
   ]
  },
  {
   "cell_type": "code",
   "execution_count": 93,
   "id": "e43183dd",
   "metadata": {},
   "outputs": [
    {
     "name": "stdout",
     "output_type": "stream",
     "text": [
      "(617, 11)\n",
      "(265, 11)\n",
      "(617,)\n",
      "(265,)\n"
     ]
    }
   ],
   "source": [
    "print(x_train.shape)\n",
    "print(x_test.shape)\n",
    "print(y_train.shape)\n",
    "print(y_test.shape)"
   ]
  },
  {
   "cell_type": "code",
   "execution_count": 94,
   "id": "d547bee4",
   "metadata": {},
   "outputs": [],
   "source": [
    "#Creating train test split at maxRs\n",
    "x_train,x_test,y_train,y_test = train_test_split(x,y, test_size = 0.30, random_state = maxRs)"
   ]
  },
  {
   "cell_type": "code",
   "execution_count": 95,
   "id": "67d8949f",
   "metadata": {},
   "outputs": [],
   "source": [
    "from sklearn.ensemble import ExtraTreesClassifier\n",
    "from sklearn.linear_model import LogisticRegression\n",
    "from sklearn.svm import SVC\n",
    "from sklearn.ensemble import GradientBoostingClassifier, AdaBoostClassifier, BaggingClassifier\n",
    "from sklearn.metrics import classification_report, confusion_matrix, roc_curve,accuracy_score\n",
    "from sklearn.metrics import roc_auc_score"
   ]
  },
  {
   "cell_type": "markdown",
   "id": "0d441a37",
   "metadata": {},
   "source": [
    "RandomForestClassifier"
   ]
  },
  {
   "cell_type": "code",
   "execution_count": 96,
   "id": "b125e7d0",
   "metadata": {},
   "outputs": [
    {
     "name": "stdout",
     "output_type": "stream",
     "text": [
      "89.43396226415095\n",
      "[[ 7  2  0  0  0  0  0  1]\n",
      " [ 0 60  1  2  0  0  0  1]\n",
      " [ 1  3  6  6  0  2  0  0]\n",
      " [ 0  5  0 76  0  0  0  0]\n",
      " [ 0  2  0  0  0  0  0  0]\n",
      " [ 0  0  1  1  0  3  0  0]\n",
      " [ 0  0  0  0  0  0 47  0]\n",
      " [ 0  0  0  0  0  0  0 38]]\n",
      "              precision    recall  f1-score   support\n",
      "\n",
      "           0       0.88      0.70      0.78        10\n",
      "           1       0.83      0.94      0.88        64\n",
      "           2       0.75      0.33      0.46        18\n",
      "           3       0.89      0.94      0.92        81\n",
      "           4       0.00      0.00      0.00         2\n",
      "           5       0.60      0.60      0.60         5\n",
      "           6       1.00      1.00      1.00        47\n",
      "           7       0.95      1.00      0.97        38\n",
      "\n",
      "    accuracy                           0.89       265\n",
      "   macro avg       0.74      0.69      0.70       265\n",
      "weighted avg       0.88      0.89      0.88       265\n",
      "\n"
     ]
    }
   ],
   "source": [
    "# Checking accuracy score for RandomForestClassifier\n",
    "rs = RandomForestClassifier()\n",
    "rs.fit(x_train,y_train)\n",
    "predc = rs.predict(x_test)\n",
    "print((accuracy_score(y_test,predc))*100)\n",
    "print(confusion_matrix(y_test, predc))\n",
    "print(classification_report(y_test,predc))"
   ]
  },
  {
   "cell_type": "markdown",
   "id": "4322d072",
   "metadata": {},
   "source": [
    "logisticregression"
   ]
  },
  {
   "cell_type": "code",
   "execution_count": 97,
   "id": "754c40c0",
   "metadata": {},
   "outputs": [
    {
     "name": "stdout",
     "output_type": "stream",
     "text": [
      "60.0\n",
      "[[ 0  2  0  0  0  0  6  2]\n",
      " [ 0 14  0 40  0  0  4  6]\n",
      " [ 0  4  0 12  0  0  1  1]\n",
      " [ 0  7  0 74  0  0  0  0]\n",
      " [ 0  0  0  2  0  0  0  0]\n",
      " [ 0  0  0  5  0  0  0  0]\n",
      " [ 0  6  0  0  0  0 33  8]\n",
      " [ 0  0  0  0  0  0  0 38]]\n",
      "              precision    recall  f1-score   support\n",
      "\n",
      "           0       0.00      0.00      0.00        10\n",
      "           1       0.42      0.22      0.29        64\n",
      "           2       0.00      0.00      0.00        18\n",
      "           3       0.56      0.91      0.69        81\n",
      "           4       0.00      0.00      0.00         2\n",
      "           5       0.00      0.00      0.00         5\n",
      "           6       0.75      0.70      0.73        47\n",
      "           7       0.69      1.00      0.82        38\n",
      "\n",
      "    accuracy                           0.60       265\n",
      "   macro avg       0.30      0.35      0.32       265\n",
      "weighted avg       0.50      0.60      0.53       265\n",
      "\n"
     ]
    }
   ],
   "source": [
    "#Checking accuracy score for logisticregression\n",
    "ls = LogisticRegression()\n",
    "ls.fit(x_train,y_train)\n",
    "predd = ls.predict(x_test)\n",
    "print(accuracy_score(y_test,predd)*100)\n",
    "print(confusion_matrix(y_test,predd))\n",
    "print(classification_report(y_test,predd))"
   ]
  },
  {
   "cell_type": "markdown",
   "id": "c251895e",
   "metadata": {},
   "source": [
    "Support Vector Machine"
   ]
  },
  {
   "cell_type": "code",
   "execution_count": 98,
   "id": "599821cc",
   "metadata": {},
   "outputs": [
    {
     "name": "stdout",
     "output_type": "stream",
     "text": [
      "44.905660377358494\n",
      "[[ 0  0  0  0  0  0  0 10]\n",
      " [ 0  0  0 46  0  0  0 18]\n",
      " [ 0  0  0 16  0  0  0  2]\n",
      " [ 0  0  0 81  0  0  0  0]\n",
      " [ 0  0  0  2  0  0  0  0]\n",
      " [ 0  0  0  5  0  0  0  0]\n",
      " [ 0  0  0  2  0  0  0 45]\n",
      " [ 0  0  0  0  0  0  0 38]]\n",
      "              precision    recall  f1-score   support\n",
      "\n",
      "           0       0.00      0.00      0.00        10\n",
      "           1       0.00      0.00      0.00        64\n",
      "           2       0.00      0.00      0.00        18\n",
      "           3       0.53      1.00      0.70        81\n",
      "           4       0.00      0.00      0.00         2\n",
      "           5       0.00      0.00      0.00         5\n",
      "           6       0.00      0.00      0.00        47\n",
      "           7       0.34      1.00      0.50        38\n",
      "\n",
      "    accuracy                           0.45       265\n",
      "   macro avg       0.11      0.25      0.15       265\n",
      "weighted avg       0.21      0.45      0.28       265\n",
      "\n"
     ]
    }
   ],
   "source": [
    "sv = SVC()\n",
    "sv.fit(x_train,y_train)\n",
    "predd = sv.predict(x_test)\n",
    "print(accuracy_score(y_test,predd)*100)\n",
    "print(confusion_matrix(y_test,predd))\n",
    "print(classification_report(y_test,predd))"
   ]
  },
  {
   "cell_type": "markdown",
   "id": "066b8603",
   "metadata": {},
   "source": [
    "GradientBoosting Classifier"
   ]
  },
  {
   "cell_type": "code",
   "execution_count": 99,
   "id": "db85b7e2",
   "metadata": {},
   "outputs": [
    {
     "name": "stdout",
     "output_type": "stream",
     "text": [
      "90.9433962264151\n",
      "[[ 7  3  0  0  0  0  0  0]\n",
      " [ 0 60  1  1  2  0  0  0]\n",
      " [ 1  3 10  3  0  1  0  0]\n",
      " [ 0  3  1 76  1  0  0  0]\n",
      " [ 0  2  0  0  0  0  0  0]\n",
      " [ 0  0  0  1  1  3  0  0]\n",
      " [ 0  0  0  0  0  0 47  0]\n",
      " [ 0  0  0  0  0  0  0 38]]\n",
      "              precision    recall  f1-score   support\n",
      "\n",
      "           0       0.88      0.70      0.78        10\n",
      "           1       0.85      0.94      0.89        64\n",
      "           2       0.83      0.56      0.67        18\n",
      "           3       0.94      0.94      0.94        81\n",
      "           4       0.00      0.00      0.00         2\n",
      "           5       0.75      0.60      0.67         5\n",
      "           6       1.00      1.00      1.00        47\n",
      "           7       1.00      1.00      1.00        38\n",
      "\n",
      "    accuracy                           0.91       265\n",
      "   macro avg       0.78      0.72      0.74       265\n",
      "weighted avg       0.92      0.91      0.91       265\n",
      "\n"
     ]
    }
   ],
   "source": [
    "gd = GradientBoostingClassifier()\n",
    "gd.fit(x_train,y_train)\n",
    "predd = gd.predict(x_test)\n",
    "print(accuracy_score(y_test,predd)*100)\n",
    "print(confusion_matrix(y_test,predd))\n",
    "print(classification_report(y_test,predd))"
   ]
  },
  {
   "cell_type": "markdown",
   "id": "4333e348",
   "metadata": {},
   "source": [
    "Ada Boost Classifier"
   ]
  },
  {
   "cell_type": "code",
   "execution_count": 100,
   "id": "db135405",
   "metadata": {},
   "outputs": [
    {
     "name": "stdout",
     "output_type": "stream",
     "text": [
      "49.81132075471698\n",
      "[[ 0  2  0  8  0  0  0  0]\n",
      " [ 0  5  0 59  0  0  0  0]\n",
      " [ 0  0  0 18  0  0  0  0]\n",
      " [ 0  0  0 81  0  0  0  0]\n",
      " [ 0  0  0  2  0  0  0  0]\n",
      " [ 0  0  0  5  0  0  0  0]\n",
      " [ 0  0  0  1  0  0 46  0]\n",
      " [ 0 38  0  0  0  0  0  0]]\n",
      "              precision    recall  f1-score   support\n",
      "\n",
      "           0       0.00      0.00      0.00        10\n",
      "           1       0.11      0.08      0.09        64\n",
      "           2       0.00      0.00      0.00        18\n",
      "           3       0.47      1.00      0.64        81\n",
      "           4       0.00      0.00      0.00         2\n",
      "           5       0.00      0.00      0.00         5\n",
      "           6       1.00      0.98      0.99        47\n",
      "           7       0.00      0.00      0.00        38\n",
      "\n",
      "    accuracy                           0.50       265\n",
      "   macro avg       0.20      0.26      0.21       265\n",
      "weighted avg       0.35      0.50      0.39       265\n",
      "\n"
     ]
    }
   ],
   "source": [
    "ad = AdaBoostClassifier()\n",
    "ad.fit(x_train,y_train)\n",
    "predd = ad.predict(x_test)\n",
    "print(accuracy_score(y_test,predd)*100)\n",
    "print(confusion_matrix(y_test,predd))\n",
    "print(classification_report(y_test,predd))"
   ]
  },
  {
   "cell_type": "markdown",
   "id": "34b1d64e",
   "metadata": {},
   "source": [
    "Bagging Classifier"
   ]
  },
  {
   "cell_type": "code",
   "execution_count": 101,
   "id": "5674f333",
   "metadata": {},
   "outputs": [
    {
     "name": "stdout",
     "output_type": "stream",
     "text": [
      "86.41509433962264\n",
      "[[ 7  3  0  0  0  0  0  0]\n",
      " [ 0 59  0  3  0  2  0  0]\n",
      " [ 1  5  4  6  0  2  0  0]\n",
      " [ 0  7  2 72  0  0  0  0]\n",
      " [ 0  1  0  1  0  0  0  0]\n",
      " [ 0  0  0  1  1  3  0  0]\n",
      " [ 0  0  0  0  0  0 46  1]\n",
      " [ 0  0  0  0  0  0  0 38]]\n",
      "              precision    recall  f1-score   support\n",
      "\n",
      "           0       0.88      0.70      0.78        10\n",
      "           1       0.79      0.92      0.85        64\n",
      "           2       0.67      0.22      0.33        18\n",
      "           3       0.87      0.89      0.88        81\n",
      "           4       0.00      0.00      0.00         2\n",
      "           5       0.43      0.60      0.50         5\n",
      "           6       1.00      0.98      0.99        47\n",
      "           7       0.97      1.00      0.99        38\n",
      "\n",
      "    accuracy                           0.86       265\n",
      "   macro avg       0.70      0.66      0.66       265\n",
      "weighted avg       0.86      0.86      0.85       265\n",
      "\n"
     ]
    }
   ],
   "source": [
    "bg = BaggingClassifier()\n",
    "bg.fit(x_train,y_train)\n",
    "predd = bg.predict(x_test)\n",
    "print(accuracy_score(y_test,predd)*100)\n",
    "print(confusion_matrix(y_test,predd))\n",
    "print(classification_report(y_test,predd))"
   ]
  },
  {
   "cell_type": "markdown",
   "id": "8ed382ce",
   "metadata": {},
   "source": [
    "Extra Tress Classfier"
   ]
  },
  {
   "cell_type": "code",
   "execution_count": 102,
   "id": "a4a0f541",
   "metadata": {},
   "outputs": [
    {
     "name": "stdout",
     "output_type": "stream",
     "text": [
      "88.30188679245283\n",
      "[[ 7  2  0  0  0  0  0  1]\n",
      " [ 0 59  0  2  0  1  0  2]\n",
      " [ 1  3  5  6  0  2  0  1]\n",
      " [ 0  5  1 75  0  0  0  0]\n",
      " [ 0  2  0  0  0  0  0  0]\n",
      " [ 0  0  1  1  0  3  0  0]\n",
      " [ 0  0  0  0  0  0 47  0]\n",
      " [ 0  0  0  0  0  0  0 38]]\n",
      "              precision    recall  f1-score   support\n",
      "\n",
      "           0       0.88      0.70      0.78        10\n",
      "           1       0.83      0.92      0.87        64\n",
      "           2       0.71      0.28      0.40        18\n",
      "           3       0.89      0.93      0.91        81\n",
      "           4       0.00      0.00      0.00         2\n",
      "           5       0.50      0.60      0.55         5\n",
      "           6       1.00      1.00      1.00        47\n",
      "           7       0.90      1.00      0.95        38\n",
      "\n",
      "    accuracy                           0.88       265\n",
      "   macro avg       0.71      0.68      0.68       265\n",
      "weighted avg       0.87      0.88      0.87       265\n",
      "\n"
     ]
    }
   ],
   "source": [
    "ex = ExtraTreesClassifier()\n",
    "ex.fit(x_train,y_train)\n",
    "predd = ex.predict(x_test)\n",
    "print(accuracy_score(y_test,predd)*100)\n",
    "print(confusion_matrix(y_test,predd))\n",
    "print(classification_report(y_test,predd))"
   ]
  },
  {
   "cell_type": "markdown",
   "id": "374fca19",
   "metadata": {},
   "source": [
    "Cross validating all the scores and choosing best model."
   ]
  },
  {
   "cell_type": "code",
   "execution_count": 103,
   "id": "b07628ad",
   "metadata": {},
   "outputs": [
    {
     "name": "stdout",
     "output_type": "stream",
     "text": [
      "[0.85310734 0.84180791 0.88636364 0.82954545 0.83522727]\n",
      "0.8492103235747303\n",
      "Difference between Accuracy Score and cross validation score is -  0.045129299066779205\n"
     ]
    }
   ],
   "source": [
    "from sklearn.model_selection import  cross_val_score\n",
    "# cross validation score for Random Forest Classifier\n",
    "score = cross_val_score(rs,x,y)\n",
    "print(score)\n",
    "print(score.mean())\n",
    "print(\"Difference between Accuracy Score and cross validation score is - \",accuracy_score(y_test, predc)-score.mean())"
   ]
  },
  {
   "cell_type": "code",
   "execution_count": 104,
   "id": "bbf8a5b9",
   "metadata": {},
   "outputs": [
    {
     "name": "stdout",
     "output_type": "stream",
     "text": [
      "[0.85310734 0.84180791 0.88636364 0.82954545 0.83522727]\n",
      "0.8492103235747303\n",
      "Difference between Accuracy Score and cross validation score is -  0.045129299066779205\n"
     ]
    }
   ],
   "source": [
    "# cross validation score for Logistic Regression\n",
    "score1 = cross_val_score(ls, x, y)\n",
    "print(score)\n",
    "print(score.mean())\n",
    "print(\"Difference between Accuracy Score and cross validation score is - \",accuracy_score(y_test, predc)-score.mean())"
   ]
  },
  {
   "cell_type": "code",
   "execution_count": 105,
   "id": "71771105",
   "metadata": {},
   "outputs": [
    {
     "name": "stdout",
     "output_type": "stream",
     "text": [
      "[0.85310734 0.84180791 0.88636364 0.82954545 0.83522727]\n",
      "0.8492103235747303\n",
      "Difference between Accuracy Score and cross validation score is -  0.045129299066779205\n"
     ]
    }
   ],
   "source": [
    "# cross validation score for Support Vector Machine\n",
    "score2 = cross_val_score(sv, x, y)\n",
    "print(score)\n",
    "print(score.mean())\n",
    "print(\"Difference between Accuracy Score and cross validation score is - \",accuracy_score(y_test, predc)-score.mean())"
   ]
  },
  {
   "cell_type": "code",
   "execution_count": 106,
   "id": "17c0404d",
   "metadata": {},
   "outputs": [
    {
     "name": "stdout",
     "output_type": "stream",
     "text": [
      "[0.85310734 0.84180791 0.88636364 0.82954545 0.83522727]\n",
      "0.8492103235747303\n",
      "Difference between Accuracy Score and cross validation score is -  0.045129299066779205\n"
     ]
    }
   ],
   "source": [
    "# cross validation score for GradientBoosting Classifier\n",
    "score3 = cross_val_score(gd, x, y)\n",
    "print(score)\n",
    "print(score.mean())\n",
    "print(\"Difference between Accuracy Score and cross validation score is - \",accuracy_score(y_test, predc)-score.mean())"
   ]
  },
  {
   "cell_type": "code",
   "execution_count": 107,
   "id": "7171767f",
   "metadata": {},
   "outputs": [
    {
     "name": "stdout",
     "output_type": "stream",
     "text": [
      "[0.85310734 0.84180791 0.88636364 0.82954545 0.83522727]\n",
      "0.8492103235747303\n",
      "Difference between Accuracy Score and cross validation score is -  0.045129299066779205\n"
     ]
    }
   ],
   "source": [
    "# cross validation score for Ada Boost Classifier\n",
    "score4 = cross_val_score(ad, x, y)\n",
    "print(score)\n",
    "print(score.mean())\n",
    "print(\"Difference between Accuracy Score and cross validation score is - \",accuracy_score(y_test, predc)-score.mean())"
   ]
  },
  {
   "cell_type": "code",
   "execution_count": 108,
   "id": "c49f5a61",
   "metadata": {},
   "outputs": [
    {
     "name": "stdout",
     "output_type": "stream",
     "text": [
      "[0.85310734 0.84180791 0.88636364 0.82954545 0.83522727]\n",
      "0.8492103235747303\n",
      "Difference between Accuracy Score and cross validation score is -  0.045129299066779205\n"
     ]
    }
   ],
   "source": [
    "# cross validation score for Bagging Classifier\n",
    "score5 = cross_val_score(bg, x, y)\n",
    "print(score)\n",
    "print(score.mean())\n",
    "print(\"Difference between Accuracy Score and cross validation score is - \",accuracy_score(y_test, predc)-score.mean())"
   ]
  },
  {
   "cell_type": "code",
   "execution_count": 109,
   "id": "5c02c9a7",
   "metadata": {},
   "outputs": [
    {
     "name": "stdout",
     "output_type": "stream",
     "text": [
      "[0.85310734 0.84180791 0.88636364 0.82954545 0.83522727]\n",
      "0.8492103235747303\n",
      "Difference between Accuracy Score and cross validation score is -  0.045129299066779205\n"
     ]
    }
   ],
   "source": [
    "# cross validation score for Etra Tree Classifier\n",
    "score6 = cross_val_score(ex, x, y)\n",
    "print(score)\n",
    "print(score.mean())\n",
    "print(\"Difference between Accuracy Score and cross validation score is - \",accuracy_score(y_test, predc)-score.mean())"
   ]
  },
  {
   "cell_type": "markdown",
   "id": "2cf4ff6f",
   "metadata": {},
   "source": [
    "By evaluating the cross validation scores for all the classification algorithm we conclude that RandomForestClassifier is the best algorithm since the differnece between accuracy score and validation score is least"
   ]
  },
  {
   "cell_type": "markdown",
   "id": "8b1d20fd",
   "metadata": {},
   "source": [
    "#### Hyperparameter tuning"
   ]
  },
  {
   "cell_type": "code",
   "execution_count": 110,
   "id": "7af9f5e8",
   "metadata": {},
   "outputs": [],
   "source": [
    "param={\n",
    "    'criterion' : [\"gini\", \"entropy\"],\n",
    "    'n_estimators':[100,50],\n",
    "    'min_samples_split':[2,3],\n",
    "     'random_state':[10,15]              \n",
    "}"
   ]
  },
  {
   "cell_type": "code",
   "execution_count": 111,
   "id": "789453af",
   "metadata": {},
   "outputs": [],
   "source": [
    "rfc_grid=GridSearchCV(RandomForestClassifier(),param,cv=4,scoring='accuracy',n_jobs=-1,verbose=2)"
   ]
  },
  {
   "cell_type": "code",
   "execution_count": 112,
   "id": "70446951",
   "metadata": {},
   "outputs": [
    {
     "name": "stdout",
     "output_type": "stream",
     "text": [
      "Fitting 4 folds for each of 16 candidates, totalling 64 fits\n",
      "Accuracy after parameter tuning:: 0.8905660377358491\n"
     ]
    }
   ],
   "source": [
    "rfc_grid.fit(x_train,y_train)\n",
    "rfc_pred=rfc_grid.best_estimator_.predict(x_test)\n",
    "print(\"Accuracy after parameter tuning::\",accuracy_score(y_test,rfc_pred))"
   ]
  },
  {
   "cell_type": "code",
   "execution_count": 113,
   "id": "49ac07a2",
   "metadata": {},
   "outputs": [
    {
     "data": {
      "text/plain": [
       "{'criterion': 'gini',\n",
       " 'min_samples_split': 3,\n",
       " 'n_estimators': 100,\n",
       " 'random_state': 10}"
      ]
     },
     "execution_count": 113,
     "metadata": {},
     "output_type": "execute_result"
    }
   ],
   "source": [
    "rfc_grid.best_params_"
   ]
  },
  {
   "cell_type": "code",
   "execution_count": 114,
   "id": "10d9025a",
   "metadata": {},
   "outputs": [],
   "source": [
    "bestparameters={\n",
    "    'criterion' : ['gini'],\n",
    "    'n_estimators':[200],\n",
    "    'min_samples_split':[2],\n",
    "     'random_state':[10]    }"
   ]
  },
  {
   "cell_type": "code",
   "execution_count": 115,
   "id": "e2fa890e",
   "metadata": {},
   "outputs": [],
   "source": [
    "best_rfc_grid=GridSearchCV(RandomForestClassifier(),bestparameters,cv=4,scoring='accuracy',n_jobs=-1,verbose=2)"
   ]
  },
  {
   "cell_type": "code",
   "execution_count": 121,
   "id": "86b77e2b",
   "metadata": {},
   "outputs": [
    {
     "name": "stdout",
     "output_type": "stream",
     "text": [
      "Fitting 4 folds for each of 1 candidates, totalling 4 fits\n",
      "Accuracy after parameter tuning: 0.8867924528301887\n"
     ]
    }
   ],
   "source": [
    "best_rfc_grid.fit(x_train,y_train)\n",
    "best_rfc_pred=best_rfc_grid.best_estimator_.predict(x_test)\n",
    "print(\"Accuracy after parameter tuning:\",accuracy_score(y_test,best_rfc_pred))"
   ]
  },
  {
   "cell_type": "code",
   "execution_count": 117,
   "id": "59b2d130",
   "metadata": {},
   "outputs": [
    {
     "name": "stdout",
     "output_type": "stream",
     "text": [
      "CLASSIFICATION REPORT:\n",
      "               precision    recall  f1-score   support\n",
      "\n",
      "           0       0.88      0.70      0.78        10\n",
      "           1       0.81      0.92      0.86        64\n",
      "           2       1.00      0.17      0.29        18\n",
      "           3       0.89      0.95      0.92        81\n",
      "           4       0.00      0.00      0.00         2\n",
      "           5       0.57      0.80      0.67         5\n",
      "           6       1.00      1.00      1.00        47\n",
      "           7       0.95      1.00      0.97        38\n",
      "\n",
      "    accuracy                           0.89       265\n",
      "   macro avg       0.76      0.69      0.69       265\n",
      "weighted avg       0.89      0.89      0.87       265\n",
      "\n"
     ]
    }
   ],
   "source": [
    "print(\"CLASSIFICATION REPORT:\\n\",classification_report(y_test,best_rfc_pred))"
   ]
  },
  {
   "cell_type": "code",
   "execution_count": 118,
   "id": "92ecc5e8",
   "metadata": {},
   "outputs": [
    {
     "data": {
      "text/plain": [
       "<AxesSubplot:>"
      ]
     },
     "execution_count": 118,
     "metadata": {},
     "output_type": "execute_result"
    },
    {
     "data": {
      "image/png": "[encoded data removed]",
      "text/plain": [
       "<Figure size 640x480 with 2 Axes>"
      ]
     },
     "metadata": {},
     "output_type": "display_data"
    }
   ],
   "source": [
    "cls_report = classification_report(y_test,best_rfc_pred,output_dict=True)\n",
    "sns.heatmap(pd.DataFrame(cls_report).T, annot=True, linewidth = 0.1)"
   ]
  },
  {
   "cell_type": "code",
   "execution_count": 119,
   "id": "032e798b",
   "metadata": {},
   "outputs": [
    {
     "name": "stdout",
     "output_type": "stream",
     "text": [
      "Fitting 4 folds for each of 1 candidates, totalling 4 fits\n",
      "One-vs-One ROC AUC scores:\n",
      "0.946279 (macro),\n",
      "0.956702 (weighted by prevalence)\n",
      "========================================\n",
      "One-vs-Rest ROC AUC scores:\n",
      "0.958985 (macro),\n",
      "0.979502 (weighted by prevalence)\n"
     ]
    }
   ],
   "source": [
    "y_prob = best_rfc_grid.fit(x_train,y_train).predict_proba(x_test)\n",
    "\n",
    "macro_roc_auc_ovo = roc_auc_score(y_test, y_prob, multi_class=\"ovo\", average=\"macro\")\n",
    "weighted_roc_auc_ovo = roc_auc_score(y_test, y_prob, multi_class=\"ovo\", average=\"weighted\")\n",
    "macro_roc_auc_ovr = roc_auc_score(y_test, y_prob, multi_class=\"ovr\", average=\"macro\")\n",
    "weighted_roc_auc_ovr = roc_auc_score(y_test, y_prob, multi_class=\"ovr\", average=\"weighted\")\n",
    "print(\"One-vs-One ROC AUC scores:\\n{:.6f} (macro),\\n{:.6f} \"\n",
    "      \"(weighted by prevalence)\"\n",
    "      .format(macro_roc_auc_ovo, weighted_roc_auc_ovo))\n",
    "print(\"=\"*40)\n",
    "print(\"One-vs-Rest ROC AUC scores:\\n{:.6f} (macro),\\n{:.6f} \"\n",
    "      \"(weighted by prevalence)\"\n",
    "      .format(macro_roc_auc_ovr, weighted_roc_auc_ovr))"
   ]
  },
  {
   "cell_type": "code",
   "execution_count": 122,
   "id": "1e68c692",
   "metadata": {},
   "outputs": [
    {
     "data": {
      "text/plain": [
       "['primary_fuel.pkl']"
      ]
     },
     "execution_count": 122,
     "metadata": {},
     "output_type": "execute_result"
    }
   ],
   "source": [
    "#saving the model using .pkl\n",
    "import joblib\n",
    "joblib.dump(best_rfc_grid,\"primary_fuel.pkl\")\n"
   ]
  },
  {
   "cell_type": "code",
   "execution_count": 123,
   "id": "5e6dbabf",
   "metadata": {},
   "outputs": [
    {
     "data": {
      "text/plain": [
       "array([1, 3, 1, 1, 1, 6, 7, 3, 6, 0, 3, 1, 3, 3, 1, 3, 1, 3, 5, 0, 3, 6,\n",
       "       6, 3, 1, 1, 7, 7, 3, 7, 6, 1, 1, 3, 3, 3, 3, 7, 7, 5, 1, 3, 7, 6,\n",
       "       1, 3, 1, 1, 3, 7, 1, 3, 6, 3, 6, 6, 3, 3, 3, 6, 1, 7, 3, 3, 1, 6,\n",
       "       6, 3, 1, 1, 3, 6, 1, 3, 0, 3, 6, 1, 1, 1, 3, 3, 1, 7, 6, 7, 3, 3,\n",
       "       1, 3, 3, 1, 5, 7, 0, 3, 6, 5, 1, 1, 7, 5, 6, 3, 3, 1, 7, 7, 3, 3,\n",
       "       0, 1, 3, 7, 6, 7, 7, 6, 3, 1, 3, 6, 3, 3, 6, 7, 7, 1, 3, 3, 6, 1,\n",
       "       1, 3, 6, 1, 6, 3, 6, 7, 1, 3, 6, 1, 1, 1, 3, 6, 1, 0, 5, 7, 1, 3,\n",
       "       3, 1, 1, 3, 3, 1, 7, 3, 3, 7, 3, 6, 7, 7, 7, 7, 3, 7, 3, 1, 6, 6,\n",
       "       6, 1, 7, 3, 1, 3, 3, 1, 3, 3, 2, 3, 1, 6, 1, 5, 1, 6, 1, 7, 0, 3,\n",
       "       3, 1, 3, 6, 1, 1, 1, 6, 3, 3, 7, 6, 6, 3, 3, 2, 6, 6, 1, 1, 3, 7,\n",
       "       6, 3, 1, 3, 3, 6, 7, 6, 7, 1, 1, 1, 7, 3, 1, 7, 1, 1, 2, 1, 1, 6,\n",
       "       6, 3, 3, 1, 3, 3, 3, 7, 7, 0, 3, 1, 3, 6, 1, 3, 6, 3, 3, 1, 1, 7,\n",
       "       6])"
      ]
     },
     "execution_count": 123,
     "metadata": {},
     "output_type": "execute_result"
    }
   ],
   "source": [
    "#predicting the saved model\n",
    "model = joblib.load(\"primary_fuel.pkl\")\n",
    "\n",
    "#prediction\n",
    "prediction = model.predict(x_test)\n",
    "prediction"
   ]
  },
  {
   "cell_type": "code",
   "execution_count": 124,
   "id": "1c9c357e",
   "metadata": {},
   "outputs": [],
   "source": [
    "a = np.array(y_test)\n",
    "df = pd.DataFrame()\n",
    "df['Predicted'] = prediction\n",
    "df['Original'] = a"
   ]
  },
  {
   "cell_type": "code",
   "execution_count": 125,
   "id": "ddcd0915",
   "metadata": {},
   "outputs": [
    {
     "data": {
      "text/html": [
       "<div>\n",
       "<style scoped>\n",
       "    .dataframe tbody tr th:only-of-type {\n",
       "        vertical-align: middle;\n",
       "    }\n",
       "\n",
       "    .dataframe tbody tr th {\n",
       "        vertical-align: top;\n",
       "    }\n",
       "\n",
       "    .dataframe thead th {\n",
       "        text-align: right;\n",
       "    }\n",
       "</style>\n",
       "<table border=\"1\" class=\"dataframe\">\n",
       "  <thead>\n",
       "    <tr style=\"text-align: right;\">\n",
       "      <th></th>\n",
       "      <th>Predicted</th>\n",
       "      <th>Original</th>\n",
       "    </tr>\n",
       "  </thead>\n",
       "  <tbody>\n",
       "    <tr>\n",
       "      <th>0</th>\n",
       "      <td>1</td>\n",
       "      <td>1</td>\n",
       "    </tr>\n",
       "    <tr>\n",
       "      <th>1</th>\n",
       "      <td>3</td>\n",
       "      <td>3</td>\n",
       "    </tr>\n",
       "    <tr>\n",
       "      <th>2</th>\n",
       "      <td>1</td>\n",
       "      <td>1</td>\n",
       "    </tr>\n",
       "    <tr>\n",
       "      <th>3</th>\n",
       "      <td>1</td>\n",
       "      <td>1</td>\n",
       "    </tr>\n",
       "    <tr>\n",
       "      <th>4</th>\n",
       "      <td>1</td>\n",
       "      <td>2</td>\n",
       "    </tr>\n",
       "    <tr>\n",
       "      <th>...</th>\n",
       "      <td>...</td>\n",
       "      <td>...</td>\n",
       "    </tr>\n",
       "    <tr>\n",
       "      <th>260</th>\n",
       "      <td>3</td>\n",
       "      <td>3</td>\n",
       "    </tr>\n",
       "    <tr>\n",
       "      <th>261</th>\n",
       "      <td>1</td>\n",
       "      <td>1</td>\n",
       "    </tr>\n",
       "    <tr>\n",
       "      <th>262</th>\n",
       "      <td>1</td>\n",
       "      <td>1</td>\n",
       "    </tr>\n",
       "    <tr>\n",
       "      <th>263</th>\n",
       "      <td>7</td>\n",
       "      <td>7</td>\n",
       "    </tr>\n",
       "    <tr>\n",
       "      <th>264</th>\n",
       "      <td>6</td>\n",
       "      <td>6</td>\n",
       "    </tr>\n",
       "  </tbody>\n",
       "</table>\n",
       "<p>265 rows × 2 columns</p>\n",
       "</div>"
      ],
      "text/plain": [
       "     Predicted  Original\n",
       "0            1         1\n",
       "1            3         3\n",
       "2            1         1\n",
       "3            1         1\n",
       "4            1         2\n",
       "..         ...       ...\n",
       "260          3         3\n",
       "261          1         1\n",
       "262          1         1\n",
       "263          7         7\n",
       "264          6         6\n",
       "\n",
       "[265 rows x 2 columns]"
      ]
     },
     "execution_count": 125,
     "metadata": {},
     "output_type": "execute_result"
    }
   ],
   "source": [
    "df"
   ]
  }
 ],
 "metadata": {
  "kernelspec": {
   "display_name": "Python 3 (ipykernel)",
   "language": "python",
   "name": "python3"
  },
  "language_info": {
   "codemirror_mode": {
    "name": "ipython",
    "version": 3
   },
   "file_extension": ".py",
   "mimetype": "text/x-python",
   "name": "python",
   "nbconvert_exporter": "python",
   "pygments_lexer": "ipython3",
   "version": "3.9.13"
  }
 },
 "nbformat": 4,
 "nbformat_minor": 5
}
